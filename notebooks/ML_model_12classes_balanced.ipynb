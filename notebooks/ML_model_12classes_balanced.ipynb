{
  "nbformat": 4,
  "nbformat_minor": 0,
  "metadata": {
    "colab": {
      "name": "ML_model_12classest_balanced.ipynb",
      "provenance": [],
      "collapsed_sections": [],
      "toc_visible": true
    },
    "kernelspec": {
      "display_name": "Python 3",
      "name": "python3"
    },
    "language_info": {
      "name": "python"
    }
  },
  "cells": [
    {
      "cell_type": "markdown",
      "metadata": {
        "id": "XfJYQZNpCXki"
      },
      "source": [
        "# 1. load drive and install and load dependencies"
      ]
    },
    {
      "cell_type": "code",
      "metadata": {
        "colab": {
          "base_uri": "https://localhost:8080/"
        },
        "id": "0P-SqfmQmXjs",
        "outputId": "a60e9f01-2df5-4512-d0a9-00365b98dd70"
      },
      "source": [
        "#Start by connecting gdrive into the google colab\n",
        "\n",
        "from google.colab import drive\n",
        "drive.mount('/content/gdrive')"
      ],
      "execution_count": 1,
      "outputs": [
        {
          "output_type": "stream",
          "name": "stdout",
          "text": [
            "Mounted at /content/gdrive\n"
          ]
        }
      ]
    },
    {
      "cell_type": "code",
      "metadata": {
        "id": "oB-kdX5RCGbK",
        "colab": {
          "base_uri": "https://localhost:8080/"
        },
        "outputId": "0cd60547-3da0-4a31-cfbf-b81ea02192c7"
      },
      "source": [
        "!pip install pycaret"
      ],
      "execution_count": 2,
      "outputs": [
        {
          "output_type": "stream",
          "name": "stdout",
          "text": [
            "Collecting pycaret\n",
            "  Downloading pycaret-2.3.4-py3-none-any.whl (266 kB)\n",
            "\u001b[?25l\r\u001b[K     |█▎                              | 10 kB 14.6 MB/s eta 0:00:01\r\u001b[K     |██▌                             | 20 kB 18.1 MB/s eta 0:00:01\r\u001b[K     |███▊                            | 30 kB 21.7 MB/s eta 0:00:01\r\u001b[K     |█████                           | 40 kB 24.7 MB/s eta 0:00:01\r\u001b[K     |██████▏                         | 51 kB 21.2 MB/s eta 0:00:01\r\u001b[K     |███████▍                        | 61 kB 12.5 MB/s eta 0:00:01\r\u001b[K     |████████▋                       | 71 kB 12.4 MB/s eta 0:00:01\r\u001b[K     |█████████▉                      | 81 kB 13.1 MB/s eta 0:00:01\r\u001b[K     |███████████                     | 92 kB 13.8 MB/s eta 0:00:01\r\u001b[K     |████████████▎                   | 102 kB 14.8 MB/s eta 0:00:01\r\u001b[K     |█████████████▌                  | 112 kB 14.8 MB/s eta 0:00:01\r\u001b[K     |██████████████▊                 | 122 kB 14.8 MB/s eta 0:00:01\r\u001b[K     |████████████████                | 133 kB 14.8 MB/s eta 0:00:01\r\u001b[K     |█████████████████▎              | 143 kB 14.8 MB/s eta 0:00:01\r\u001b[K     |██████████████████▌             | 153 kB 14.8 MB/s eta 0:00:01\r\u001b[K     |███████████████████▊            | 163 kB 14.8 MB/s eta 0:00:01\r\u001b[K     |█████████████████████           | 174 kB 14.8 MB/s eta 0:00:01\r\u001b[K     |██████████████████████▏         | 184 kB 14.8 MB/s eta 0:00:01\r\u001b[K     |███████████████████████▍        | 194 kB 14.8 MB/s eta 0:00:01\r\u001b[K     |████████████████████████▋       | 204 kB 14.8 MB/s eta 0:00:01\r\u001b[K     |█████████████████████████▉      | 215 kB 14.8 MB/s eta 0:00:01\r\u001b[K     |███████████████████████████     | 225 kB 14.8 MB/s eta 0:00:01\r\u001b[K     |████████████████████████████▎   | 235 kB 14.8 MB/s eta 0:00:01\r\u001b[K     |█████████████████████████████▌  | 245 kB 14.8 MB/s eta 0:00:01\r\u001b[K     |██████████████████████████████▊ | 256 kB 14.8 MB/s eta 0:00:01\r\u001b[K     |████████████████████████████████| 266 kB 14.8 MB/s eta 0:00:01\r\u001b[K     |████████████████████████████████| 266 kB 14.8 MB/s \n",
            "\u001b[?25hRequirement already satisfied: textblob in /usr/local/lib/python3.7/dist-packages (from pycaret) (0.15.3)\n",
            "Collecting pandas-profiling>=2.8.0\n",
            "  Downloading pandas_profiling-3.1.0-py2.py3-none-any.whl (261 kB)\n",
            "\u001b[K     |████████████████████████████████| 261 kB 49.1 MB/s \n",
            "\u001b[?25hCollecting mlflow\n",
            "  Downloading mlflow-1.21.0-py3-none-any.whl (16.9 MB)\n",
            "\u001b[K     |████████████████████████████████| 16.9 MB 77 kB/s \n",
            "\u001b[?25hCollecting imbalanced-learn==0.7.0\n",
            "  Downloading imbalanced_learn-0.7.0-py3-none-any.whl (167 kB)\n",
            "\u001b[K     |████████████████████████████████| 167 kB 49.1 MB/s \n",
            "\u001b[?25hRequirement already satisfied: joblib in /usr/local/lib/python3.7/dist-packages (from pycaret) (1.1.0)\n",
            "Requirement already satisfied: numba<0.54 in /usr/local/lib/python3.7/dist-packages (from pycaret) (0.51.2)\n",
            "Collecting scikit-plot\n",
            "  Downloading scikit_plot-0.3.7-py3-none-any.whl (33 kB)\n",
            "Requirement already satisfied: seaborn in /usr/local/lib/python3.7/dist-packages (from pycaret) (0.11.2)\n",
            "Requirement already satisfied: gensim<4.0.0 in /usr/local/lib/python3.7/dist-packages (from pycaret) (3.6.0)\n",
            "Requirement already satisfied: spacy<2.4.0 in /usr/local/lib/python3.7/dist-packages (from pycaret) (2.2.4)\n",
            "Requirement already satisfied: matplotlib in /usr/local/lib/python3.7/dist-packages (from pycaret) (3.2.2)\n",
            "Requirement already satisfied: scipy<=1.5.4 in /usr/local/lib/python3.7/dist-packages (from pycaret) (1.4.1)\n",
            "Requirement already satisfied: plotly>=4.4.1 in /usr/local/lib/python3.7/dist-packages (from pycaret) (4.4.1)\n",
            "Collecting pyod\n",
            "  Downloading pyod-0.9.5.tar.gz (113 kB)\n",
            "\u001b[K     |████████████████████████████████| 113 kB 54.1 MB/s \n",
            "\u001b[?25hCollecting mlxtend>=0.17.0\n",
            "  Downloading mlxtend-0.19.0-py2.py3-none-any.whl (1.3 MB)\n",
            "\u001b[K     |████████████████████████████████| 1.3 MB 25.8 MB/s \n",
            "\u001b[?25hRequirement already satisfied: cufflinks>=0.17.0 in /usr/local/lib/python3.7/dist-packages (from pycaret) (0.17.3)\n",
            "Collecting Boruta\n",
            "  Downloading Boruta-0.3-py3-none-any.whl (56 kB)\n",
            "\u001b[K     |████████████████████████████████| 56 kB 2.9 MB/s \n",
            "\u001b[?25hRequirement already satisfied: numpy==1.19.5 in /usr/local/lib/python3.7/dist-packages (from pycaret) (1.19.5)\n",
            "Collecting umap-learn\n",
            "  Downloading umap-learn-0.5.2.tar.gz (86 kB)\n",
            "\u001b[K     |████████████████████████████████| 86 kB 5.7 MB/s \n",
            "\u001b[?25hCollecting pyLDAvis\n",
            "  Downloading pyLDAvis-3.3.1.tar.gz (1.7 MB)\n",
            "\u001b[K     |████████████████████████████████| 1.7 MB 37.4 MB/s \n",
            "\u001b[?25h  Installing build dependencies ... \u001b[?25l\u001b[?25hdone\n",
            "  Getting requirements to build wheel ... \u001b[?25l\u001b[?25hdone\n",
            "  Installing backend dependencies ... \u001b[?25l\u001b[?25hdone\n",
            "    Preparing wheel metadata ... \u001b[?25l\u001b[?25hdone\n",
            "Requirement already satisfied: pandas in /usr/local/lib/python3.7/dist-packages (from pycaret) (1.1.5)\n",
            "Collecting kmodes>=0.10.1\n",
            "  Downloading kmodes-0.11.1-py2.py3-none-any.whl (19 kB)\n",
            "Requirement already satisfied: IPython in /usr/local/lib/python3.7/dist-packages (from pycaret) (5.5.0)\n",
            "Collecting lightgbm>=2.3.1\n",
            "  Downloading lightgbm-3.3.1-py3-none-manylinux1_x86_64.whl (2.0 MB)\n",
            "\u001b[K     |████████████████████████████████| 2.0 MB 38.2 MB/s \n",
            "\u001b[?25hRequirement already satisfied: nltk in /usr/local/lib/python3.7/dist-packages (from pycaret) (3.2.5)\n",
            "Requirement already satisfied: wordcloud in /usr/local/lib/python3.7/dist-packages (from pycaret) (1.5.0)\n",
            "Collecting scikit-learn==0.23.2\n",
            "  Downloading scikit_learn-0.23.2-cp37-cp37m-manylinux1_x86_64.whl (6.8 MB)\n",
            "\u001b[K     |████████████████████████████████| 6.8 MB 50.5 MB/s \n",
            "\u001b[?25hRequirement already satisfied: ipywidgets in /usr/local/lib/python3.7/dist-packages (from pycaret) (7.6.5)\n",
            "Requirement already satisfied: yellowbrick>=1.0.1 in /usr/local/lib/python3.7/dist-packages (from pycaret) (1.3.post1)\n",
            "Requirement already satisfied: threadpoolctl>=2.0.0 in /usr/local/lib/python3.7/dist-packages (from scikit-learn==0.23.2->pycaret) (3.0.0)\n",
            "Requirement already satisfied: setuptools>=34.4.1 in /usr/local/lib/python3.7/dist-packages (from cufflinks>=0.17.0->pycaret) (57.4.0)\n",
            "Requirement already satisfied: colorlover>=0.2.1 in /usr/local/lib/python3.7/dist-packages (from cufflinks>=0.17.0->pycaret) (0.3.0)\n",
            "Requirement already satisfied: six>=1.9.0 in /usr/local/lib/python3.7/dist-packages (from cufflinks>=0.17.0->pycaret) (1.15.0)\n",
            "Requirement already satisfied: smart-open>=1.2.1 in /usr/local/lib/python3.7/dist-packages (from gensim<4.0.0->pycaret) (5.2.1)\n",
            "Requirement already satisfied: pickleshare in /usr/local/lib/python3.7/dist-packages (from IPython->pycaret) (0.7.5)\n",
            "Requirement already satisfied: pexpect in /usr/local/lib/python3.7/dist-packages (from IPython->pycaret) (4.8.0)\n",
            "Requirement already satisfied: simplegeneric>0.8 in /usr/local/lib/python3.7/dist-packages (from IPython->pycaret) (0.8.1)\n",
            "Requirement already satisfied: prompt-toolkit<2.0.0,>=1.0.4 in /usr/local/lib/python3.7/dist-packages (from IPython->pycaret) (1.0.18)\n",
            "Requirement already satisfied: traitlets>=4.2 in /usr/local/lib/python3.7/dist-packages (from IPython->pycaret) (5.1.1)\n",
            "Requirement already satisfied: pygments in /usr/local/lib/python3.7/dist-packages (from IPython->pycaret) (2.6.1)\n",
            "Requirement already satisfied: decorator in /usr/local/lib/python3.7/dist-packages (from IPython->pycaret) (4.4.2)\n",
            "Requirement already satisfied: jupyterlab-widgets>=1.0.0 in /usr/local/lib/python3.7/dist-packages (from ipywidgets->pycaret) (1.0.2)\n",
            "Requirement already satisfied: widgetsnbextension~=3.5.0 in /usr/local/lib/python3.7/dist-packages (from ipywidgets->pycaret) (3.5.2)\n",
            "Requirement already satisfied: ipython-genutils~=0.2.0 in /usr/local/lib/python3.7/dist-packages (from ipywidgets->pycaret) (0.2.0)\n",
            "Requirement already satisfied: nbformat>=4.2.0 in /usr/local/lib/python3.7/dist-packages (from ipywidgets->pycaret) (5.1.3)\n",
            "Requirement already satisfied: ipykernel>=4.5.1 in /usr/local/lib/python3.7/dist-packages (from ipywidgets->pycaret) (4.10.1)\n",
            "Requirement already satisfied: tornado>=4.0 in /usr/local/lib/python3.7/dist-packages (from ipykernel>=4.5.1->ipywidgets->pycaret) (5.1.1)\n",
            "Requirement already satisfied: jupyter-client in /usr/local/lib/python3.7/dist-packages (from ipykernel>=4.5.1->ipywidgets->pycaret) (5.3.5)\n",
            "Requirement already satisfied: wheel in /usr/local/lib/python3.7/dist-packages (from lightgbm>=2.3.1->pycaret) (0.37.0)\n",
            "Requirement already satisfied: cycler>=0.10 in /usr/local/lib/python3.7/dist-packages (from matplotlib->pycaret) (0.11.0)\n",
            "Requirement already satisfied: pyparsing!=2.0.4,!=2.1.2,!=2.1.6,>=2.0.1 in /usr/local/lib/python3.7/dist-packages (from matplotlib->pycaret) (2.4.7)\n",
            "Requirement already satisfied: python-dateutil>=2.1 in /usr/local/lib/python3.7/dist-packages (from matplotlib->pycaret) (2.8.2)\n",
            "Requirement already satisfied: kiwisolver>=1.0.1 in /usr/local/lib/python3.7/dist-packages (from matplotlib->pycaret) (1.3.2)\n",
            "Requirement already satisfied: jupyter-core in /usr/local/lib/python3.7/dist-packages (from nbformat>=4.2.0->ipywidgets->pycaret) (4.9.1)\n",
            "Requirement already satisfied: jsonschema!=2.5.0,>=2.4 in /usr/local/lib/python3.7/dist-packages (from nbformat>=4.2.0->ipywidgets->pycaret) (2.6.0)\n",
            "Requirement already satisfied: llvmlite<0.35,>=0.34.0.dev0 in /usr/local/lib/python3.7/dist-packages (from numba<0.54->pycaret) (0.34.0)\n",
            "Requirement already satisfied: pytz>=2017.2 in /usr/local/lib/python3.7/dist-packages (from pandas->pycaret) (2018.9)\n",
            "Collecting pydantic>=1.8.1\n",
            "  Downloading pydantic-1.8.2-cp37-cp37m-manylinux2014_x86_64.whl (10.1 MB)\n",
            "\u001b[K     |████████████████████████████████| 10.1 MB 55.0 MB/s \n",
            "\u001b[?25hRequirement already satisfied: markupsafe~=2.0.1 in /usr/local/lib/python3.7/dist-packages (from pandas-profiling>=2.8.0->pycaret) (2.0.1)\n",
            "Collecting htmlmin>=0.1.12\n",
            "  Downloading htmlmin-0.1.12.tar.gz (19 kB)\n",
            "Requirement already satisfied: missingno>=0.4.2 in /usr/local/lib/python3.7/dist-packages (from pandas-profiling>=2.8.0->pycaret) (0.5.0)\n",
            "Collecting tangled-up-in-unicode==0.1.0\n",
            "  Downloading tangled_up_in_unicode-0.1.0-py3-none-any.whl (3.1 MB)\n",
            "\u001b[K     |████████████████████████████████| 3.1 MB 48.2 MB/s \n",
            "\u001b[?25hCollecting multimethod>=1.4\n",
            "  Downloading multimethod-1.6-py3-none-any.whl (9.4 kB)\n",
            "Requirement already satisfied: jinja2>=2.11.1 in /usr/local/lib/python3.7/dist-packages (from pandas-profiling>=2.8.0->pycaret) (2.11.3)\n",
            "Collecting PyYAML>=5.0.0\n",
            "  Downloading PyYAML-6.0-cp37-cp37m-manylinux_2_5_x86_64.manylinux1_x86_64.manylinux_2_12_x86_64.manylinux2010_x86_64.whl (596 kB)\n",
            "\u001b[K     |████████████████████████████████| 596 kB 61.3 MB/s \n",
            "\u001b[?25hCollecting joblib\n",
            "  Downloading joblib-1.0.1-py3-none-any.whl (303 kB)\n",
            "\u001b[K     |████████████████████████████████| 303 kB 41.9 MB/s \n",
            "\u001b[?25hCollecting phik>=0.11.1\n",
            "  Downloading phik-0.12.0-cp37-cp37m-manylinux2010_x86_64.whl (675 kB)\n",
            "\u001b[K     |████████████████████████████████| 675 kB 58.5 MB/s \n",
            "\u001b[?25hCollecting requests>=2.24.0\n",
            "  Downloading requests-2.26.0-py2.py3-none-any.whl (62 kB)\n",
            "\u001b[K     |████████████████████████████████| 62 kB 795 kB/s \n",
            "\u001b[?25hRequirement already satisfied: tqdm>=4.48.2 in /usr/local/lib/python3.7/dist-packages (from pandas-profiling>=2.8.0->pycaret) (4.62.3)\n",
            "Collecting visions[type_image_path]==0.7.4\n",
            "  Downloading visions-0.7.4-py3-none-any.whl (102 kB)\n",
            "\u001b[K     |████████████████████████████████| 102 kB 10.3 MB/s \n",
            "\u001b[?25hRequirement already satisfied: attrs>=19.3.0 in /usr/local/lib/python3.7/dist-packages (from visions[type_image_path]==0.7.4->pandas-profiling>=2.8.0->pycaret) (21.2.0)\n",
            "Requirement already satisfied: networkx>=2.4 in /usr/local/lib/python3.7/dist-packages (from visions[type_image_path]==0.7.4->pandas-profiling>=2.8.0->pycaret) (2.6.3)\n",
            "Requirement already satisfied: Pillow in /usr/local/lib/python3.7/dist-packages (from visions[type_image_path]==0.7.4->pandas-profiling>=2.8.0->pycaret) (7.1.2)\n",
            "Collecting imagehash\n",
            "  Downloading ImageHash-4.2.1.tar.gz (812 kB)\n",
            "\u001b[K     |████████████████████████████████| 812 kB 50.8 MB/s \n",
            "\u001b[?25hCollecting scipy<=1.5.4\n",
            "  Downloading scipy-1.5.4-cp37-cp37m-manylinux1_x86_64.whl (25.9 MB)\n",
            "\u001b[K     |████████████████████████████████| 25.9 MB 1.9 MB/s \n",
            "\u001b[?25hRequirement already satisfied: retrying>=1.3.3 in /usr/local/lib/python3.7/dist-packages (from plotly>=4.4.1->pycaret) (1.3.3)\n",
            "Requirement already satisfied: wcwidth in /usr/local/lib/python3.7/dist-packages (from prompt-toolkit<2.0.0,>=1.0.4->IPython->pycaret) (0.2.5)\n",
            "Requirement already satisfied: typing-extensions>=3.7.4.3 in /usr/local/lib/python3.7/dist-packages (from pydantic>=1.8.1->pandas-profiling>=2.8.0->pycaret) (3.10.0.2)\n",
            "Requirement already satisfied: charset-normalizer~=2.0.0 in /usr/local/lib/python3.7/dist-packages (from requests>=2.24.0->pandas-profiling>=2.8.0->pycaret) (2.0.7)\n",
            "Requirement already satisfied: certifi>=2017.4.17 in /usr/local/lib/python3.7/dist-packages (from requests>=2.24.0->pandas-profiling>=2.8.0->pycaret) (2021.10.8)\n",
            "Requirement already satisfied: urllib3<1.27,>=1.21.1 in /usr/local/lib/python3.7/dist-packages (from requests>=2.24.0->pandas-profiling>=2.8.0->pycaret) (1.24.3)\n",
            "Requirement already satisfied: idna<4,>=2.5 in /usr/local/lib/python3.7/dist-packages (from requests>=2.24.0->pandas-profiling>=2.8.0->pycaret) (2.10)\n",
            "Requirement already satisfied: cymem<2.1.0,>=2.0.2 in /usr/local/lib/python3.7/dist-packages (from spacy<2.4.0->pycaret) (2.0.6)\n",
            "Requirement already satisfied: murmurhash<1.1.0,>=0.28.0 in /usr/local/lib/python3.7/dist-packages (from spacy<2.4.0->pycaret) (1.0.6)\n",
            "Requirement already satisfied: srsly<1.1.0,>=1.0.2 in /usr/local/lib/python3.7/dist-packages (from spacy<2.4.0->pycaret) (1.0.5)\n",
            "Requirement already satisfied: catalogue<1.1.0,>=0.0.7 in /usr/local/lib/python3.7/dist-packages (from spacy<2.4.0->pycaret) (1.0.0)\n",
            "Requirement already satisfied: plac<1.2.0,>=0.9.6 in /usr/local/lib/python3.7/dist-packages (from spacy<2.4.0->pycaret) (1.1.3)\n",
            "Requirement already satisfied: wasabi<1.1.0,>=0.4.0 in /usr/local/lib/python3.7/dist-packages (from spacy<2.4.0->pycaret) (0.8.2)\n",
            "Requirement already satisfied: thinc==7.4.0 in /usr/local/lib/python3.7/dist-packages (from spacy<2.4.0->pycaret) (7.4.0)\n",
            "Requirement already satisfied: blis<0.5.0,>=0.4.0 in /usr/local/lib/python3.7/dist-packages (from spacy<2.4.0->pycaret) (0.4.1)\n",
            "Requirement already satisfied: preshed<3.1.0,>=3.0.2 in /usr/local/lib/python3.7/dist-packages (from spacy<2.4.0->pycaret) (3.0.6)\n",
            "Requirement already satisfied: importlib-metadata>=0.20 in /usr/local/lib/python3.7/dist-packages (from catalogue<1.1.0,>=0.0.7->spacy<2.4.0->pycaret) (4.8.2)\n",
            "Requirement already satisfied: zipp>=0.5 in /usr/local/lib/python3.7/dist-packages (from importlib-metadata>=0.20->catalogue<1.1.0,>=0.0.7->spacy<2.4.0->pycaret) (3.6.0)\n",
            "Requirement already satisfied: notebook>=4.4.1 in /usr/local/lib/python3.7/dist-packages (from widgetsnbextension~=3.5.0->ipywidgets->pycaret) (5.3.1)\n",
            "Requirement already satisfied: Send2Trash in /usr/local/lib/python3.7/dist-packages (from notebook>=4.4.1->widgetsnbextension~=3.5.0->ipywidgets->pycaret) (1.8.0)\n",
            "Requirement already satisfied: terminado>=0.8.1 in /usr/local/lib/python3.7/dist-packages (from notebook>=4.4.1->widgetsnbextension~=3.5.0->ipywidgets->pycaret) (0.12.1)\n",
            "Requirement already satisfied: nbconvert in /usr/local/lib/python3.7/dist-packages (from notebook>=4.4.1->widgetsnbextension~=3.5.0->ipywidgets->pycaret) (5.6.1)\n",
            "Requirement already satisfied: pyzmq>=13 in /usr/local/lib/python3.7/dist-packages (from jupyter-client->ipykernel>=4.5.1->ipywidgets->pycaret) (22.3.0)\n",
            "Requirement already satisfied: ptyprocess in /usr/local/lib/python3.7/dist-packages (from terminado>=0.8.1->notebook>=4.4.1->widgetsnbextension~=3.5.0->ipywidgets->pycaret) (0.7.0)\n",
            "Requirement already satisfied: PyWavelets in /usr/local/lib/python3.7/dist-packages (from imagehash->visions[type_image_path]==0.7.4->pandas-profiling>=2.8.0->pycaret) (1.2.0)\n",
            "Requirement already satisfied: sqlalchemy in /usr/local/lib/python3.7/dist-packages (from mlflow->pycaret) (1.4.26)\n",
            "Requirement already satisfied: click>=7.0 in /usr/local/lib/python3.7/dist-packages (from mlflow->pycaret) (7.1.2)\n",
            "Requirement already satisfied: packaging in /usr/local/lib/python3.7/dist-packages (from mlflow->pycaret) (21.2)\n",
            "Collecting databricks-cli>=0.8.7\n",
            "  Downloading databricks-cli-0.16.2.tar.gz (58 kB)\n",
            "\u001b[K     |████████████████████████████████| 58 kB 5.1 MB/s \n",
            "\u001b[?25hCollecting gitpython>=2.1.0\n",
            "  Downloading GitPython-3.1.24-py3-none-any.whl (180 kB)\n",
            "\u001b[K     |████████████████████████████████| 180 kB 59.1 MB/s \n",
            "\u001b[?25hCollecting prometheus-flask-exporter\n",
            "  Downloading prometheus_flask_exporter-0.18.5-py3-none-any.whl (17 kB)\n",
            "Requirement already satisfied: Flask in /usr/local/lib/python3.7/dist-packages (from mlflow->pycaret) (1.1.4)\n",
            "Requirement already satisfied: cloudpickle in /usr/local/lib/python3.7/dist-packages (from mlflow->pycaret) (1.3.0)\n",
            "Requirement already satisfied: protobuf>=3.7.0 in /usr/local/lib/python3.7/dist-packages (from mlflow->pycaret) (3.17.3)\n",
            "Collecting querystring-parser\n",
            "  Downloading querystring_parser-1.2.4-py2.py3-none-any.whl (7.9 kB)\n",
            "Collecting docker>=4.0.0\n",
            "  Downloading docker-5.0.3-py2.py3-none-any.whl (146 kB)\n",
            "\u001b[K     |████████████████████████████████| 146 kB 68.0 MB/s \n",
            "\u001b[?25hRequirement already satisfied: sqlparse>=0.3.1 in /usr/local/lib/python3.7/dist-packages (from mlflow->pycaret) (0.4.2)\n",
            "Collecting gunicorn\n",
            "  Downloading gunicorn-20.1.0-py3-none-any.whl (79 kB)\n",
            "\u001b[K     |████████████████████████████████| 79 kB 8.1 MB/s \n",
            "\u001b[?25hCollecting alembic<=1.4.1\n",
            "  Downloading alembic-1.4.1.tar.gz (1.1 MB)\n",
            "\u001b[K     |████████████████████████████████| 1.1 MB 73.6 MB/s \n",
            "\u001b[?25hRequirement already satisfied: entrypoints in /usr/local/lib/python3.7/dist-packages (from mlflow->pycaret) (0.3)\n",
            "Collecting Mako\n",
            "  Downloading Mako-1.1.6-py2.py3-none-any.whl (75 kB)\n",
            "\u001b[K     |████████████████████████████████| 75 kB 3.9 MB/s \n",
            "\u001b[?25hCollecting python-editor>=0.3\n",
            "  Downloading python_editor-1.0.4-py3-none-any.whl (4.9 kB)\n",
            "Requirement already satisfied: tabulate>=0.7.7 in /usr/local/lib/python3.7/dist-packages (from databricks-cli>=0.8.7->mlflow->pycaret) (0.8.9)\n",
            "Collecting websocket-client>=0.32.0\n",
            "  Downloading websocket_client-1.2.1-py2.py3-none-any.whl (52 kB)\n",
            "\u001b[K     |████████████████████████████████| 52 kB 1.3 MB/s \n",
            "\u001b[?25hCollecting gitdb<5,>=4.0.1\n",
            "  Downloading gitdb-4.0.9-py3-none-any.whl (63 kB)\n",
            "\u001b[K     |████████████████████████████████| 63 kB 1.6 MB/s \n",
            "\u001b[?25hCollecting smmap<6,>=3.0.1\n",
            "  Downloading smmap-5.0.0-py3-none-any.whl (24 kB)\n",
            "Requirement already satisfied: greenlet!=0.4.17 in /usr/local/lib/python3.7/dist-packages (from sqlalchemy->mlflow->pycaret) (1.1.2)\n",
            "Requirement already satisfied: itsdangerous<2.0,>=0.24 in /usr/local/lib/python3.7/dist-packages (from Flask->mlflow->pycaret) (1.1.0)\n",
            "Requirement already satisfied: Werkzeug<2.0,>=0.15 in /usr/local/lib/python3.7/dist-packages (from Flask->mlflow->pycaret) (1.0.1)\n",
            "Requirement already satisfied: bleach in /usr/local/lib/python3.7/dist-packages (from nbconvert->notebook>=4.4.1->widgetsnbextension~=3.5.0->ipywidgets->pycaret) (4.1.0)\n",
            "Requirement already satisfied: defusedxml in /usr/local/lib/python3.7/dist-packages (from nbconvert->notebook>=4.4.1->widgetsnbextension~=3.5.0->ipywidgets->pycaret) (0.7.1)\n",
            "Requirement already satisfied: pandocfilters>=1.4.1 in /usr/local/lib/python3.7/dist-packages (from nbconvert->notebook>=4.4.1->widgetsnbextension~=3.5.0->ipywidgets->pycaret) (1.5.0)\n",
            "Requirement already satisfied: mistune<2,>=0.8.1 in /usr/local/lib/python3.7/dist-packages (from nbconvert->notebook>=4.4.1->widgetsnbextension~=3.5.0->ipywidgets->pycaret) (0.8.4)\n",
            "Requirement already satisfied: testpath in /usr/local/lib/python3.7/dist-packages (from nbconvert->notebook>=4.4.1->widgetsnbextension~=3.5.0->ipywidgets->pycaret) (0.5.0)\n",
            "Requirement already satisfied: webencodings in /usr/local/lib/python3.7/dist-packages (from bleach->nbconvert->notebook>=4.4.1->widgetsnbextension~=3.5.0->ipywidgets->pycaret) (0.5.1)\n",
            "Requirement already satisfied: prometheus-client in /usr/local/lib/python3.7/dist-packages (from prometheus-flask-exporter->mlflow->pycaret) (0.12.0)\n",
            "Collecting funcy\n",
            "  Downloading funcy-1.16-py2.py3-none-any.whl (32 kB)\n",
            "Requirement already satisfied: future in /usr/local/lib/python3.7/dist-packages (from pyLDAvis->pycaret) (0.16.0)\n",
            "Collecting pandas\n",
            "  Downloading pandas-1.3.4-cp37-cp37m-manylinux_2_17_x86_64.manylinux2014_x86_64.whl (11.3 MB)\n",
            "\u001b[K     |████████████████████████████████| 11.3 MB 59.7 MB/s \n",
            "\u001b[?25hCollecting pyLDAvis\n",
            "  Downloading pyLDAvis-3.3.0.tar.gz (1.7 MB)\n",
            "\u001b[K     |████████████████████████████████| 1.7 MB 19.4 MB/s \n",
            "\u001b[?25h  Installing build dependencies ... \u001b[?25l\u001b[?25hdone\n",
            "  Getting requirements to build wheel ... \u001b[?25l\u001b[?25hdone\n",
            "  Installing backend dependencies ... \u001b[?25l\u001b[?25hdone\n",
            "    Preparing wheel metadata ... \u001b[?25l\u001b[?25hdone\n",
            "  Downloading pyLDAvis-3.2.2.tar.gz (1.7 MB)\n",
            "\u001b[K     |████████████████████████████████| 1.7 MB 47.5 MB/s \n",
            "\u001b[?25hRequirement already satisfied: numexpr in /usr/local/lib/python3.7/dist-packages (from pyLDAvis->pycaret) (2.7.3)\n",
            "Requirement already satisfied: statsmodels in /usr/local/lib/python3.7/dist-packages (from pyod->pycaret) (0.10.2)\n",
            "Requirement already satisfied: patsy>=0.4.0 in /usr/local/lib/python3.7/dist-packages (from statsmodels->pyod->pycaret) (0.5.2)\n",
            "Collecting pynndescent>=0.5\n",
            "  Downloading pynndescent-0.5.5.tar.gz (1.1 MB)\n",
            "\u001b[K     |████████████████████████████████| 1.1 MB 56.3 MB/s \n",
            "\u001b[?25hBuilding wheels for collected packages: htmlmin, imagehash, alembic, databricks-cli, pyLDAvis, pyod, umap-learn, pynndescent\n",
            "  Building wheel for htmlmin (setup.py) ... \u001b[?25l\u001b[?25hdone\n",
            "  Created wheel for htmlmin: filename=htmlmin-0.1.12-py3-none-any.whl size=27098 sha256=20eaab16a79308e9eda2411a861ab0dcec919210dd353963eb8742d0802976a3\n",
            "  Stored in directory: /root/.cache/pip/wheels/70/e1/52/5b14d250ba868768823940c3229e9950d201a26d0bd3ee8655\n",
            "  Building wheel for imagehash (setup.py) ... \u001b[?25l\u001b[?25hdone\n",
            "  Created wheel for imagehash: filename=ImageHash-4.2.1-py2.py3-none-any.whl size=295207 sha256=f99d909c508b72d7c0034340b015d638e0843f8c01ff98be38b2b163c8ab6f3b\n",
            "  Stored in directory: /root/.cache/pip/wheels/4c/d5/59/5e3e297533ddb09407769762985d134135064c6831e29a914e\n",
            "  Building wheel for alembic (setup.py) ... \u001b[?25l\u001b[?25hdone\n",
            "  Created wheel for alembic: filename=alembic-1.4.1-py2.py3-none-any.whl size=158172 sha256=27b4cd4a2eb458a451dea5628fd1e610bb66e920e5dc4df40378e8df813093d5\n",
            "  Stored in directory: /root/.cache/pip/wheels/be/5d/0a/9e13f53f4f5dfb67cd8d245bb7cdffe12f135846f491a283e3\n",
            "  Building wheel for databricks-cli (setup.py) ... \u001b[?25l\u001b[?25hdone\n",
            "  Created wheel for databricks-cli: filename=databricks_cli-0.16.2-py3-none-any.whl size=106811 sha256=b7f77d323aa9573f4cba551430d4f93491c0146c3d53e4684282f49b4213023b\n",
            "  Stored in directory: /root/.cache/pip/wheels/f4/5c/ed/e1ce20a53095f63b27b4964abbad03e59cf3472822addf7d29\n",
            "  Building wheel for pyLDAvis (setup.py) ... \u001b[?25l\u001b[?25hdone\n",
            "  Created wheel for pyLDAvis: filename=pyLDAvis-3.2.2-py2.py3-none-any.whl size=135618 sha256=06bcc6b3ced0ada20466063897c9b47a958da6d5bda80271736b102ea99920be\n",
            "  Stored in directory: /root/.cache/pip/wheels/f8/b1/9b/560ac1931796b7303f7b517b949d2d31a4fbc512aad3b9f284\n",
            "  Building wheel for pyod (setup.py) ... \u001b[?25l\u001b[?25hdone\n",
            "  Created wheel for pyod: filename=pyod-0.9.5-py3-none-any.whl size=132699 sha256=40701d91e92c74d93dea258626f013b760d872153e9baec6efe3b272cc004a94\n",
            "  Stored in directory: /root/.cache/pip/wheels/3d/bb/b7/62b60fb451b33b0df1ab8006697fba7a6a49709a629055cf77\n",
            "  Building wheel for umap-learn (setup.py) ... \u001b[?25l\u001b[?25hdone\n",
            "  Created wheel for umap-learn: filename=umap_learn-0.5.2-py3-none-any.whl size=82709 sha256=b46cd0a607a4a13d821d8224f5169f1046ffd6e7c8d4f1a14a476e1fb8a5bbca\n",
            "  Stored in directory: /root/.cache/pip/wheels/84/1b/c6/aaf68a748122632967cef4dffef68224eb16798b6793257d82\n",
            "  Building wheel for pynndescent (setup.py) ... \u001b[?25l\u001b[?25hdone\n",
            "  Created wheel for pynndescent: filename=pynndescent-0.5.5-py3-none-any.whl size=52603 sha256=c9c7b79602ef708935146e8674361780e7de45bfa718ba8c0ccce0314cd192ae\n",
            "  Stored in directory: /root/.cache/pip/wheels/af/e9/33/04db1436df0757c42fda8ea6796d7a8586e23c85fac355f476\n",
            "Successfully built htmlmin imagehash alembic databricks-cli pyLDAvis pyod umap-learn pynndescent\n",
            "Installing collected packages: tangled-up-in-unicode, smmap, scipy, multimethod, joblib, websocket-client, visions, scikit-learn, requests, python-editor, Mako, imagehash, gitdb, querystring-parser, PyYAML, pynndescent, pydantic, prometheus-flask-exporter, phik, htmlmin, gunicorn, gitpython, funcy, docker, databricks-cli, alembic, umap-learn, scikit-plot, pyod, pyLDAvis, pandas-profiling, mlxtend, mlflow, lightgbm, kmodes, imbalanced-learn, Boruta, pycaret\n",
            "  Attempting uninstall: scipy\n",
            "    Found existing installation: scipy 1.4.1\n",
            "    Uninstalling scipy-1.4.1:\n",
            "      Successfully uninstalled scipy-1.4.1\n",
            "  Attempting uninstall: joblib\n",
            "    Found existing installation: joblib 1.1.0\n",
            "    Uninstalling joblib-1.1.0:\n",
            "      Successfully uninstalled joblib-1.1.0\n",
            "  Attempting uninstall: scikit-learn\n",
            "    Found existing installation: scikit-learn 1.0.1\n",
            "    Uninstalling scikit-learn-1.0.1:\n",
            "      Successfully uninstalled scikit-learn-1.0.1\n",
            "  Attempting uninstall: requests\n",
            "    Found existing installation: requests 2.23.0\n",
            "    Uninstalling requests-2.23.0:\n",
            "      Successfully uninstalled requests-2.23.0\n",
            "  Attempting uninstall: PyYAML\n",
            "    Found existing installation: PyYAML 3.13\n",
            "    Uninstalling PyYAML-3.13:\n",
            "      Successfully uninstalled PyYAML-3.13\n",
            "  Attempting uninstall: pandas-profiling\n",
            "    Found existing installation: pandas-profiling 1.4.1\n",
            "    Uninstalling pandas-profiling-1.4.1:\n",
            "      Successfully uninstalled pandas-profiling-1.4.1\n",
            "  Attempting uninstall: mlxtend\n",
            "    Found existing installation: mlxtend 0.14.0\n",
            "    Uninstalling mlxtend-0.14.0:\n",
            "      Successfully uninstalled mlxtend-0.14.0\n",
            "  Attempting uninstall: lightgbm\n",
            "    Found existing installation: lightgbm 2.2.3\n",
            "    Uninstalling lightgbm-2.2.3:\n",
            "      Successfully uninstalled lightgbm-2.2.3\n",
            "  Attempting uninstall: imbalanced-learn\n",
            "    Found existing installation: imbalanced-learn 0.8.1\n",
            "    Uninstalling imbalanced-learn-0.8.1:\n",
            "      Successfully uninstalled imbalanced-learn-0.8.1\n",
            "\u001b[31mERROR: pip's dependency resolver does not currently take into account all the packages that are installed. This behaviour is the source of the following dependency conflicts.\n",
            "google-colab 1.0.0 requires requests~=2.23.0, but you have requests 2.26.0 which is incompatible.\n",
            "datascience 0.10.6 requires folium==0.2.1, but you have folium 0.8.3 which is incompatible.\n",
            "albumentations 0.1.12 requires imgaug<0.2.7,>=0.2.5, but you have imgaug 0.2.9 which is incompatible.\u001b[0m\n",
            "Successfully installed Boruta-0.3 Mako-1.1.6 PyYAML-6.0 alembic-1.4.1 databricks-cli-0.16.2 docker-5.0.3 funcy-1.16 gitdb-4.0.9 gitpython-3.1.24 gunicorn-20.1.0 htmlmin-0.1.12 imagehash-4.2.1 imbalanced-learn-0.7.0 joblib-1.0.1 kmodes-0.11.1 lightgbm-3.3.1 mlflow-1.21.0 mlxtend-0.19.0 multimethod-1.6 pandas-profiling-3.1.0 phik-0.12.0 prometheus-flask-exporter-0.18.5 pyLDAvis-3.2.2 pycaret-2.3.4 pydantic-1.8.2 pynndescent-0.5.5 pyod-0.9.5 python-editor-1.0.4 querystring-parser-1.2.4 requests-2.26.0 scikit-learn-0.23.2 scikit-plot-0.3.7 scipy-1.5.4 smmap-5.0.0 tangled-up-in-unicode-0.1.0 umap-learn-0.5.2 visions-0.7.4 websocket-client-1.2.1\n"
          ]
        }
      ]
    },
    {
      "cell_type": "code",
      "metadata": {
        "id": "Pz1x-HfXSrGX",
        "colab": {
          "base_uri": "https://localhost:8080/"
        },
        "outputId": "2f693642-740d-4ae1-fcca-9a9bbd0d8dcc"
      },
      "source": [
        "pip install -U imbalanced-learn"
      ],
      "execution_count": 3,
      "outputs": [
        {
          "output_type": "stream",
          "name": "stdout",
          "text": [
            "Requirement already satisfied: imbalanced-learn in /usr/local/lib/python3.7/dist-packages (0.7.0)\n",
            "Collecting imbalanced-learn\n",
            "  Downloading imbalanced_learn-0.8.1-py3-none-any.whl (189 kB)\n",
            "\u001b[K     |████████████████████████████████| 189 kB 12.7 MB/s \n",
            "\u001b[?25hRequirement already satisfied: joblib>=0.11 in /usr/local/lib/python3.7/dist-packages (from imbalanced-learn) (1.0.1)\n",
            "Collecting scikit-learn>=0.24\n",
            "  Downloading scikit_learn-1.0.1-cp37-cp37m-manylinux_2_12_x86_64.manylinux2010_x86_64.whl (23.2 MB)\n",
            "\u001b[K     |████████████████████████████████| 23.2 MB 1.7 MB/s \n",
            "\u001b[?25hRequirement already satisfied: scipy>=0.19.1 in /usr/local/lib/python3.7/dist-packages (from imbalanced-learn) (1.5.4)\n",
            "Requirement already satisfied: numpy>=1.13.3 in /usr/local/lib/python3.7/dist-packages (from imbalanced-learn) (1.19.5)\n",
            "Requirement already satisfied: threadpoolctl>=2.0.0 in /usr/local/lib/python3.7/dist-packages (from scikit-learn>=0.24->imbalanced-learn) (3.0.0)\n",
            "Installing collected packages: scikit-learn, imbalanced-learn\n",
            "  Attempting uninstall: scikit-learn\n",
            "    Found existing installation: scikit-learn 0.23.2\n",
            "    Uninstalling scikit-learn-0.23.2:\n",
            "      Successfully uninstalled scikit-learn-0.23.2\n",
            "  Attempting uninstall: imbalanced-learn\n",
            "    Found existing installation: imbalanced-learn 0.7.0\n",
            "    Uninstalling imbalanced-learn-0.7.0:\n",
            "      Successfully uninstalled imbalanced-learn-0.7.0\n",
            "\u001b[31mERROR: pip's dependency resolver does not currently take into account all the packages that are installed. This behaviour is the source of the following dependency conflicts.\n",
            "pycaret 2.3.4 requires imbalanced-learn==0.7.0, but you have imbalanced-learn 0.8.1 which is incompatible.\n",
            "pycaret 2.3.4 requires scikit-learn==0.23.2, but you have scikit-learn 1.0.1 which is incompatible.\u001b[0m\n",
            "Successfully installed imbalanced-learn-0.8.1 scikit-learn-1.0.1\n"
          ]
        }
      ]
    },
    {
      "cell_type": "code",
      "metadata": {
        "id": "LNjV-ghmCFs2"
      },
      "source": [
        "import pandas as pd\n",
        "import numpy as np\n",
        "import matplotlib.pyplot as plt\n",
        "import seaborn as sns\n",
        "import pycaret"
      ],
      "execution_count": 4,
      "outputs": []
    },
    {
      "cell_type": "markdown",
      "metadata": {
        "id": "QIyRvvU9CfyK"
      },
      "source": [
        "# 2. import train data"
      ]
    },
    {
      "cell_type": "code",
      "metadata": {
        "colab": {
          "base_uri": "https://localhost:8080/"
        },
        "id": "tJMsWnkYmpcs",
        "outputId": "d8a6b5a5-f293-475f-bc0d-4b3425a99587"
      },
      "source": [
        "!unzip '/content/gdrive/MyDrive/Idorsia Capstone Project/data/subsample_nonrandom_cellstate.zip'"
      ],
      "execution_count": 5,
      "outputs": [
        {
          "output_type": "stream",
          "name": "stdout",
          "text": [
            "Archive:  /content/gdrive/MyDrive/Idorsia Capstone Project/data/subsample_nonrandom_cellstate.zip\n",
            "  inflating: subsample_nonrandom_cellstate.csv  \n"
          ]
        }
      ]
    },
    {
      "cell_type": "code",
      "metadata": {
        "id": "y09NLZEWn4FH",
        "colab": {
          "base_uri": "https://localhost:8080/",
          "height": 460
        },
        "outputId": "b5a4c137-a7e1-4b3d-9091-9d79c7cdde3e"
      },
      "source": [
        "df = pd.read_csv('subsample_nonrandom_cellstate.csv', index_col=0)\n",
        "df.head()"
      ],
      "execution_count": 6,
      "outputs": [
        {
          "output_type": "execute_result",
          "data": {
            "text/html": [
              "<div>\n",
              "<style scoped>\n",
              "    .dataframe tbody tr th:only-of-type {\n",
              "        vertical-align: middle;\n",
              "    }\n",
              "\n",
              "    .dataframe tbody tr th {\n",
              "        vertical-align: top;\n",
              "    }\n",
              "\n",
              "    .dataframe thead th {\n",
              "        text-align: right;\n",
              "    }\n",
              "</style>\n",
              "<table border=\"1\" class=\"dataframe\">\n",
              "  <thead>\n",
              "    <tr style=\"text-align: right;\">\n",
              "      <th></th>\n",
              "      <th>PLEKHN1</th>\n",
              "      <th>ISG15</th>\n",
              "      <th>TNFRSF18</th>\n",
              "      <th>TNFRSF4</th>\n",
              "      <th>DVL1</th>\n",
              "      <th>CCNL2</th>\n",
              "      <th>MIB2</th>\n",
              "      <th>SLC35E2B</th>\n",
              "      <th>CDK11A</th>\n",
              "      <th>SKI</th>\n",
              "      <th>PLCH2</th>\n",
              "      <th>KCNAB2</th>\n",
              "      <th>ACOT7</th>\n",
              "      <th>TNFRSF25</th>\n",
              "      <th>RERE</th>\n",
              "      <th>ENO1</th>\n",
              "      <th>PIK3CD</th>\n",
              "      <th>CLSTN1</th>\n",
              "      <th>SRM</th>\n",
              "      <th>FBXO2</th>\n",
              "      <th>FBXO44</th>\n",
              "      <th>AGTRAP</th>\n",
              "      <th>MTHFR</th>\n",
              "      <th>CLCN6</th>\n",
              "      <th>TNFRSF1B</th>\n",
              "      <th>VPS13D</th>\n",
              "      <th>DHRS3</th>\n",
              "      <th>PRDM2</th>\n",
              "      <th>EFHD2</th>\n",
              "      <th>DDI2</th>\n",
              "      <th>SPEN</th>\n",
              "      <th>CROCC</th>\n",
              "      <th>ATP13A2</th>\n",
              "      <th>UBR4</th>\n",
              "      <th>OTUD3</th>\n",
              "      <th>ECE1</th>\n",
              "      <th>USP48</th>\n",
              "      <th>LUZP1</th>\n",
              "      <th>ID3</th>\n",
              "      <th>RPL11</th>\n",
              "      <th>...</th>\n",
              "      <th>APP</th>\n",
              "      <th>MAP3K7CL</th>\n",
              "      <th>BACH1</th>\n",
              "      <th>TIAM1</th>\n",
              "      <th>SOD1</th>\n",
              "      <th>EVA1C</th>\n",
              "      <th>PAXBP1</th>\n",
              "      <th>IFNGR2</th>\n",
              "      <th>MRPS6</th>\n",
              "      <th>SLC5A3</th>\n",
              "      <th>RUNX1</th>\n",
              "      <th>CBR3</th>\n",
              "      <th>TTC3</th>\n",
              "      <th>DYRK1A</th>\n",
              "      <th>ETS2</th>\n",
              "      <th>HMGN1</th>\n",
              "      <th>MX2</th>\n",
              "      <th>MX1</th>\n",
              "      <th>ABCG1</th>\n",
              "      <th>UBASH3A</th>\n",
              "      <th>PKNOX1</th>\n",
              "      <th>CSTB</th>\n",
              "      <th>ITGB2</th>\n",
              "      <th>ADARB1</th>\n",
              "      <th>COL18A1</th>\n",
              "      <th>LSS</th>\n",
              "      <th>MCM3AP</th>\n",
              "      <th>PCNT</th>\n",
              "      <th>DIP2A</th>\n",
              "      <th>MT-ND1</th>\n",
              "      <th>MT-ND2</th>\n",
              "      <th>MT-CO1</th>\n",
              "      <th>MT-CO2</th>\n",
              "      <th>MT-ATP6</th>\n",
              "      <th>MT-CO3</th>\n",
              "      <th>MT-ND4</th>\n",
              "      <th>MT-ND5</th>\n",
              "      <th>MT-CYB</th>\n",
              "      <th>cell_state</th>\n",
              "      <th>cell_type</th>\n",
              "    </tr>\n",
              "    <tr>\n",
              "      <th>Unnamed: 0</th>\n",
              "      <th></th>\n",
              "      <th></th>\n",
              "      <th></th>\n",
              "      <th></th>\n",
              "      <th></th>\n",
              "      <th></th>\n",
              "      <th></th>\n",
              "      <th></th>\n",
              "      <th></th>\n",
              "      <th></th>\n",
              "      <th></th>\n",
              "      <th></th>\n",
              "      <th></th>\n",
              "      <th></th>\n",
              "      <th></th>\n",
              "      <th></th>\n",
              "      <th></th>\n",
              "      <th></th>\n",
              "      <th></th>\n",
              "      <th></th>\n",
              "      <th></th>\n",
              "      <th></th>\n",
              "      <th></th>\n",
              "      <th></th>\n",
              "      <th></th>\n",
              "      <th></th>\n",
              "      <th></th>\n",
              "      <th></th>\n",
              "      <th></th>\n",
              "      <th></th>\n",
              "      <th></th>\n",
              "      <th></th>\n",
              "      <th></th>\n",
              "      <th></th>\n",
              "      <th></th>\n",
              "      <th></th>\n",
              "      <th></th>\n",
              "      <th></th>\n",
              "      <th></th>\n",
              "      <th></th>\n",
              "      <th></th>\n",
              "      <th></th>\n",
              "      <th></th>\n",
              "      <th></th>\n",
              "      <th></th>\n",
              "      <th></th>\n",
              "      <th></th>\n",
              "      <th></th>\n",
              "      <th></th>\n",
              "      <th></th>\n",
              "      <th></th>\n",
              "      <th></th>\n",
              "      <th></th>\n",
              "      <th></th>\n",
              "      <th></th>\n",
              "      <th></th>\n",
              "      <th></th>\n",
              "      <th></th>\n",
              "      <th></th>\n",
              "      <th></th>\n",
              "      <th></th>\n",
              "      <th></th>\n",
              "      <th></th>\n",
              "      <th></th>\n",
              "      <th></th>\n",
              "      <th></th>\n",
              "      <th></th>\n",
              "      <th></th>\n",
              "      <th></th>\n",
              "      <th></th>\n",
              "      <th></th>\n",
              "      <th></th>\n",
              "      <th></th>\n",
              "      <th></th>\n",
              "      <th></th>\n",
              "      <th></th>\n",
              "      <th></th>\n",
              "      <th></th>\n",
              "      <th></th>\n",
              "      <th></th>\n",
              "      <th></th>\n",
              "    </tr>\n",
              "  </thead>\n",
              "  <tbody>\n",
              "    <tr>\n",
              "      <th>GSM3148575_AAACCTGAGGTCGGAT</th>\n",
              "      <td>-0.120063</td>\n",
              "      <td>-0.666726</td>\n",
              "      <td>-0.496918</td>\n",
              "      <td>-0.479612</td>\n",
              "      <td>-0.099574</td>\n",
              "      <td>-0.387737</td>\n",
              "      <td>-0.331833</td>\n",
              "      <td>-0.229907</td>\n",
              "      <td>-0.339842</td>\n",
              "      <td>-0.270848</td>\n",
              "      <td>-0.107915</td>\n",
              "      <td>-0.511503</td>\n",
              "      <td>-0.277814</td>\n",
              "      <td>-0.462453</td>\n",
              "      <td>-0.301821</td>\n",
              "      <td>-0.231361</td>\n",
              "      <td>-0.385800</td>\n",
              "      <td>1.894113</td>\n",
              "      <td>-0.409136</td>\n",
              "      <td>-0.109023</td>\n",
              "      <td>2.349367</td>\n",
              "      <td>-0.435257</td>\n",
              "      <td>-0.191539</td>\n",
              "      <td>-0.136378</td>\n",
              "      <td>-0.744321</td>\n",
              "      <td>2.390128</td>\n",
              "      <td>-0.294596</td>\n",
              "      <td>-0.378270</td>\n",
              "      <td>-0.488496</td>\n",
              "      <td>-0.214503</td>\n",
              "      <td>-0.341572</td>\n",
              "      <td>-0.187895</td>\n",
              "      <td>-0.198950</td>\n",
              "      <td>-0.382059</td>\n",
              "      <td>-0.128542</td>\n",
              "      <td>-0.316360</td>\n",
              "      <td>-0.427453</td>\n",
              "      <td>-0.296122</td>\n",
              "      <td>-0.351139</td>\n",
              "      <td>0.940758</td>\n",
              "      <td>...</td>\n",
              "      <td>-0.317720</td>\n",
              "      <td>-0.146983</td>\n",
              "      <td>-0.368192</td>\n",
              "      <td>-0.313880</td>\n",
              "      <td>-0.352356</td>\n",
              "      <td>-0.183203</td>\n",
              "      <td>-0.200532</td>\n",
              "      <td>-0.435039</td>\n",
              "      <td>-0.778602</td>\n",
              "      <td>-0.322719</td>\n",
              "      <td>-0.392403</td>\n",
              "      <td>-0.144354</td>\n",
              "      <td>1.709019</td>\n",
              "      <td>-0.244584</td>\n",
              "      <td>-0.330453</td>\n",
              "      <td>-0.207097</td>\n",
              "      <td>-0.389824</td>\n",
              "      <td>-0.495193</td>\n",
              "      <td>-0.413506</td>\n",
              "      <td>-0.380598</td>\n",
              "      <td>-0.215174</td>\n",
              "      <td>0.413374</td>\n",
              "      <td>0.562191</td>\n",
              "      <td>-0.152656</td>\n",
              "      <td>-0.198916</td>\n",
              "      <td>-0.165524</td>\n",
              "      <td>-0.311806</td>\n",
              "      <td>-0.194028</td>\n",
              "      <td>-0.357682</td>\n",
              "      <td>0.758289</td>\n",
              "      <td>0.298942</td>\n",
              "      <td>-0.276559</td>\n",
              "      <td>0.844270</td>\n",
              "      <td>-0.499903</td>\n",
              "      <td>0.963173</td>\n",
              "      <td>-1.022702</td>\n",
              "      <td>0.769905</td>\n",
              "      <td>0.832802</td>\n",
              "      <td>CD8 T-cell (unspecified)</td>\n",
              "      <td>T-cell</td>\n",
              "    </tr>\n",
              "    <tr>\n",
              "      <th>GSM3148575_AAACCTGCAACACCCG</th>\n",
              "      <td>-0.078043</td>\n",
              "      <td>-0.358352</td>\n",
              "      <td>-0.240397</td>\n",
              "      <td>-0.199843</td>\n",
              "      <td>-0.128613</td>\n",
              "      <td>-0.371469</td>\n",
              "      <td>-0.267228</td>\n",
              "      <td>-0.253885</td>\n",
              "      <td>-0.292382</td>\n",
              "      <td>-0.313821</td>\n",
              "      <td>-0.088790</td>\n",
              "      <td>-0.466089</td>\n",
              "      <td>-0.226714</td>\n",
              "      <td>-0.270607</td>\n",
              "      <td>-0.353075</td>\n",
              "      <td>0.574824</td>\n",
              "      <td>-0.335640</td>\n",
              "      <td>-0.314195</td>\n",
              "      <td>-0.323180</td>\n",
              "      <td>-0.090300</td>\n",
              "      <td>-0.250339</td>\n",
              "      <td>-0.391124</td>\n",
              "      <td>-0.246797</td>\n",
              "      <td>-0.189673</td>\n",
              "      <td>-0.616370</td>\n",
              "      <td>-0.316149</td>\n",
              "      <td>-0.356780</td>\n",
              "      <td>1.552249</td>\n",
              "      <td>-0.499215</td>\n",
              "      <td>-0.194878</td>\n",
              "      <td>-0.352990</td>\n",
              "      <td>-0.163568</td>\n",
              "      <td>-0.190939</td>\n",
              "      <td>-0.415853</td>\n",
              "      <td>-0.124281</td>\n",
              "      <td>-0.304426</td>\n",
              "      <td>-0.387812</td>\n",
              "      <td>-0.252874</td>\n",
              "      <td>-0.383583</td>\n",
              "      <td>0.478811</td>\n",
              "      <td>...</td>\n",
              "      <td>-0.376699</td>\n",
              "      <td>-0.175378</td>\n",
              "      <td>-0.423910</td>\n",
              "      <td>3.649650</td>\n",
              "      <td>0.573384</td>\n",
              "      <td>-0.158770</td>\n",
              "      <td>-0.188699</td>\n",
              "      <td>2.267675</td>\n",
              "      <td>-0.512170</td>\n",
              "      <td>-0.245922</td>\n",
              "      <td>3.651268</td>\n",
              "      <td>-0.132690</td>\n",
              "      <td>1.799477</td>\n",
              "      <td>-0.281949</td>\n",
              "      <td>-0.423601</td>\n",
              "      <td>-1.135320</td>\n",
              "      <td>-0.286250</td>\n",
              "      <td>-0.279708</td>\n",
              "      <td>1.809676</td>\n",
              "      <td>-0.224231</td>\n",
              "      <td>-0.168162</td>\n",
              "      <td>0.632239</td>\n",
              "      <td>0.123286</td>\n",
              "      <td>-0.175944</td>\n",
              "      <td>-0.220324</td>\n",
              "      <td>-0.176385</td>\n",
              "      <td>2.226596</td>\n",
              "      <td>-0.234638</td>\n",
              "      <td>-0.340674</td>\n",
              "      <td>0.107710</td>\n",
              "      <td>-0.300499</td>\n",
              "      <td>-0.697762</td>\n",
              "      <td>-0.948415</td>\n",
              "      <td>-0.213541</td>\n",
              "      <td>-0.709115</td>\n",
              "      <td>-0.041497</td>\n",
              "      <td>-0.356811</td>\n",
              "      <td>-0.065298</td>\n",
              "      <td>CD4 naive T-cell</td>\n",
              "      <td>T-cell</td>\n",
              "    </tr>\n",
              "    <tr>\n",
              "      <th>GSM3148575_AAACCTGCACCCATGG</th>\n",
              "      <td>-0.062416</td>\n",
              "      <td>-0.195464</td>\n",
              "      <td>-0.065144</td>\n",
              "      <td>-0.042499</td>\n",
              "      <td>-0.135852</td>\n",
              "      <td>-0.351616</td>\n",
              "      <td>-0.248396</td>\n",
              "      <td>-0.270842</td>\n",
              "      <td>-0.268271</td>\n",
              "      <td>-0.325609</td>\n",
              "      <td>-0.101256</td>\n",
              "      <td>-0.445847</td>\n",
              "      <td>-0.054851</td>\n",
              "      <td>-0.181723</td>\n",
              "      <td>-0.380540</td>\n",
              "      <td>0.745766</td>\n",
              "      <td>-0.340088</td>\n",
              "      <td>-0.296601</td>\n",
              "      <td>-0.241316</td>\n",
              "      <td>-0.085254</td>\n",
              "      <td>-0.250838</td>\n",
              "      <td>-0.386196</td>\n",
              "      <td>-0.265224</td>\n",
              "      <td>-0.204572</td>\n",
              "      <td>1.161881</td>\n",
              "      <td>-0.348388</td>\n",
              "      <td>-0.398905</td>\n",
              "      <td>-0.398163</td>\n",
              "      <td>-0.419860</td>\n",
              "      <td>-0.160300</td>\n",
              "      <td>-0.324923</td>\n",
              "      <td>-0.167410</td>\n",
              "      <td>-0.184236</td>\n",
              "      <td>-0.413217</td>\n",
              "      <td>-0.116076</td>\n",
              "      <td>-0.267485</td>\n",
              "      <td>2.620898</td>\n",
              "      <td>-0.213646</td>\n",
              "      <td>-0.346287</td>\n",
              "      <td>0.473759</td>\n",
              "      <td>...</td>\n",
              "      <td>-0.379510</td>\n",
              "      <td>-0.161681</td>\n",
              "      <td>-0.407552</td>\n",
              "      <td>-0.199226</td>\n",
              "      <td>0.747376</td>\n",
              "      <td>-0.154697</td>\n",
              "      <td>-0.173045</td>\n",
              "      <td>-0.448623</td>\n",
              "      <td>-0.300369</td>\n",
              "      <td>-0.162582</td>\n",
              "      <td>-0.359982</td>\n",
              "      <td>-0.056778</td>\n",
              "      <td>-0.593834</td>\n",
              "      <td>-0.284930</td>\n",
              "      <td>-0.450226</td>\n",
              "      <td>-0.950650</td>\n",
              "      <td>-0.266962</td>\n",
              "      <td>-0.173080</td>\n",
              "      <td>-0.193029</td>\n",
              "      <td>-0.163202</td>\n",
              "      <td>-0.117656</td>\n",
              "      <td>-0.828857</td>\n",
              "      <td>0.615416</td>\n",
              "      <td>-0.188198</td>\n",
              "      <td>-0.232735</td>\n",
              "      <td>6.823150</td>\n",
              "      <td>-0.344204</td>\n",
              "      <td>-0.206602</td>\n",
              "      <td>-0.350901</td>\n",
              "      <td>-1.130293</td>\n",
              "      <td>-1.156253</td>\n",
              "      <td>-0.963172</td>\n",
              "      <td>-0.502495</td>\n",
              "      <td>-1.301666</td>\n",
              "      <td>-0.408829</td>\n",
              "      <td>-0.945157</td>\n",
              "      <td>-0.162975</td>\n",
              "      <td>-0.711097</td>\n",
              "      <td>CD8 activated T-cell (unspecified)</td>\n",
              "      <td>T-cell</td>\n",
              "    </tr>\n",
              "    <tr>\n",
              "      <th>GSM3148575_AAACCTGCAGATGGGT</th>\n",
              "      <td>-0.082079</td>\n",
              "      <td>1.060037</td>\n",
              "      <td>-0.191346</td>\n",
              "      <td>-0.169694</td>\n",
              "      <td>-0.122829</td>\n",
              "      <td>2.005691</td>\n",
              "      <td>-0.276818</td>\n",
              "      <td>-0.259534</td>\n",
              "      <td>-0.277136</td>\n",
              "      <td>-0.297223</td>\n",
              "      <td>-0.101166</td>\n",
              "      <td>1.608985</td>\n",
              "      <td>-0.140124</td>\n",
              "      <td>-0.271896</td>\n",
              "      <td>-0.354905</td>\n",
              "      <td>0.266322</td>\n",
              "      <td>-0.353312</td>\n",
              "      <td>-0.320826</td>\n",
              "      <td>-0.314254</td>\n",
              "      <td>-0.094236</td>\n",
              "      <td>-0.274962</td>\n",
              "      <td>-0.415112</td>\n",
              "      <td>-0.245446</td>\n",
              "      <td>-0.184044</td>\n",
              "      <td>0.767068</td>\n",
              "      <td>-0.328530</td>\n",
              "      <td>-0.382333</td>\n",
              "      <td>-0.381429</td>\n",
              "      <td>-0.453147</td>\n",
              "      <td>-0.170926</td>\n",
              "      <td>-0.326742</td>\n",
              "      <td>-0.175238</td>\n",
              "      <td>-0.190458</td>\n",
              "      <td>-0.398930</td>\n",
              "      <td>-0.119770</td>\n",
              "      <td>-0.284986</td>\n",
              "      <td>-0.348206</td>\n",
              "      <td>-0.230224</td>\n",
              "      <td>-0.346436</td>\n",
              "      <td>0.211194</td>\n",
              "      <td>...</td>\n",
              "      <td>-0.373447</td>\n",
              "      <td>-0.165846</td>\n",
              "      <td>-0.392569</td>\n",
              "      <td>-0.233672</td>\n",
              "      <td>0.831479</td>\n",
              "      <td>-0.168126</td>\n",
              "      <td>3.846999</td>\n",
              "      <td>-0.479853</td>\n",
              "      <td>1.033201</td>\n",
              "      <td>-0.187547</td>\n",
              "      <td>-0.372761</td>\n",
              "      <td>-0.085260</td>\n",
              "      <td>1.248135</td>\n",
              "      <td>-0.266786</td>\n",
              "      <td>-0.417092</td>\n",
              "      <td>-1.064433</td>\n",
              "      <td>-0.307412</td>\n",
              "      <td>1.567685</td>\n",
              "      <td>-0.260816</td>\n",
              "      <td>2.432520</td>\n",
              "      <td>-0.142164</td>\n",
              "      <td>1.474821</td>\n",
              "      <td>0.259275</td>\n",
              "      <td>-0.174021</td>\n",
              "      <td>4.692780</td>\n",
              "      <td>-0.172141</td>\n",
              "      <td>-0.333820</td>\n",
              "      <td>-0.195588</td>\n",
              "      <td>-0.349128</td>\n",
              "      <td>0.346556</td>\n",
              "      <td>-0.558187</td>\n",
              "      <td>-0.403170</td>\n",
              "      <td>-0.261556</td>\n",
              "      <td>-1.011853</td>\n",
              "      <td>0.050656</td>\n",
              "      <td>-0.792443</td>\n",
              "      <td>0.404270</td>\n",
              "      <td>0.123457</td>\n",
              "      <td>CD8 activated T-cell (unspecified)</td>\n",
              "      <td>T-cell</td>\n",
              "    </tr>\n",
              "    <tr>\n",
              "      <th>GSM3148575_AAACCTGGTAGCACGA</th>\n",
              "      <td>-0.096117</td>\n",
              "      <td>1.804662</td>\n",
              "      <td>-0.347806</td>\n",
              "      <td>-0.320917</td>\n",
              "      <td>-0.113503</td>\n",
              "      <td>-0.386816</td>\n",
              "      <td>-0.304811</td>\n",
              "      <td>-0.248786</td>\n",
              "      <td>-0.341066</td>\n",
              "      <td>-0.310769</td>\n",
              "      <td>-0.112661</td>\n",
              "      <td>1.957487</td>\n",
              "      <td>-0.160473</td>\n",
              "      <td>-0.359338</td>\n",
              "      <td>-0.333582</td>\n",
              "      <td>-1.046656</td>\n",
              "      <td>-0.378392</td>\n",
              "      <td>2.858221</td>\n",
              "      <td>-0.295877</td>\n",
              "      <td>-0.102824</td>\n",
              "      <td>-0.283840</td>\n",
              "      <td>2.520806</td>\n",
              "      <td>-0.205787</td>\n",
              "      <td>-0.155380</td>\n",
              "      <td>0.922362</td>\n",
              "      <td>-0.304315</td>\n",
              "      <td>-0.304330</td>\n",
              "      <td>-0.405304</td>\n",
              "      <td>-0.407324</td>\n",
              "      <td>-0.198241</td>\n",
              "      <td>-0.338171</td>\n",
              "      <td>5.683438</td>\n",
              "      <td>-0.188987</td>\n",
              "      <td>-0.395691</td>\n",
              "      <td>-0.128088</td>\n",
              "      <td>3.321565</td>\n",
              "      <td>-0.377393</td>\n",
              "      <td>3.120899</td>\n",
              "      <td>-0.349642</td>\n",
              "      <td>0.444782</td>\n",
              "      <td>...</td>\n",
              "      <td>-0.296967</td>\n",
              "      <td>-0.131543</td>\n",
              "      <td>-0.363881</td>\n",
              "      <td>-0.262758</td>\n",
              "      <td>0.252006</td>\n",
              "      <td>-0.172480</td>\n",
              "      <td>-0.202600</td>\n",
              "      <td>-0.302270</td>\n",
              "      <td>-0.595397</td>\n",
              "      <td>-0.294388</td>\n",
              "      <td>-0.360872</td>\n",
              "      <td>-0.106838</td>\n",
              "      <td>1.592385</td>\n",
              "      <td>-0.268935</td>\n",
              "      <td>-0.324818</td>\n",
              "      <td>1.410489</td>\n",
              "      <td>-0.336171</td>\n",
              "      <td>-0.360668</td>\n",
              "      <td>-0.326524</td>\n",
              "      <td>-0.300476</td>\n",
              "      <td>-0.184320</td>\n",
              "      <td>1.124998</td>\n",
              "      <td>0.544468</td>\n",
              "      <td>5.996784</td>\n",
              "      <td>-0.200227</td>\n",
              "      <td>-0.160584</td>\n",
              "      <td>-0.325158</td>\n",
              "      <td>-0.213359</td>\n",
              "      <td>-0.368526</td>\n",
              "      <td>1.057400</td>\n",
              "      <td>0.396364</td>\n",
              "      <td>-0.108660</td>\n",
              "      <td>-0.070919</td>\n",
              "      <td>-0.706285</td>\n",
              "      <td>0.524917</td>\n",
              "      <td>-0.683408</td>\n",
              "      <td>-0.280897</td>\n",
              "      <td>0.810135</td>\n",
              "      <td>CD8 effector memory T-cell</td>\n",
              "      <td>T-cell</td>\n",
              "    </tr>\n",
              "  </tbody>\n",
              "</table>\n",
              "<p>5 rows × 3002 columns</p>\n",
              "</div>"
            ],
            "text/plain": [
              "                              PLEKHN1  ...  cell_type\n",
              "Unnamed: 0                             ...           \n",
              "GSM3148575_AAACCTGAGGTCGGAT -0.120063  ...     T-cell\n",
              "GSM3148575_AAACCTGCAACACCCG -0.078043  ...     T-cell\n",
              "GSM3148575_AAACCTGCACCCATGG -0.062416  ...     T-cell\n",
              "GSM3148575_AAACCTGCAGATGGGT -0.082079  ...     T-cell\n",
              "GSM3148575_AAACCTGGTAGCACGA -0.096117  ...     T-cell\n",
              "\n",
              "[5 rows x 3002 columns]"
            ]
          },
          "metadata": {},
          "execution_count": 6
        }
      ]
    },
    {
      "cell_type": "code",
      "metadata": {
        "id": "rU3U2TWpDCvj",
        "colab": {
          "base_uri": "https://localhost:8080/",
          "height": 425
        },
        "outputId": "3014e610-c7fc-4040-9c57-7f06921b5efe"
      },
      "source": [
        "pd.concat([pd.DataFrame({'count': df['cell_type'].value_counts()}), pd.DataFrame({'percentage': df['cell_type'].value_counts(normalize=True)})], axis=1)"
      ],
      "execution_count": 7,
      "outputs": [
        {
          "output_type": "execute_result",
          "data": {
            "text/html": [
              "<div>\n",
              "<style scoped>\n",
              "    .dataframe tbody tr th:only-of-type {\n",
              "        vertical-align: middle;\n",
              "    }\n",
              "\n",
              "    .dataframe tbody tr th {\n",
              "        vertical-align: top;\n",
              "    }\n",
              "\n",
              "    .dataframe thead th {\n",
              "        text-align: right;\n",
              "    }\n",
              "</style>\n",
              "<table border=\"1\" class=\"dataframe\">\n",
              "  <thead>\n",
              "    <tr style=\"text-align: right;\">\n",
              "      <th></th>\n",
              "      <th>count</th>\n",
              "      <th>percentage</th>\n",
              "    </tr>\n",
              "  </thead>\n",
              "  <tbody>\n",
              "    <tr>\n",
              "      <th>T-cell</th>\n",
              "      <td>4537</td>\n",
              "      <td>0.505009</td>\n",
              "    </tr>\n",
              "    <tr>\n",
              "      <th>dendritic cell</th>\n",
              "      <td>982</td>\n",
              "      <td>0.109305</td>\n",
              "    </tr>\n",
              "    <tr>\n",
              "      <th>B-cell</th>\n",
              "      <td>790</td>\n",
              "      <td>0.087934</td>\n",
              "    </tr>\n",
              "    <tr>\n",
              "      <th>macrophage</th>\n",
              "      <td>712</td>\n",
              "      <td>0.079252</td>\n",
              "    </tr>\n",
              "    <tr>\n",
              "      <th>monocyte</th>\n",
              "      <td>500</td>\n",
              "      <td>0.055654</td>\n",
              "    </tr>\n",
              "    <tr>\n",
              "      <th>mast cell</th>\n",
              "      <td>250</td>\n",
              "      <td>0.027827</td>\n",
              "    </tr>\n",
              "    <tr>\n",
              "      <th>plasma cell</th>\n",
              "      <td>250</td>\n",
              "      <td>0.027827</td>\n",
              "    </tr>\n",
              "    <tr>\n",
              "      <th>granulocyte</th>\n",
              "      <td>250</td>\n",
              "      <td>0.027827</td>\n",
              "    </tr>\n",
              "    <tr>\n",
              "      <th>lymphocyte</th>\n",
              "      <td>250</td>\n",
              "      <td>0.027827</td>\n",
              "    </tr>\n",
              "    <tr>\n",
              "      <th>killer cell</th>\n",
              "      <td>250</td>\n",
              "      <td>0.027827</td>\n",
              "    </tr>\n",
              "    <tr>\n",
              "      <th>leukocyte</th>\n",
              "      <td>157</td>\n",
              "      <td>0.017476</td>\n",
              "    </tr>\n",
              "    <tr>\n",
              "      <th>myeloid cell</th>\n",
              "      <td>56</td>\n",
              "      <td>0.006233</td>\n",
              "    </tr>\n",
              "  </tbody>\n",
              "</table>\n",
              "</div>"
            ],
            "text/plain": [
              "                count  percentage\n",
              "T-cell           4537    0.505009\n",
              "dendritic cell    982    0.109305\n",
              "B-cell            790    0.087934\n",
              "macrophage        712    0.079252\n",
              "monocyte          500    0.055654\n",
              "mast cell         250    0.027827\n",
              "plasma cell       250    0.027827\n",
              "granulocyte       250    0.027827\n",
              "lymphocyte        250    0.027827\n",
              "killer cell       250    0.027827\n",
              "leukocyte         157    0.017476\n",
              "myeloid cell       56    0.006233"
            ]
          },
          "metadata": {},
          "execution_count": 7
        }
      ]
    },
    {
      "cell_type": "markdown",
      "metadata": {
        "id": "VR4gipKsC-bO"
      },
      "source": [
        "# 3. split data and oversample some classes"
      ]
    },
    {
      "cell_type": "code",
      "metadata": {
        "id": "eo5-dtebCymu"
      },
      "source": [
        "X = df.drop(columns=['cell_state', 'cell_type'])\n",
        "y = df['cell_type']"
      ],
      "execution_count": 9,
      "outputs": []
    },
    {
      "cell_type": "code",
      "metadata": {
        "id": "UVXOhe-hEY_V"
      },
      "source": [
        "from sklearn.model_selection import train_test_split\n",
        "\n",
        "X_train, X_test, y_train, y_test = train_test_split(X, y, test_size=0.2, random_state=42, stratify=y)"
      ],
      "execution_count": 10,
      "outputs": []
    },
    {
      "cell_type": "markdown",
      "metadata": {
        "id": "PeOKGGXaHL0B"
      },
      "source": [
        "# 4. logistic regression"
      ]
    },
    {
      "cell_type": "markdown",
      "metadata": {
        "id": "bN-AKsarme_J"
      },
      "source": [
        "## without oversampling"
      ]
    },
    {
      "cell_type": "code",
      "metadata": {
        "id": "ugD8-hMnu-Rz"
      },
      "source": [
        "from sklearn.linear_model import LogisticRegression"
      ],
      "execution_count": null,
      "outputs": []
    },
    {
      "cell_type": "code",
      "metadata": {
        "id": "uUi9fEQ3u-BO",
        "colab": {
          "base_uri": "https://localhost:8080/"
        },
        "outputId": "255ccb8d-9dc9-4b66-bb4e-698c54c47d9a"
      },
      "source": [
        "# lr = LogisticRegression(max_iter=10000) original \n",
        "lr = LogisticRegression(solver='lbfgs', max_iter=1000)\n",
        "\n",
        "#  The warning means what it mainly says: Suggestions to try to make the solver (the algorithm) converges.\n",
        "# lbfgs stand for: \"Limited-memory Broyden–Fletcher–Goldfarb–Shanno Algorithm\". It is one of the solvers' algorithms provided by Scikit-Learn Library.\n",
        "lr.fit(X_train, y_train) \n",
        "\n"
      ],
      "execution_count": null,
      "outputs": [
        {
          "output_type": "execute_result",
          "data": {
            "text/plain": [
              "LogisticRegression(max_iter=1000)"
            ]
          },
          "metadata": {},
          "execution_count": 10
        }
      ]
    },
    {
      "cell_type": "code",
      "metadata": {
        "id": "RQmE0hzN1YpJ",
        "colab": {
          "base_uri": "https://localhost:8080/"
        },
        "outputId": "9426af8a-caa4-4ef3-fd79-d1ae0e3b1d1b"
      },
      "source": [
        "from sklearn.model_selection import cross_val_score\n",
        "lr_scores = cross_val_score(lr, X_train, y_train, cv=5, scoring='f1_weighted')\n",
        "lr_scores"
      ],
      "execution_count": null,
      "outputs": [
        {
          "output_type": "execute_result",
          "data": {
            "text/plain": [
              "array([0.90950174, 0.91719378, 0.91885002, 0.92772821, 0.93631907])"
            ]
          },
          "metadata": {},
          "execution_count": 32
        }
      ]
    },
    {
      "cell_type": "code",
      "metadata": {
        "colab": {
          "base_uri": "https://localhost:8080/"
        },
        "id": "Tiay8ch41km3",
        "outputId": "a3642b84-e247-4cc9-9dec-b83968d3efa4"
      },
      "source": [
        "# save the model to disk\n",
        "import joblib\n",
        "filename = 'lr_model_12classes.sav'\n",
        "joblib.dump(lr, filename)"
      ],
      "execution_count": null,
      "outputs": [
        {
          "output_type": "execute_result",
          "data": {
            "text/plain": [
              "['lr_model_12classes.sav']"
            ]
          },
          "metadata": {},
          "execution_count": 11
        }
      ]
    },
    {
      "cell_type": "markdown",
      "metadata": {
        "id": "_nHJSQrAI2fc"
      },
      "source": [
        "### evaluate model"
      ]
    },
    {
      "cell_type": "code",
      "metadata": {
        "id": "ygAfHBYh1km3"
      },
      "source": [
        "from sklearn.metrics import classification_report\n",
        "from sklearn.metrics import confusion_matrix\n",
        "from sklearn import metrics"
      ],
      "execution_count": null,
      "outputs": []
    },
    {
      "cell_type": "code",
      "metadata": {
        "id": "0Z7eCDVk1km3"
      },
      "source": [
        "# # load model\n",
        "# import joblib\n",
        "# filename = '/content/gdrive/MyDrive/Idorsia Capstone Project/models/lr_model_10.sav'\n",
        "# dtc = joblib.load(filename)\n",
        "# # result = clf.score(X_test, y_test)\n",
        "# # print(result)"
      ],
      "execution_count": null,
      "outputs": []
    },
    {
      "cell_type": "code",
      "metadata": {
        "colab": {
          "base_uri": "https://localhost:8080/"
        },
        "id": "h7txNBnn1km4",
        "outputId": "d8e5b8b0-f7c5-4e09-b167-d0907cce4679"
      },
      "source": [
        "# Prediction on test set\n",
        "y_pred = lr.predict(X_test)\n",
        "\n",
        "# Calculating the accuracy and F1\n",
        "acc_lr = round( metrics.accuracy_score(y_test, y_pred) * 100, 2 )\n",
        "f1_lr = round(metrics.f1_score(y_test, y_pred, average='weighted') * 100, 2)\n",
        "f1_lr_macro = round(metrics.f1_score(y_test, y_pred, average='macro') * 100, 2)\n",
        "print('Accuracy of logistic regression model : ', acc_lr)\n",
        "print('F1 of logistic regression model : ', f1_lr)\n",
        "print('F1 macro of logistic regression model : ', f1_lr_macro)"
      ],
      "execution_count": null,
      "outputs": [
        {
          "output_type": "stream",
          "name": "stdout",
          "text": [
            "Accuracy of logistic regression model :  92.54\n",
            "F1 of logistic regression model :  92.25\n",
            "F1 macro of logistic regression model :  82.07\n"
          ]
        }
      ]
    },
    {
      "cell_type": "code",
      "metadata": {
        "colab": {
          "base_uri": "https://localhost:8080/"
        },
        "id": "JhI5qP-r1km4",
        "outputId": "6b958c44-aab7-4210-840b-65a634e8b81b"
      },
      "source": [
        "report = classification_report(y_test, y_pred)\n",
        "print(report)"
      ],
      "execution_count": null,
      "outputs": [
        {
          "output_type": "stream",
          "name": "stdout",
          "text": [
            "                precision    recall  f1-score   support\n",
            "\n",
            "        B-cell       0.98      0.99      0.98       158\n",
            "        T-cell       0.96      0.99      0.97       908\n",
            "dendritic cell       0.90      0.91      0.90       197\n",
            "   granulocyte       0.89      0.78      0.83        50\n",
            "   killer cell       0.93      0.78      0.85        50\n",
            "     leukocyte       0.96      0.74      0.84        31\n",
            "    lymphocyte       0.87      0.68      0.76        50\n",
            "    macrophage       0.80      0.77      0.78       142\n",
            "     mast cell       0.98      0.98      0.98        50\n",
            "      monocyte       0.80      0.86      0.83       100\n",
            "  myeloid cell       0.25      0.09      0.13        11\n",
            "   plasma cell       0.98      1.00      0.99        50\n",
            "\n",
            "      accuracy                           0.93      1797\n",
            "     macro avg       0.86      0.80      0.82      1797\n",
            "  weighted avg       0.92      0.93      0.92      1797\n",
            "\n"
          ]
        }
      ]
    },
    {
      "cell_type": "code",
      "metadata": {
        "colab": {
          "base_uri": "https://localhost:8080/"
        },
        "id": "diXEzh_p1km4",
        "outputId": "72c58436-ce04-429d-c818-953db54e8d5a"
      },
      "source": [
        "cm = confusion_matrix(y_test, y_pred)\n",
        "cm"
      ],
      "execution_count": null,
      "outputs": [
        {
          "output_type": "execute_result",
          "data": {
            "text/plain": [
              "array([[156,   1,   0,   0,   0,   0,   0,   0,   0,   0,   0,   1],\n",
              "       [  2, 898,   0,   0,   2,   1,   5,   0,   0,   0,   0,   0],\n",
              "       [  0,   1, 179,   3,   0,   0,   0,  10,   0,   4,   0,   0],\n",
              "       [  0,   0,   5,  39,   0,   0,   0,   2,   0,   4,   0,   0],\n",
              "       [  0,  11,   0,   0,  39,   0,   0,   0,   0,   0,   0,   0],\n",
              "       [  0,   6,   0,   0,   0,  23,   0,   1,   1,   0,   0,   0],\n",
              "       [  0,  15,   0,   0,   1,   0,  34,   0,   0,   0,   0,   0],\n",
              "       [  1,   5,   9,   1,   0,   0,   0, 109,   0,  14,   3,   0],\n",
              "       [  0,   1,   0,   0,   0,   0,   0,   0,  49,   0,   0,   0],\n",
              "       [  0,   1,   4,   0,   0,   0,   0,   9,   0,  86,   0,   0],\n",
              "       [  0,   0,   3,   1,   0,   0,   0,   6,   0,   0,   1,   0],\n",
              "       [  0,   0,   0,   0,   0,   0,   0,   0,   0,   0,   0,  50]])"
            ]
          },
          "metadata": {},
          "execution_count": 16
        }
      ]
    },
    {
      "cell_type": "code",
      "metadata": {
        "colab": {
          "base_uri": "https://localhost:8080/",
          "height": 568
        },
        "id": "20hTPab61km4",
        "outputId": "dd40096e-c5ba-436a-cf02-027133e93c46"
      },
      "source": [
        "# import seaborn as sns\n",
        "# import matplotlib.pyplot as plt     \n",
        "\n",
        "fig, ax= plt.subplots(figsize=(10,8))\n",
        "sns.heatmap(cm, annot=True, fmt='g', ax=ax);  #annot=True to annotate cells, ftm='g' to disable scientific notation\n",
        "\n",
        "# labels, title and ticks\n",
        "ax.set_xlabel('Predicted labels');ax.set_ylabel('True labels'); \n",
        "ax.xaxis.set_ticklabels(np.unique(y_train)); ax.yaxis.set_ticklabels(np.unique(y_train));\n",
        "plt.xticks(rotation=90)\n",
        "plt.yticks(rotation=0)\n",
        "ax.set_title('Confusion Matrix dtc'); \n",
        "plt.savefig('confusion_matrix_dtc12Class20211027.png')\n",
        "plt.show()"
      ],
      "execution_count": null,
      "outputs": [
        {
          "output_type": "display_data",
          "data": {
            "image/png": "[encoded data removed]",
            "text/plain": [
              "<Figure size 720x576 with 2 Axes>"
            ]
          },
          "metadata": {
            "needs_background": "light"
          }
        }
      ]
    },
    {
      "cell_type": "markdown",
      "metadata": {
        "id": "elpiVeJEClM_"
      },
      "source": [
        "## oversampling with SMOTEN\n",
        "\n",
        "have to pass data in it's naked format NOT in hot coded\n",
        "\n",
        "need to use split data since only train data has to be oversampled"
      ]
    },
    {
      "cell_type": "code",
      "metadata": {
        "id": "SfM5P9kE3kll"
      },
      "source": [
        "from imblearn.over_sampling import SMOTEN"
      ],
      "execution_count": null,
      "outputs": []
    },
    {
      "cell_type": "code",
      "metadata": {
        "colab": {
          "base_uri": "https://localhost:8080/"
        },
        "id": "gZWp_S9KUOEZ",
        "outputId": "0887857c-2216-45db-ab2d-7d755d25a577"
      },
      "source": [
        "y_train.value_counts()"
      ],
      "execution_count": null,
      "outputs": [
        {
          "output_type": "execute_result",
          "data": {
            "text/plain": [
              "T-cell            3629\n",
              "dendritic cell     785\n",
              "B-cell             632\n",
              "macrophage         570\n",
              "monocyte           400\n",
              "granulocyte        200\n",
              "mast cell          200\n",
              "plasma cell        200\n",
              "killer cell        200\n",
              "lymphocyte         200\n",
              "leukocyte          126\n",
              "myeloid cell        45\n",
              "Name: cell_type, dtype: int64"
            ]
          },
          "metadata": {},
          "execution_count": 18
        }
      ]
    },
    {
      "cell_type": "code",
      "metadata": {
        "id": "S3mApstJmHE6"
      },
      "source": [
        "# Manipulated\n",
        "oversampling_weights= {\n",
        "    'T-cell': 3629,\n",
        "    'B-cell': 632,\n",
        "    'plasma cell': 200,\n",
        "    'macrophage': 570,\n",
        "    'killer cell':200,\n",
        "    'monocyte': 400,\n",
        "    'dendritic cell': 785,\n",
        "    'lymphocyte': 200,\n",
        "    'granulocyte': 200,\n",
        "    'mast cell': 200,\n",
        "    'leukocyte': 126,\n",
        "    'myeloid cell': 100\n",
        "}"
      ],
      "execution_count": null,
      "outputs": []
    },
    {
      "cell_type": "code",
      "metadata": {
        "id": "P_1AWs6EClNA"
      },
      "source": [
        "smtn = sampler = SMOTEN(random_state=0, sampling_strategy=oversampling_weights)\n",
        "X_train_smote, y_train_smote = smtn.fit_resample(X_train, y_train)"
      ],
      "execution_count": null,
      "outputs": []
    },
    {
      "cell_type": "code",
      "metadata": {
        "id": "IBgIMlqxClNA",
        "colab": {
          "base_uri": "https://localhost:8080/"
        },
        "outputId": "6e003299-2fb7-468c-a008-620b6afabb97"
      },
      "source": [
        "y_train.value_counts()"
      ],
      "execution_count": null,
      "outputs": [
        {
          "output_type": "execute_result",
          "data": {
            "text/plain": [
              "T-cell            3629\n",
              "dendritic cell     785\n",
              "B-cell             632\n",
              "macrophage         570\n",
              "monocyte           400\n",
              "granulocyte        200\n",
              "mast cell          200\n",
              "plasma cell        200\n",
              "killer cell        200\n",
              "lymphocyte         200\n",
              "leukocyte          126\n",
              "myeloid cell        45\n",
              "Name: cell_type, dtype: int64"
            ]
          },
          "metadata": {},
          "execution_count": 21
        }
      ]
    },
    {
      "cell_type": "code",
      "metadata": {
        "id": "5xronWntClNA",
        "colab": {
          "base_uri": "https://localhost:8080/"
        },
        "outputId": "d22dc843-c15c-4f27-9114-f37712924c2a"
      },
      "source": [
        "y_train_smote.value_counts()"
      ],
      "execution_count": null,
      "outputs": [
        {
          "output_type": "execute_result",
          "data": {
            "text/plain": [
              "T-cell            3629\n",
              "dendritic cell     785\n",
              "B-cell             632\n",
              "macrophage         570\n",
              "monocyte           400\n",
              "granulocyte        200\n",
              "mast cell          200\n",
              "plasma cell        200\n",
              "killer cell        200\n",
              "lymphocyte         200\n",
              "leukocyte          126\n",
              "myeloid cell       100\n",
              "Name: cell_type, dtype: int64"
            ]
          },
          "metadata": {},
          "execution_count": 22
        }
      ]
    },
    {
      "cell_type": "markdown",
      "metadata": {
        "id": "3P3IqZzA9PKy"
      },
      "source": [
        "### train lr"
      ]
    },
    {
      "cell_type": "code",
      "metadata": {
        "id": "QktOn4lK9bNZ"
      },
      "source": [
        "from sklearn.linear_model import LogisticRegression"
      ],
      "execution_count": null,
      "outputs": []
    },
    {
      "cell_type": "code",
      "metadata": {
        "id": "Y7y1vq7N9Iur",
        "colab": {
          "base_uri": "https://localhost:8080/"
        },
        "outputId": "4cb84fb3-0277-4b82-96cb-b17b9f937154"
      },
      "source": [
        "lr_smote = LogisticRegression(max_iter=10000)\n",
        "lr_smote.fit(X_train_smote, y_train_smote) "
      ],
      "execution_count": null,
      "outputs": [
        {
          "output_type": "execute_result",
          "data": {
            "text/plain": [
              "LogisticRegression(max_iter=10000)"
            ]
          },
          "metadata": {},
          "execution_count": 24
        }
      ]
    },
    {
      "cell_type": "code",
      "metadata": {
        "id": "xHUGXRfb9Ius",
        "colab": {
          "base_uri": "https://localhost:8080/"
        },
        "outputId": "602d8e4a-6192-42c3-df2e-c033d25beb3d"
      },
      "source": [
        "from sklearn.model_selection import cross_val_score  # 3.5 hours \n",
        "# Original \n",
        "#lr_smote_scores = cross_val_score(lr_smote, X_train_smote, y_train_smote, cv=5, scoring='f1_weighted', max_iter=10000)\n",
        "\n",
        "# New one without max_iter=10000 because it gives an error message saying that max_iter should not be here \n",
        "lr_smote_scores = cross_val_score(lr_smote, X_train_smote, y_train_smote, cv=5, scoring='f1_weighted')\n",
        "lr_smote_scores"
      ],
      "execution_count": null,
      "outputs": [
        {
          "output_type": "execute_result",
          "data": {
            "text/plain": [
              "array([0.9009199 , 0.90690204, 0.92549448, 0.93509285, 0.94390017])"
            ]
          },
          "metadata": {},
          "execution_count": 33
        }
      ]
    },
    {
      "cell_type": "code",
      "metadata": {
        "id": "E4UPTwZO9Ius",
        "colab": {
          "base_uri": "https://localhost:8080/"
        },
        "outputId": "b1c9166d-0315-4c9a-ae15-a7aad73d2ff4"
      },
      "source": [
        "# save the model to disk\n",
        "import joblib\n",
        "filename = 'lr_model_12classes_smote.sav'\n",
        "joblib.dump(lr_smote, filename)"
      ],
      "execution_count": null,
      "outputs": [
        {
          "output_type": "execute_result",
          "data": {
            "text/plain": [
              "['lr_model_12classes_smote.sav']"
            ]
          },
          "metadata": {},
          "execution_count": 25
        }
      ]
    },
    {
      "cell_type": "markdown",
      "metadata": {
        "id": "E-CGd1Ul9Ius"
      },
      "source": [
        "### evaluate model"
      ]
    },
    {
      "cell_type": "code",
      "metadata": {
        "id": "9uWMm7jy9Ius"
      },
      "source": [
        "from sklearn.metrics import classification_report\n",
        "from sklearn.metrics import confusion_matrix\n",
        "from sklearn import metrics"
      ],
      "execution_count": null,
      "outputs": []
    },
    {
      "cell_type": "code",
      "metadata": {
        "id": "5MqnoKIs9Iut"
      },
      "source": [
        "# # load model\n",
        "# import joblib\n",
        "# filename = '/content/gdrive/MyDrive/Idorsia Capstone Project/models/lr_model_10.sav'\n",
        "# dtc = joblib.load(filename)\n",
        "# # result = clf.score(X_test, y_test)\n",
        "# # print(result)"
      ],
      "execution_count": null,
      "outputs": []
    },
    {
      "cell_type": "code",
      "metadata": {
        "id": "NGwsqmCq9Iut",
        "colab": {
          "base_uri": "https://localhost:8080/"
        },
        "outputId": "9e2faaac-c0a6-4337-8e37-e5511face13e"
      },
      "source": [
        "# Prediction on test set\n",
        "y_pred_smote = lr_smote.predict(X_test)\n",
        "\n",
        "# Calculating the accuracy and F1\n",
        "acc_lr_smote = round(metrics.accuracy_score(y_test, y_pred_smote) * 100, 2 )\n",
        "f1_lr_smote = round(metrics.f1_score(y_test, y_pred_smote, average='weighted') * 100, 2)\n",
        "f1_lr_smote_macro = round(metrics.f1_score(y_test, y_pred_smote, average='macro') * 100, 2)\n",
        "print('Accuracy of logistic regression model : ', acc_lr_smote)\n",
        "print('F1 weighted of logistic regression model : ', f1_lr_smote)\n",
        "print('F1 macro of logistic regression model : ', f1_lr_smote_macro)"
      ],
      "execution_count": null,
      "outputs": [
        {
          "output_type": "stream",
          "name": "stdout",
          "text": [
            "Accuracy of logistic regression model :  92.6\n",
            "F1 weighted of logistic regression model :  92.35\n",
            "F1 macro of logistic regression model :  83.02\n"
          ]
        }
      ]
    },
    {
      "cell_type": "code",
      "metadata": {
        "id": "XnLpSNH99Iut",
        "colab": {
          "base_uri": "https://localhost:8080/"
        },
        "outputId": "aa4afa04-e533-49dd-fb7d-49df47371a9a"
      },
      "source": [
        "report = classification_report(y_test, y_pred_smote)\n",
        "print(report)"
      ],
      "execution_count": null,
      "outputs": [
        {
          "output_type": "stream",
          "name": "stdout",
          "text": [
            "                precision    recall  f1-score   support\n",
            "\n",
            "        B-cell       0.98      0.99      0.98       158\n",
            "        T-cell       0.96      0.99      0.97       908\n",
            "dendritic cell       0.90      0.91      0.90       197\n",
            "   granulocyte       0.89      0.78      0.83        50\n",
            "   killer cell       0.93      0.78      0.85        50\n",
            "     leukocyte       0.96      0.77      0.86        31\n",
            "    lymphocyte       0.87      0.66      0.75        50\n",
            "    macrophage       0.80      0.76      0.78       142\n",
            "     mast cell       0.98      0.98      0.98        50\n",
            "      monocyte       0.80      0.86      0.83       100\n",
            "  myeloid cell       0.33      0.18      0.24        11\n",
            "   plasma cell       0.98      1.00      0.99        50\n",
            "\n",
            "      accuracy                           0.93      1797\n",
            "     macro avg       0.86      0.81      0.83      1797\n",
            "  weighted avg       0.92      0.93      0.92      1797\n",
            "\n"
          ]
        }
      ]
    },
    {
      "cell_type": "code",
      "metadata": {
        "id": "21gY1C9A9Iuu",
        "colab": {
          "base_uri": "https://localhost:8080/"
        },
        "outputId": "a34d6925-908f-4178-fb8b-7f39963c596c"
      },
      "source": [
        "cm = confusion_matrix(y_test, y_pred_smote)\n",
        "cm"
      ],
      "execution_count": null,
      "outputs": [
        {
          "output_type": "execute_result",
          "data": {
            "text/plain": [
              "array([[156,   1,   0,   0,   0,   0,   0,   0,   0,   0,   0,   1],\n",
              "       [  2, 898,   0,   0,   2,   1,   5,   0,   0,   0,   0,   0],\n",
              "       [  0,   1, 180,   3,   0,   0,   0,  10,   0,   3,   0,   0],\n",
              "       [  0,   0,   5,  39,   0,   0,   0,   2,   0,   4,   0,   0],\n",
              "       [  0,  11,   0,   0,  39,   0,   0,   0,   0,   0,   0,   0],\n",
              "       [  0,   5,   0,   0,   0,  24,   0,   1,   1,   0,   0,   0],\n",
              "       [  0,  16,   0,   0,   1,   0,  33,   0,   0,   0,   0,   0],\n",
              "       [  1,   5,   9,   1,   0,   0,   0, 108,   0,  14,   4,   0],\n",
              "       [  0,   1,   0,   0,   0,   0,   0,   0,  49,   0,   0,   0],\n",
              "       [  0,   1,   4,   0,   0,   0,   0,   9,   0,  86,   0,   0],\n",
              "       [  0,   0,   3,   1,   0,   0,   0,   5,   0,   0,   2,   0],\n",
              "       [  0,   0,   0,   0,   0,   0,   0,   0,   0,   0,   0,  50]])"
            ]
          },
          "metadata": {},
          "execution_count": 30
        }
      ]
    },
    {
      "cell_type": "code",
      "metadata": {
        "id": "EyjQpXBD9Iuu",
        "colab": {
          "base_uri": "https://localhost:8080/",
          "height": 568
        },
        "outputId": "d4b6abeb-546d-423a-9049-87f547525746"
      },
      "source": [
        "# import seaborn as sns\n",
        "# import matplotlib.pyplot as plt     \n",
        "\n",
        "fig, ax= plt.subplots(figsize=(10,8))\n",
        "sns.heatmap(cm, annot=True, fmt='g', ax=ax);  #annot=True to annotate cells, ftm='g' to disable scientific notation\n",
        "\n",
        "# labels, title and ticks\n",
        "ax.set_xlabel('Predicted labels');ax.set_ylabel('True labels'); \n",
        "ax.xaxis.set_ticklabels(np.unique(y_train)); ax.yaxis.set_ticklabels(np.unique(y_train));\n",
        "plt.xticks(rotation=90)\n",
        "plt.yticks(rotation=0)\n",
        "ax.set_title('Confusion Matrix dtc'); \n",
        "plt.savefig('confusion_matrix_SMOTENdtc12Class20211027.png')\n",
        "plt.show()"
      ],
      "execution_count": null,
      "outputs": [
        {
          "output_type": "display_data",
          "data": {
            "image/png": "[encoded data removed]",
            "text/plain": [
              "<Figure size 720x576 with 2 Axes>"
            ]
          },
          "metadata": {
            "needs_background": "light"
          }
        }
      ]
    },
    {
      "cell_type": "markdown",
      "metadata": {
        "id": "EoWcryXFmv8-"
      },
      "source": [
        "# 5. Predict Test Data (random 30% subset)"
      ]
    },
    {
      "cell_type": "markdown",
      "metadata": {
        "id": "2bCQzmaKm2zO"
      },
      "source": [
        "## import test data"
      ]
    },
    {
      "cell_type": "code",
      "metadata": {
        "colab": {
          "base_uri": "https://localhost:8080/"
        },
        "id": "EKE4FTyKm2zP",
        "outputId": "1dc5c473-5e4c-482b-a24e-4a8cbb9fd212"
      },
      "source": [
        "!unzip '/content/gdrive/MyDrive/Idorsia Capstone Project/data/subset_30.zip'"
      ],
      "execution_count": null,
      "outputs": [
        {
          "output_type": "stream",
          "name": "stdout",
          "text": [
            "Archive:  /content/gdrive/MyDrive/Idorsia Capstone Project/data/subset_30.zip\n",
            "  inflating: subset_30.csv           \n"
          ]
        }
      ]
    },
    {
      "cell_type": "code",
      "metadata": {
        "colab": {
          "base_uri": "https://localhost:8080/",
          "height": 522
        },
        "id": "_OGyYxxCm2zP",
        "outputId": "6213c464-45f3-4903-d610-6706c4f90884"
      },
      "source": [
        "df = pd.read_csv('subset_30.csv', index_col=0)\n",
        "df.head()"
      ],
      "execution_count": null,
      "outputs": [
        {
          "output_type": "execute_result",
          "data": {
            "text/html": [
              "<div>\n",
              "<style scoped>\n",
              "    .dataframe tbody tr th:only-of-type {\n",
              "        vertical-align: middle;\n",
              "    }\n",
              "\n",
              "    .dataframe tbody tr th {\n",
              "        vertical-align: top;\n",
              "    }\n",
              "\n",
              "    .dataframe thead th {\n",
              "        text-align: right;\n",
              "    }\n",
              "</style>\n",
              "<table border=\"1\" class=\"dataframe\">\n",
              "  <thead>\n",
              "    <tr style=\"text-align: right;\">\n",
              "      <th></th>\n",
              "      <th>PLEKHN1</th>\n",
              "      <th>ISG15</th>\n",
              "      <th>TNFRSF18</th>\n",
              "      <th>TNFRSF4</th>\n",
              "      <th>DVL1</th>\n",
              "      <th>CCNL2</th>\n",
              "      <th>MIB2</th>\n",
              "      <th>SLC35E2B</th>\n",
              "      <th>CDK11A</th>\n",
              "      <th>SKI</th>\n",
              "      <th>PLCH2</th>\n",
              "      <th>KCNAB2</th>\n",
              "      <th>ACOT7</th>\n",
              "      <th>TNFRSF25</th>\n",
              "      <th>RERE</th>\n",
              "      <th>ENO1</th>\n",
              "      <th>PIK3CD</th>\n",
              "      <th>CLSTN1</th>\n",
              "      <th>SRM</th>\n",
              "      <th>FBXO2</th>\n",
              "      <th>FBXO44</th>\n",
              "      <th>AGTRAP</th>\n",
              "      <th>MTHFR</th>\n",
              "      <th>CLCN6</th>\n",
              "      <th>TNFRSF1B</th>\n",
              "      <th>VPS13D</th>\n",
              "      <th>DHRS3</th>\n",
              "      <th>PRDM2</th>\n",
              "      <th>EFHD2</th>\n",
              "      <th>DDI2</th>\n",
              "      <th>SPEN</th>\n",
              "      <th>CROCC</th>\n",
              "      <th>ATP13A2</th>\n",
              "      <th>UBR4</th>\n",
              "      <th>OTUD3</th>\n",
              "      <th>ECE1</th>\n",
              "      <th>USP48</th>\n",
              "      <th>LUZP1</th>\n",
              "      <th>ID3</th>\n",
              "      <th>RPL11</th>\n",
              "      <th>...</th>\n",
              "      <th>BACH1</th>\n",
              "      <th>TIAM1</th>\n",
              "      <th>SOD1</th>\n",
              "      <th>EVA1C</th>\n",
              "      <th>PAXBP1</th>\n",
              "      <th>IFNGR2</th>\n",
              "      <th>MRPS6</th>\n",
              "      <th>SLC5A3</th>\n",
              "      <th>RUNX1</th>\n",
              "      <th>CBR3</th>\n",
              "      <th>TTC3</th>\n",
              "      <th>DYRK1A</th>\n",
              "      <th>ETS2</th>\n",
              "      <th>HMGN1</th>\n",
              "      <th>MX2</th>\n",
              "      <th>MX1</th>\n",
              "      <th>ABCG1</th>\n",
              "      <th>UBASH3A</th>\n",
              "      <th>PKNOX1</th>\n",
              "      <th>CSTB</th>\n",
              "      <th>ITGB2</th>\n",
              "      <th>ADARB1</th>\n",
              "      <th>COL18A1</th>\n",
              "      <th>LSS</th>\n",
              "      <th>MCM3AP</th>\n",
              "      <th>PCNT</th>\n",
              "      <th>DIP2A</th>\n",
              "      <th>MT-ND1</th>\n",
              "      <th>MT-ND2</th>\n",
              "      <th>MT-CO1</th>\n",
              "      <th>MT-CO2</th>\n",
              "      <th>MT-ATP6</th>\n",
              "      <th>MT-CO3</th>\n",
              "      <th>MT-ND4</th>\n",
              "      <th>MT-ND5</th>\n",
              "      <th>MT-CYB</th>\n",
              "      <th>cell_state</th>\n",
              "      <th>cell_type</th>\n",
              "      <th>cell_type_2</th>\n",
              "      <th>cell_type_3</th>\n",
              "    </tr>\n",
              "    <tr>\n",
              "      <th>Unnamed: 0</th>\n",
              "      <th></th>\n",
              "      <th></th>\n",
              "      <th></th>\n",
              "      <th></th>\n",
              "      <th></th>\n",
              "      <th></th>\n",
              "      <th></th>\n",
              "      <th></th>\n",
              "      <th></th>\n",
              "      <th></th>\n",
              "      <th></th>\n",
              "      <th></th>\n",
              "      <th></th>\n",
              "      <th></th>\n",
              "      <th></th>\n",
              "      <th></th>\n",
              "      <th></th>\n",
              "      <th></th>\n",
              "      <th></th>\n",
              "      <th></th>\n",
              "      <th></th>\n",
              "      <th></th>\n",
              "      <th></th>\n",
              "      <th></th>\n",
              "      <th></th>\n",
              "      <th></th>\n",
              "      <th></th>\n",
              "      <th></th>\n",
              "      <th></th>\n",
              "      <th></th>\n",
              "      <th></th>\n",
              "      <th></th>\n",
              "      <th></th>\n",
              "      <th></th>\n",
              "      <th></th>\n",
              "      <th></th>\n",
              "      <th></th>\n",
              "      <th></th>\n",
              "      <th></th>\n",
              "      <th></th>\n",
              "      <th></th>\n",
              "      <th></th>\n",
              "      <th></th>\n",
              "      <th></th>\n",
              "      <th></th>\n",
              "      <th></th>\n",
              "      <th></th>\n",
              "      <th></th>\n",
              "      <th></th>\n",
              "      <th></th>\n",
              "      <th></th>\n",
              "      <th></th>\n",
              "      <th></th>\n",
              "      <th></th>\n",
              "      <th></th>\n",
              "      <th></th>\n",
              "      <th></th>\n",
              "      <th></th>\n",
              "      <th></th>\n",
              "      <th></th>\n",
              "      <th></th>\n",
              "      <th></th>\n",
              "      <th></th>\n",
              "      <th></th>\n",
              "      <th></th>\n",
              "      <th></th>\n",
              "      <th></th>\n",
              "      <th></th>\n",
              "      <th></th>\n",
              "      <th></th>\n",
              "      <th></th>\n",
              "      <th></th>\n",
              "      <th></th>\n",
              "      <th></th>\n",
              "      <th></th>\n",
              "      <th></th>\n",
              "      <th></th>\n",
              "      <th></th>\n",
              "      <th></th>\n",
              "      <th></th>\n",
              "      <th></th>\n",
              "    </tr>\n",
              "  </thead>\n",
              "  <tbody>\n",
              "    <tr>\n",
              "      <th>GSM3721462_TTAACTCGTGGTCCGT</th>\n",
              "      <td>-0.107822</td>\n",
              "      <td>1.051505</td>\n",
              "      <td>2.883262</td>\n",
              "      <td>2.432532</td>\n",
              "      <td>-0.109245</td>\n",
              "      <td>-0.396519</td>\n",
              "      <td>-0.311899</td>\n",
              "      <td>-0.228958</td>\n",
              "      <td>-0.374381</td>\n",
              "      <td>-0.314901</td>\n",
              "      <td>-0.123083</td>\n",
              "      <td>-0.478353</td>\n",
              "      <td>-0.121983</td>\n",
              "      <td>-0.410996</td>\n",
              "      <td>-0.317847</td>\n",
              "      <td>1.079731</td>\n",
              "      <td>-0.391834</td>\n",
              "      <td>2.974507</td>\n",
              "      <td>-0.301609</td>\n",
              "      <td>-0.098347</td>\n",
              "      <td>-0.279872</td>\n",
              "      <td>-0.395123</td>\n",
              "      <td>-0.191592</td>\n",
              "      <td>-0.141523</td>\n",
              "      <td>2.747149</td>\n",
              "      <td>-0.286109</td>\n",
              "      <td>-0.258971</td>\n",
              "      <td>-0.405238</td>\n",
              "      <td>2.290373</td>\n",
              "      <td>-0.221732</td>\n",
              "      <td>-0.336877</td>\n",
              "      <td>-0.186678</td>\n",
              "      <td>-0.190720</td>\n",
              "      <td>-0.397566</td>\n",
              "      <td>-0.121845</td>\n",
              "      <td>-0.290821</td>\n",
              "      <td>-0.388675</td>\n",
              "      <td>-0.311518</td>\n",
              "      <td>-0.330698</td>\n",
              "      <td>-0.205876</td>\n",
              "      <td>...</td>\n",
              "      <td>-0.378217</td>\n",
              "      <td>-0.303091</td>\n",
              "      <td>1.793907</td>\n",
              "      <td>-0.161401</td>\n",
              "      <td>4.651855</td>\n",
              "      <td>-0.297566</td>\n",
              "      <td>-0.692460</td>\n",
              "      <td>-0.375107</td>\n",
              "      <td>-0.377831</td>\n",
              "      <td>-0.095107</td>\n",
              "      <td>-0.533894</td>\n",
              "      <td>-0.263100</td>\n",
              "      <td>-0.352260</td>\n",
              "      <td>-1.154305</td>\n",
              "      <td>-0.382664</td>\n",
              "      <td>-0.426481</td>\n",
              "      <td>-0.379495</td>\n",
              "      <td>-0.342781</td>\n",
              "      <td>-0.212108</td>\n",
              "      <td>0.508784</td>\n",
              "      <td>-0.968659</td>\n",
              "      <td>-0.167294</td>\n",
              "      <td>-0.175711</td>\n",
              "      <td>-0.158574</td>\n",
              "      <td>-0.314983</td>\n",
              "      <td>-0.196282</td>\n",
              "      <td>-0.375283</td>\n",
              "      <td>-1.761688</td>\n",
              "      <td>-0.432253</td>\n",
              "      <td>0.329213</td>\n",
              "      <td>0.979543</td>\n",
              "      <td>0.790286</td>\n",
              "      <td>0.796424</td>\n",
              "      <td>0.370406</td>\n",
              "      <td>0.648496</td>\n",
              "      <td>1.069004</td>\n",
              "      <td>CD4 regulatory T-cell (unspecified)</td>\n",
              "      <td>T-cell</td>\n",
              "      <td>CD4 T-cell</td>\n",
              "      <td>CD4 regulatory T-cell (unspecified)</td>\n",
              "    </tr>\n",
              "    <tr>\n",
              "      <th>ERS3566166_TTAGGACGTATCGCAT</th>\n",
              "      <td>-0.063655</td>\n",
              "      <td>1.507653</td>\n",
              "      <td>2.670236</td>\n",
              "      <td>-0.142561</td>\n",
              "      <td>-0.135437</td>\n",
              "      <td>-0.394918</td>\n",
              "      <td>3.389801</td>\n",
              "      <td>-0.269016</td>\n",
              "      <td>2.823940</td>\n",
              "      <td>-0.359724</td>\n",
              "      <td>-0.094244</td>\n",
              "      <td>-0.434981</td>\n",
              "      <td>-0.189475</td>\n",
              "      <td>-0.235168</td>\n",
              "      <td>-0.368243</td>\n",
              "      <td>-0.923308</td>\n",
              "      <td>-0.340171</td>\n",
              "      <td>-0.306440</td>\n",
              "      <td>-0.214260</td>\n",
              "      <td>-0.094144</td>\n",
              "      <td>-0.236329</td>\n",
              "      <td>-0.306553</td>\n",
              "      <td>-0.231763</td>\n",
              "      <td>-0.188861</td>\n",
              "      <td>-0.591062</td>\n",
              "      <td>-0.322846</td>\n",
              "      <td>-0.314922</td>\n",
              "      <td>-0.458404</td>\n",
              "      <td>2.475220</td>\n",
              "      <td>-0.198593</td>\n",
              "      <td>-0.366953</td>\n",
              "      <td>-0.152740</td>\n",
              "      <td>-0.180766</td>\n",
              "      <td>-0.427092</td>\n",
              "      <td>-0.135466</td>\n",
              "      <td>-0.284995</td>\n",
              "      <td>-0.375764</td>\n",
              "      <td>-0.263782</td>\n",
              "      <td>-0.403794</td>\n",
              "      <td>-0.931781</td>\n",
              "      <td>...</td>\n",
              "      <td>-0.395308</td>\n",
              "      <td>-0.210619</td>\n",
              "      <td>0.566931</td>\n",
              "      <td>-0.157472</td>\n",
              "      <td>-0.211639</td>\n",
              "      <td>-0.283868</td>\n",
              "      <td>-0.457814</td>\n",
              "      <td>-0.286747</td>\n",
              "      <td>-0.342757</td>\n",
              "      <td>-0.138169</td>\n",
              "      <td>-0.573991</td>\n",
              "      <td>-0.310218</td>\n",
              "      <td>-0.326078</td>\n",
              "      <td>-1.110088</td>\n",
              "      <td>-0.238186</td>\n",
              "      <td>-0.205472</td>\n",
              "      <td>2.835677</td>\n",
              "      <td>-0.192411</td>\n",
              "      <td>-0.171109</td>\n",
              "      <td>0.858273</td>\n",
              "      <td>2.118469</td>\n",
              "      <td>-0.197778</td>\n",
              "      <td>-0.206334</td>\n",
              "      <td>-0.164395</td>\n",
              "      <td>-0.345497</td>\n",
              "      <td>-0.283872</td>\n",
              "      <td>-0.360782</td>\n",
              "      <td>-0.247293</td>\n",
              "      <td>0.725249</td>\n",
              "      <td>-0.654162</td>\n",
              "      <td>-0.337532</td>\n",
              "      <td>-0.868864</td>\n",
              "      <td>0.054169</td>\n",
              "      <td>0.341223</td>\n",
              "      <td>-1.366824</td>\n",
              "      <td>-1.693424</td>\n",
              "      <td>CD8 exhausted cytotoxic T-cell (unspecified)</td>\n",
              "      <td>T-cell</td>\n",
              "      <td>CD8 T-cell</td>\n",
              "      <td>CD8 exhausted cytotoxic T-cell (unspecified)</td>\n",
              "    </tr>\n",
              "    <tr>\n",
              "      <th>GSM4143657_GTATTCTGTGGCGAAT</th>\n",
              "      <td>-0.113647</td>\n",
              "      <td>0.480302</td>\n",
              "      <td>-0.515310</td>\n",
              "      <td>-0.505588</td>\n",
              "      <td>-0.108071</td>\n",
              "      <td>1.590379</td>\n",
              "      <td>-0.313657</td>\n",
              "      <td>-0.220113</td>\n",
              "      <td>-0.364669</td>\n",
              "      <td>2.120046</td>\n",
              "      <td>6.166434</td>\n",
              "      <td>1.260205</td>\n",
              "      <td>-0.260681</td>\n",
              "      <td>-0.442320</td>\n",
              "      <td>-0.305378</td>\n",
              "      <td>0.980242</td>\n",
              "      <td>-0.375075</td>\n",
              "      <td>-0.338135</td>\n",
              "      <td>-0.378109</td>\n",
              "      <td>-0.098390</td>\n",
              "      <td>-0.273910</td>\n",
              "      <td>-0.412770</td>\n",
              "      <td>-0.195258</td>\n",
              "      <td>-0.143248</td>\n",
              "      <td>-0.767891</td>\n",
              "      <td>2.455667</td>\n",
              "      <td>-0.260026</td>\n",
              "      <td>-0.404972</td>\n",
              "      <td>1.378897</td>\n",
              "      <td>-0.238459</td>\n",
              "      <td>-0.356384</td>\n",
              "      <td>-0.180861</td>\n",
              "      <td>-0.196920</td>\n",
              "      <td>-0.402247</td>\n",
              "      <td>-0.125187</td>\n",
              "      <td>-0.321445</td>\n",
              "      <td>1.539020</td>\n",
              "      <td>-0.322930</td>\n",
              "      <td>-0.362763</td>\n",
              "      <td>0.687239</td>\n",
              "      <td>...</td>\n",
              "      <td>-0.406624</td>\n",
              "      <td>-0.327391</td>\n",
              "      <td>0.134323</td>\n",
              "      <td>-0.162440</td>\n",
              "      <td>-0.213711</td>\n",
              "      <td>-0.451615</td>\n",
              "      <td>-0.799243</td>\n",
              "      <td>-0.395797</td>\n",
              "      <td>-0.404153</td>\n",
              "      <td>-0.150954</td>\n",
              "      <td>-0.551123</td>\n",
              "      <td>-0.260729</td>\n",
              "      <td>-0.372876</td>\n",
              "      <td>-0.166995</td>\n",
              "      <td>-0.382728</td>\n",
              "      <td>-0.475363</td>\n",
              "      <td>-0.420067</td>\n",
              "      <td>-0.360509</td>\n",
              "      <td>-0.235100</td>\n",
              "      <td>-0.072508</td>\n",
              "      <td>0.625717</td>\n",
              "      <td>-0.157375</td>\n",
              "      <td>-0.179278</td>\n",
              "      <td>-0.167442</td>\n",
              "      <td>-0.312845</td>\n",
              "      <td>-0.214009</td>\n",
              "      <td>-0.357135</td>\n",
              "      <td>0.161567</td>\n",
              "      <td>0.077252</td>\n",
              "      <td>-0.491519</td>\n",
              "      <td>0.435404</td>\n",
              "      <td>0.563995</td>\n",
              "      <td>0.375063</td>\n",
              "      <td>1.105832</td>\n",
              "      <td>0.026785</td>\n",
              "      <td>0.233371</td>\n",
              "      <td>CD4 helper T-cell (unspecified)</td>\n",
              "      <td>T-cell</td>\n",
              "      <td>CD4 T-cell</td>\n",
              "      <td>CD4 helper T-cell (unspecified)</td>\n",
              "    </tr>\n",
              "    <tr>\n",
              "      <th>GSM3511757_TTGACTTCAAACAACA</th>\n",
              "      <td>-0.117449</td>\n",
              "      <td>-0.672047</td>\n",
              "      <td>-0.491876</td>\n",
              "      <td>-0.484852</td>\n",
              "      <td>-0.100217</td>\n",
              "      <td>-0.398654</td>\n",
              "      <td>-0.333986</td>\n",
              "      <td>-0.231560</td>\n",
              "      <td>-0.375638</td>\n",
              "      <td>-0.296662</td>\n",
              "      <td>-0.124381</td>\n",
              "      <td>-0.493961</td>\n",
              "      <td>-0.168745</td>\n",
              "      <td>-0.457732</td>\n",
              "      <td>-0.306684</td>\n",
              "      <td>1.827102</td>\n",
              "      <td>-0.403985</td>\n",
              "      <td>-0.350837</td>\n",
              "      <td>-0.330297</td>\n",
              "      <td>-0.108919</td>\n",
              "      <td>-0.304182</td>\n",
              "      <td>-0.401522</td>\n",
              "      <td>-0.176835</td>\n",
              "      <td>-0.128035</td>\n",
              "      <td>-0.753513</td>\n",
              "      <td>-0.281455</td>\n",
              "      <td>-0.258681</td>\n",
              "      <td>-0.395121</td>\n",
              "      <td>-0.404980</td>\n",
              "      <td>-0.216367</td>\n",
              "      <td>-0.334333</td>\n",
              "      <td>-0.191253</td>\n",
              "      <td>-0.192640</td>\n",
              "      <td>-0.383314</td>\n",
              "      <td>-0.128038</td>\n",
              "      <td>3.274703</td>\n",
              "      <td>-0.399176</td>\n",
              "      <td>-0.309047</td>\n",
              "      <td>-0.330898</td>\n",
              "      <td>-0.375920</td>\n",
              "      <td>...</td>\n",
              "      <td>-0.346198</td>\n",
              "      <td>-0.305871</td>\n",
              "      <td>0.030387</td>\n",
              "      <td>-0.178059</td>\n",
              "      <td>-0.212737</td>\n",
              "      <td>-0.253249</td>\n",
              "      <td>0.964312</td>\n",
              "      <td>2.300342</td>\n",
              "      <td>-0.369430</td>\n",
              "      <td>-0.109067</td>\n",
              "      <td>3.033242</td>\n",
              "      <td>-0.252673</td>\n",
              "      <td>-0.293199</td>\n",
              "      <td>0.298238</td>\n",
              "      <td>-0.394649</td>\n",
              "      <td>-0.472961</td>\n",
              "      <td>-0.401968</td>\n",
              "      <td>-0.380347</td>\n",
              "      <td>-0.215548</td>\n",
              "      <td>0.436071</td>\n",
              "      <td>-0.975147</td>\n",
              "      <td>-0.162729</td>\n",
              "      <td>-0.181099</td>\n",
              "      <td>-0.155006</td>\n",
              "      <td>-0.311501</td>\n",
              "      <td>-0.193034</td>\n",
              "      <td>2.493191</td>\n",
              "      <td>1.230001</td>\n",
              "      <td>0.532403</td>\n",
              "      <td>0.197154</td>\n",
              "      <td>0.532417</td>\n",
              "      <td>0.726922</td>\n",
              "      <td>1.634403</td>\n",
              "      <td>-1.353829</td>\n",
              "      <td>0.354251</td>\n",
              "      <td>-0.382876</td>\n",
              "      <td>CD8 memory T-cell (unspecified)</td>\n",
              "      <td>T-cell</td>\n",
              "      <td>CD8 T-cell</td>\n",
              "      <td>CD8 memory T-cell (unspecified)</td>\n",
              "    </tr>\n",
              "    <tr>\n",
              "      <th>GSM4143657_GCGGGTTCAGAAGCAC</th>\n",
              "      <td>-0.121376</td>\n",
              "      <td>-0.774814</td>\n",
              "      <td>-0.575436</td>\n",
              "      <td>-0.578104</td>\n",
              "      <td>-0.104302</td>\n",
              "      <td>-0.405512</td>\n",
              "      <td>-0.321372</td>\n",
              "      <td>2.989727</td>\n",
              "      <td>-0.381909</td>\n",
              "      <td>-0.298511</td>\n",
              "      <td>-0.111178</td>\n",
              "      <td>1.249000</td>\n",
              "      <td>-0.256280</td>\n",
              "      <td>-0.477980</td>\n",
              "      <td>-0.295020</td>\n",
              "      <td>-1.270073</td>\n",
              "      <td>1.637584</td>\n",
              "      <td>-0.340192</td>\n",
              "      <td>-0.388275</td>\n",
              "      <td>-0.098180</td>\n",
              "      <td>-0.275919</td>\n",
              "      <td>-0.420009</td>\n",
              "      <td>-0.185286</td>\n",
              "      <td>-0.133830</td>\n",
              "      <td>-0.805667</td>\n",
              "      <td>-0.259764</td>\n",
              "      <td>-0.236489</td>\n",
              "      <td>-0.403877</td>\n",
              "      <td>-0.513184</td>\n",
              "      <td>-0.250167</td>\n",
              "      <td>-0.356462</td>\n",
              "      <td>-0.185127</td>\n",
              "      <td>-0.198283</td>\n",
              "      <td>1.612958</td>\n",
              "      <td>-0.123559</td>\n",
              "      <td>-0.325009</td>\n",
              "      <td>-0.449455</td>\n",
              "      <td>-0.340872</td>\n",
              "      <td>-0.355203</td>\n",
              "      <td>-0.604319</td>\n",
              "      <td>...</td>\n",
              "      <td>-0.408775</td>\n",
              "      <td>-0.348809</td>\n",
              "      <td>0.040489</td>\n",
              "      <td>-0.160006</td>\n",
              "      <td>-0.219282</td>\n",
              "      <td>-0.444370</td>\n",
              "      <td>-0.862041</td>\n",
              "      <td>-0.435446</td>\n",
              "      <td>-0.411701</td>\n",
              "      <td>-0.150517</td>\n",
              "      <td>-0.536885</td>\n",
              "      <td>-0.256212</td>\n",
              "      <td>-0.375007</td>\n",
              "      <td>0.356028</td>\n",
              "      <td>-0.407538</td>\n",
              "      <td>-0.518302</td>\n",
              "      <td>-0.452285</td>\n",
              "      <td>-0.389140</td>\n",
              "      <td>-0.250910</td>\n",
              "      <td>-1.152737</td>\n",
              "      <td>1.652630</td>\n",
              "      <td>-0.152911</td>\n",
              "      <td>-0.167888</td>\n",
              "      <td>-0.165999</td>\n",
              "      <td>-0.307128</td>\n",
              "      <td>-0.206530</td>\n",
              "      <td>-0.360603</td>\n",
              "      <td>-0.058979</td>\n",
              "      <td>-0.318212</td>\n",
              "      <td>0.031049</td>\n",
              "      <td>0.744759</td>\n",
              "      <td>0.571193</td>\n",
              "      <td>-1.357367</td>\n",
              "      <td>1.229524</td>\n",
              "      <td>-0.346317</td>\n",
              "      <td>0.446866</td>\n",
              "      <td>CD8 effector memory T-cell</td>\n",
              "      <td>T-cell</td>\n",
              "      <td>CD8 T-cell</td>\n",
              "      <td>CD8 effector memory T-cell</td>\n",
              "    </tr>\n",
              "  </tbody>\n",
              "</table>\n",
              "<p>5 rows × 3004 columns</p>\n",
              "</div>"
            ],
            "text/plain": [
              "                              PLEKHN1  ...                                   cell_type_3\n",
              "Unnamed: 0                             ...                                              \n",
              "GSM3721462_TTAACTCGTGGTCCGT -0.107822  ...           CD4 regulatory T-cell (unspecified)\n",
              "ERS3566166_TTAGGACGTATCGCAT -0.063655  ...  CD8 exhausted cytotoxic T-cell (unspecified)\n",
              "GSM4143657_GTATTCTGTGGCGAAT -0.113647  ...               CD4 helper T-cell (unspecified)\n",
              "GSM3511757_TTGACTTCAAACAACA -0.117449  ...               CD8 memory T-cell (unspecified)\n",
              "GSM4143657_GCGGGTTCAGAAGCAC -0.121376  ...                    CD8 effector memory T-cell\n",
              "\n",
              "[5 rows x 3004 columns]"
            ]
          },
          "metadata": {},
          "execution_count": 38
        }
      ]
    },
    {
      "cell_type": "code",
      "metadata": {
        "colab": {
          "base_uri": "https://localhost:8080/",
          "height": 421
        },
        "id": "8XC1Yf6sm2zT",
        "outputId": "1fcbf655-71b0-488a-832c-c33e48024c6e"
      },
      "source": [
        "count_celltype = pd.concat([pd.DataFrame({'count': df['cell_type'].value_counts()}), pd.DataFrame({'percentage': df['cell_type'].value_counts(normalize=True)})], axis=1)\n",
        "count_celltype"
      ],
      "execution_count": null,
      "outputs": [
        {
          "output_type": "execute_result",
          "data": {
            "text/html": [
              "<div>\n",
              "<style scoped>\n",
              "    .dataframe tbody tr th:only-of-type {\n",
              "        vertical-align: middle;\n",
              "    }\n",
              "\n",
              "    .dataframe tbody tr th {\n",
              "        vertical-align: top;\n",
              "    }\n",
              "\n",
              "    .dataframe thead th {\n",
              "        text-align: right;\n",
              "    }\n",
              "</style>\n",
              "<table border=\"1\" class=\"dataframe\">\n",
              "  <thead>\n",
              "    <tr style=\"text-align: right;\">\n",
              "      <th></th>\n",
              "      <th>count</th>\n",
              "      <th>percentage</th>\n",
              "    </tr>\n",
              "  </thead>\n",
              "  <tbody>\n",
              "    <tr>\n",
              "      <th>T-cell</th>\n",
              "      <td>24926</td>\n",
              "      <td>0.765611</td>\n",
              "    </tr>\n",
              "    <tr>\n",
              "      <th>B-cell</th>\n",
              "      <td>2158</td>\n",
              "      <td>0.066284</td>\n",
              "    </tr>\n",
              "    <tr>\n",
              "      <th>macrophage</th>\n",
              "      <td>1823</td>\n",
              "      <td>0.055994</td>\n",
              "    </tr>\n",
              "    <tr>\n",
              "      <th>plasma cell</th>\n",
              "      <td>885</td>\n",
              "      <td>0.027183</td>\n",
              "    </tr>\n",
              "    <tr>\n",
              "      <th>killer cell</th>\n",
              "      <td>756</td>\n",
              "      <td>0.023221</td>\n",
              "    </tr>\n",
              "    <tr>\n",
              "      <th>monocyte</th>\n",
              "      <td>655</td>\n",
              "      <td>0.020119</td>\n",
              "    </tr>\n",
              "    <tr>\n",
              "      <th>dendritic cell</th>\n",
              "      <td>597</td>\n",
              "      <td>0.018337</td>\n",
              "    </tr>\n",
              "    <tr>\n",
              "      <th>lymphocyte</th>\n",
              "      <td>271</td>\n",
              "      <td>0.008324</td>\n",
              "    </tr>\n",
              "    <tr>\n",
              "      <th>granulocyte</th>\n",
              "      <td>243</td>\n",
              "      <td>0.007464</td>\n",
              "    </tr>\n",
              "    <tr>\n",
              "      <th>mast cell</th>\n",
              "      <td>147</td>\n",
              "      <td>0.004515</td>\n",
              "    </tr>\n",
              "    <tr>\n",
              "      <th>leukocyte</th>\n",
              "      <td>68</td>\n",
              "      <td>0.002089</td>\n",
              "    </tr>\n",
              "    <tr>\n",
              "      <th>myeloid cell</th>\n",
              "      <td>28</td>\n",
              "      <td>0.000860</td>\n",
              "    </tr>\n",
              "  </tbody>\n",
              "</table>\n",
              "</div>"
            ],
            "text/plain": [
              "                count  percentage\n",
              "T-cell          24926    0.765611\n",
              "B-cell           2158    0.066284\n",
              "macrophage       1823    0.055994\n",
              "plasma cell       885    0.027183\n",
              "killer cell       756    0.023221\n",
              "monocyte          655    0.020119\n",
              "dendritic cell    597    0.018337\n",
              "lymphocyte        271    0.008324\n",
              "granulocyte       243    0.007464\n",
              "mast cell         147    0.004515\n",
              "leukocyte          68    0.002089\n",
              "myeloid cell       28    0.000860"
            ]
          },
          "metadata": {},
          "execution_count": 39
        }
      ]
    },
    {
      "cell_type": "markdown",
      "metadata": {
        "id": "1ssB_LmCQWGn"
      },
      "source": [
        "## split data"
      ]
    },
    {
      "cell_type": "code",
      "metadata": {
        "id": "EiFeYVngQWGn"
      },
      "source": [
        "X_test = df.drop(columns=['cell_state', 'cell_type'])\n",
        "y_test = df['cell_type']"
      ],
      "execution_count": null,
      "outputs": []
    },
    {
      "cell_type": "markdown",
      "metadata": {
        "id": "apxGBj5KQWGn"
      },
      "source": [
        "## predict data"
      ]
    },
    {
      "cell_type": "code",
      "metadata": {
        "id": "bHQWVbfIQWGn"
      },
      "source": [
        "from sklearn.metrics import classification_report\n",
        "from sklearn.metrics import confusion_matrix\n",
        "from sklearn import metrics"
      ],
      "execution_count": null,
      "outputs": []
    },
    {
      "cell_type": "code",
      "metadata": {
        "id": "EIiWnoRWQWGn"
      },
      "source": [
        "# load model\n",
        "import joblib\n",
        "filename = '/content/gdrive/MyDrive/Idorsia Capstone Project/models/hierarchical/lr_model_12classes_smote.sav'\n",
        "lr = joblib.load(filename)\n",
        "# result = clf.score(X_test, y_test)\n",
        "# print(result)"
      ],
      "execution_count": 11,
      "outputs": []
    },
    {
      "cell_type": "code",
      "metadata": {
        "colab": {
          "base_uri": "https://localhost:8080/"
        },
        "id": "nQ2Vn5nTQWGn",
        "outputId": "d24f9c87-5e36-4066-d3fa-196d29355fe0"
      },
      "source": [
        "# Prediction on test set\n",
        "y_pred = lr.predict(X_test)\n",
        "\n",
        "# Calculating the accuracy and F1\n",
        "acc_lr = round( metrics.accuracy_score(y_test, y_pred) * 100, 2 )\n",
        "f1_lr = round(metrics.f1_score(y_test, y_pred, average='weighted') * 100, 2)\n",
        "f1_lr_macro = round(metrics.f1_score(y_test, y_pred, average='macro') * 100, 2)\n",
        "print('Accuracy of logistic regression model : ', acc_lr)\n",
        "print('F1 weighted of logistic regression model : ', f1_lr)\n",
        "print('F1 macro of logistic regression model : ', f1_lr_macro)"
      ],
      "execution_count": null,
      "outputs": [
        {
          "output_type": "stream",
          "name": "stdout",
          "text": [
            "Accuracy of logistic regression model :  92.51\n",
            "F1 weighted of logistic regression model :  92.24\n",
            "F1 macro of logistic regression model :  63.25\n"
          ]
        }
      ]
    },
    {
      "cell_type": "code",
      "metadata": {
        "colab": {
          "base_uri": "https://localhost:8080/"
        },
        "id": "WMPJX6eqQWGo",
        "outputId": "81548b0f-b949-4345-ece1-6fc9e5c6af20"
      },
      "source": [
        "y_pred"
      ],
      "execution_count": null,
      "outputs": [
        {
          "output_type": "execute_result",
          "data": {
            "text/plain": [
              "array(['T-cell', 'T-cell', 'T-cell', ..., 'T-cell', 'T-cell', 'T-cell'],\n",
              "      dtype=object)"
            ]
          },
          "metadata": {},
          "execution_count": 53
        }
      ]
    },
    {
      "cell_type": "code",
      "metadata": {
        "id": "pkgmrOCKQWGo"
      },
      "source": [
        "pd.DataFrame(y_pred).to_csv('prediction_12classes_balanced_subset30.csv', index=False)"
      ],
      "execution_count": null,
      "outputs": []
    },
    {
      "cell_type": "code",
      "metadata": {
        "colab": {
          "base_uri": "https://localhost:8080/"
        },
        "id": "roSZtZqSQWGo",
        "outputId": "4bd61a6d-fd16-48c7-988f-2c87eabc4405"
      },
      "source": [
        "report = classification_report(y_test, y_pred)\n",
        "print(report)"
      ],
      "execution_count": null,
      "outputs": [
        {
          "output_type": "stream",
          "name": "stdout",
          "text": [
            "                precision    recall  f1-score   support\n",
            "\n",
            "        B-cell       0.97      0.98      0.97      2158\n",
            "        T-cell       0.96      0.98      0.97     24926\n",
            "dendritic cell       0.63      0.92      0.75       597\n",
            "   granulocyte       0.27      0.56      0.37       243\n",
            "   killer cell       0.75      0.25      0.38       756\n",
            "     leukocyte       0.34      0.85      0.48        68\n",
            "    lymphocyte       0.42      0.37      0.40       271\n",
            "    macrophage       0.87      0.61      0.72      1823\n",
            "     mast cell       0.98      0.96      0.97       147\n",
            "      monocyte       0.62      0.68      0.65       655\n",
            "  myeloid cell       0.00      0.00      0.00        28\n",
            "   plasma cell       0.97      0.91      0.94       885\n",
            "\n",
            "      accuracy                           0.93     32557\n",
            "     macro avg       0.65      0.67      0.63     32557\n",
            "  weighted avg       0.93      0.93      0.92     32557\n",
            "\n"
          ]
        }
      ]
    },
    {
      "cell_type": "code",
      "metadata": {
        "colab": {
          "base_uri": "https://localhost:8080/"
        },
        "id": "wmoLLwpGQWGo",
        "outputId": "38d4e802-c1d9-4a26-d6f8-d1bd2ef212bb"
      },
      "source": [
        "cm = confusion_matrix(y_test, y_pred)\n",
        "cm"
      ],
      "execution_count": null,
      "outputs": [
        {
          "output_type": "execute_result",
          "data": {
            "text/plain": [
              "array([[ 2109,    35,     3,     0,     0,    10,     0,     0,     0,\n",
              "            0,     0,     1],\n",
              "       [   39, 24478,    18,    10,    64,    91,   137,    58,     1,\n",
              "            5,     9,    16],\n",
              "       [    1,     3,   549,     8,     0,     1,     0,    25,     0,\n",
              "            8,     2,     0],\n",
              "       [    0,     1,    19,   136,     0,     0,     0,    15,     1,\n",
              "           69,     2,     0],\n",
              "       [    2,   534,    16,     0,   191,     5,     1,     2,     0,\n",
              "            5,     0,     0],\n",
              "       [    0,     7,     1,     0,     0,    58,     0,     1,     0,\n",
              "            1,     0,     0],\n",
              "       [    0,   170,     0,     0,     0,     0,   101,     0,     0,\n",
              "            0,     0,     0],\n",
              "       [    1,    79,   253,   182,     0,     4,     0,  1105,     1,\n",
              "          181,    13,     4],\n",
              "       [    0,     3,     0,     0,     0,     0,     0,     1,   141,\n",
              "            1,     0,     1],\n",
              "       [    0,     2,    11,   160,     0,     0,     0,    37,     0,\n",
              "          445,     0,     0],\n",
              "       [    1,     0,     2,     2,     0,     0,     0,    22,     0,\n",
              "            1,     0,     0],\n",
              "       [   19,    57,     0,     0,     0,     4,     0,     0,     0,\n",
              "            1,     0,   804]])"
            ]
          },
          "metadata": {},
          "execution_count": 56
        }
      ]
    },
    {
      "cell_type": "code",
      "metadata": {
        "colab": {
          "base_uri": "https://localhost:8080/",
          "height": 568
        },
        "id": "hLzJ6ULaQWGo",
        "outputId": "f0939471-b696-4a91-9d1e-b3d0bd921b43"
      },
      "source": [
        "fig, ax= plt.subplots(figsize=(10,8))\n",
        "sns.heatmap(cm, annot=True, fmt='g', ax=ax);  #annot=True to annotate cells, ftm='g' to disable scientific notation\n",
        "\n",
        "# labels, title and ticks\n",
        "ax.set_xlabel('Predicted labels');ax.set_ylabel('True labels'); \n",
        "ax.xaxis.set_ticklabels(np.unique(y_test)); ax.yaxis.set_ticklabels(np.unique(y_test));\n",
        "plt.xticks(rotation=90)\n",
        "plt.yticks(rotation=0)\n",
        "ax.set_title('Confusion Matrix dtc'); \n",
        "plt.savefig('confusion_matrix_dtc.png')\n",
        "plt.show()"
      ],
      "execution_count": null,
      "outputs": [
        {
          "output_type": "display_data",
          "data": {
            "image/png": "[encoded data removed]",
            "text/plain": [
              "<Figure size 720x576 with 2 Axes>"
            ]
          },
          "metadata": {
            "needs_background": "light"
          }
        }
      ]
    }
  ]
}
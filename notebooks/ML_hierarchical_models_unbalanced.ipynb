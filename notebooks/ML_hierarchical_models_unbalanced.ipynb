{
  "nbformat": 4,
  "nbformat_minor": 0,
  "metadata": {
    "colab": {
      "name": "ML_hierarchical_models_unbalanced.ipynb",
      "provenance": [],
      "collapsed_sections": [
        "EUsf2wTLOmpZ"
      ],
      "toc_visible": true
    },
    "kernelspec": {
      "display_name": "Python 3",
      "name": "python3"
    },
    "language_info": {
      "name": "python"
    }
  },
  "cells": [
    {
      "cell_type": "markdown",
      "metadata": {
        "id": "XfJYQZNpCXki"
      },
      "source": [
        "# 1. load drive and install and load dependencies"
      ]
    },
    {
      "cell_type": "code",
      "metadata": {
        "colab": {
          "base_uri": "https://localhost:8080/"
        },
        "id": "0P-SqfmQmXjs",
        "outputId": "82c5464c-c55f-44c0-fb53-4a114a224ce6"
      },
      "source": [
        "#Start by connecting gdrive into the google colab\n",
        "\n",
        "from google.colab import drive\n",
        "drive.mount('/content/gdrive')"
      ],
      "execution_count": 1,
      "outputs": [
        {
          "output_type": "stream",
          "name": "stdout",
          "text": [
            "Mounted at /content/gdrive\n"
          ]
        }
      ]
    },
    {
      "cell_type": "code",
      "metadata": {
        "id": "oB-kdX5RCGbK",
        "colab": {
          "base_uri": "https://localhost:8080/",
          "height": 1000
        },
        "outputId": "dfb64275-c56f-462d-c033-3424dce5b026"
      },
      "source": [
        "!pip install pycaret"
      ],
      "execution_count": null,
      "outputs": [
        {
          "output_type": "stream",
          "name": "stdout",
          "text": [
            "Collecting pycaret\n",
            "  Using cached pycaret-2.3.4-py3-none-any.whl (266 kB)\n",
            "Requirement already satisfied: plotly>=4.4.1 in /usr/local/lib/python3.7/dist-packages (from pycaret) (4.4.1)\n",
            "Requirement already satisfied: matplotlib in /usr/local/lib/python3.7/dist-packages (from pycaret) (3.2.2)\n",
            "Requirement already satisfied: textblob in /usr/local/lib/python3.7/dist-packages (from pycaret) (0.15.3)\n",
            "Collecting umap-learn\n",
            "  Using cached umap_learn-0.5.2-py3-none-any.whl\n",
            "Requirement already satisfied: ipywidgets in /usr/local/lib/python3.7/dist-packages (from pycaret) (7.6.5)\n",
            "Requirement already satisfied: numpy==1.19.5 in /usr/local/lib/python3.7/dist-packages (from pycaret) (1.19.5)\n",
            "Collecting imbalanced-learn==0.7.0\n",
            "  Using cached imbalanced_learn-0.7.0-py3-none-any.whl (167 kB)\n",
            "Collecting Boruta\n",
            "  Using cached Boruta-0.3-py3-none-any.whl (56 kB)\n",
            "Collecting pyLDAvis\n",
            "  Using cached pyLDAvis-3.3.1.tar.gz (1.7 MB)\n",
            "  Installing build dependencies ... \u001b[?25l\u001b[?25hdone\n",
            "  Getting requirements to build wheel ... \u001b[?25l\u001b[?25hdone\n",
            "  Installing backend dependencies ... \u001b[?25l\u001b[?25hdone\n",
            "    Preparing wheel metadata ... \u001b[?25l\u001b[?25hdone\n",
            "Requirement already satisfied: wordcloud in /usr/local/lib/python3.7/dist-packages (from pycaret) (1.5.0)\n",
            "Collecting pyod\n",
            "  Using cached pyod-0.9.5-py3-none-any.whl\n",
            "Requirement already satisfied: gensim<4.0.0 in /usr/local/lib/python3.7/dist-packages (from pycaret) (3.6.0)\n",
            "Requirement already satisfied: cufflinks>=0.17.0 in /usr/local/lib/python3.7/dist-packages (from pycaret) (0.17.3)\n",
            "Requirement already satisfied: joblib in /usr/local/lib/python3.7/dist-packages (from pycaret) (1.0.1)\n",
            "Collecting scikit-learn==0.23.2\n",
            "  Using cached scikit_learn-0.23.2-cp37-cp37m-manylinux1_x86_64.whl (6.8 MB)\n",
            "Collecting yellowbrick>=1.0.1\n",
            "  Using cached yellowbrick-1.3.post1-py3-none-any.whl (271 kB)\n",
            "Requirement already satisfied: scipy<=1.5.4 in /usr/local/lib/python3.7/dist-packages (from pycaret) (1.4.1)\n",
            "Collecting mlxtend>=0.17.0\n",
            "  Using cached mlxtend-0.19.0-py2.py3-none-any.whl (1.3 MB)\n",
            "Requirement already satisfied: numba<0.54 in /usr/local/lib/python3.7/dist-packages (from pycaret) (0.51.2)\n",
            "Collecting lightgbm>=2.3.1\n",
            "  Using cached lightgbm-3.3.1-py3-none-manylinux1_x86_64.whl (2.0 MB)\n",
            "Collecting scikit-plot\n",
            "  Using cached scikit_plot-0.3.7-py3-none-any.whl (33 kB)\n",
            "Collecting kmodes>=0.10.1\n",
            "  Using cached kmodes-0.11.1-py2.py3-none-any.whl (19 kB)\n",
            "Collecting mlflow\n",
            "  Using cached mlflow-1.21.0-py3-none-any.whl (16.9 MB)\n",
            "Requirement already satisfied: nltk in /usr/local/lib/python3.7/dist-packages (from pycaret) (3.2.5)\n",
            "Collecting pandas-profiling>=2.8.0\n",
            "  Using cached pandas_profiling-3.1.0-py2.py3-none-any.whl (261 kB)\n",
            "Requirement already satisfied: pandas in /usr/local/lib/python3.7/dist-packages (from pycaret) (1.1.5)\n",
            "Requirement already satisfied: seaborn in /usr/local/lib/python3.7/dist-packages (from pycaret) (0.11.2)\n",
            "Requirement already satisfied: spacy<2.4.0 in /usr/local/lib/python3.7/dist-packages (from pycaret) (2.2.4)\n",
            "Requirement already satisfied: IPython in /usr/local/lib/python3.7/dist-packages (from pycaret) (5.5.0)\n",
            "Requirement already satisfied: threadpoolctl>=2.0.0 in /usr/local/lib/python3.7/dist-packages (from scikit-learn==0.23.2->pycaret) (3.0.0)\n",
            "Requirement already satisfied: colorlover>=0.2.1 in /usr/local/lib/python3.7/dist-packages (from cufflinks>=0.17.0->pycaret) (0.3.0)\n",
            "Requirement already satisfied: setuptools>=34.4.1 in /usr/local/lib/python3.7/dist-packages (from cufflinks>=0.17.0->pycaret) (57.4.0)\n",
            "Requirement already satisfied: six>=1.9.0 in /usr/local/lib/python3.7/dist-packages (from cufflinks>=0.17.0->pycaret) (1.15.0)\n",
            "Requirement already satisfied: smart-open>=1.2.1 in /usr/local/lib/python3.7/dist-packages (from gensim<4.0.0->pycaret) (5.2.1)\n",
            "Requirement already satisfied: decorator in /usr/local/lib/python3.7/dist-packages (from IPython->pycaret) (4.4.2)\n",
            "Requirement already satisfied: traitlets>=4.2 in /usr/local/lib/python3.7/dist-packages (from IPython->pycaret) (5.1.0)\n",
            "Requirement already satisfied: pexpect in /usr/local/lib/python3.7/dist-packages (from IPython->pycaret) (4.8.0)\n",
            "Requirement already satisfied: pickleshare in /usr/local/lib/python3.7/dist-packages (from IPython->pycaret) (0.7.5)\n",
            "Requirement already satisfied: pygments in /usr/local/lib/python3.7/dist-packages (from IPython->pycaret) (2.6.1)\n",
            "Requirement already satisfied: prompt-toolkit<2.0.0,>=1.0.4 in /usr/local/lib/python3.7/dist-packages (from IPython->pycaret) (1.0.18)\n",
            "Requirement already satisfied: simplegeneric>0.8 in /usr/local/lib/python3.7/dist-packages (from IPython->pycaret) (0.8.1)\n",
            "Requirement already satisfied: nbformat>=4.2.0 in /usr/local/lib/python3.7/dist-packages (from ipywidgets->pycaret) (5.1.3)\n",
            "Requirement already satisfied: ipython-genutils~=0.2.0 in /usr/local/lib/python3.7/dist-packages (from ipywidgets->pycaret) (0.2.0)\n",
            "Requirement already satisfied: ipykernel>=4.5.1 in /usr/local/lib/python3.7/dist-packages (from ipywidgets->pycaret) (4.10.1)\n",
            "Requirement already satisfied: widgetsnbextension~=3.5.0 in /usr/local/lib/python3.7/dist-packages (from ipywidgets->pycaret) (3.5.1)\n",
            "Requirement already satisfied: jupyterlab-widgets>=1.0.0 in /usr/local/lib/python3.7/dist-packages (from ipywidgets->pycaret) (1.0.2)\n",
            "Requirement already satisfied: tornado>=4.0 in /usr/local/lib/python3.7/dist-packages (from ipykernel>=4.5.1->ipywidgets->pycaret) (5.1.1)\n",
            "Requirement already satisfied: jupyter-client in /usr/local/lib/python3.7/dist-packages (from ipykernel>=4.5.1->ipywidgets->pycaret) (5.3.5)\n",
            "Requirement already satisfied: wheel in /usr/local/lib/python3.7/dist-packages (from lightgbm>=2.3.1->pycaret) (0.37.0)\n",
            "Requirement already satisfied: pyparsing!=2.0.4,!=2.1.2,!=2.1.6,>=2.0.1 in /usr/local/lib/python3.7/dist-packages (from matplotlib->pycaret) (2.4.7)\n",
            "Requirement already satisfied: cycler>=0.10 in /usr/local/lib/python3.7/dist-packages (from matplotlib->pycaret) (0.10.0)\n",
            "Requirement already satisfied: kiwisolver>=1.0.1 in /usr/local/lib/python3.7/dist-packages (from matplotlib->pycaret) (1.3.2)\n",
            "Requirement already satisfied: python-dateutil>=2.1 in /usr/local/lib/python3.7/dist-packages (from matplotlib->pycaret) (2.8.2)\n",
            "Requirement already satisfied: jsonschema!=2.5.0,>=2.4 in /usr/local/lib/python3.7/dist-packages (from nbformat>=4.2.0->ipywidgets->pycaret) (2.6.0)\n",
            "Requirement already satisfied: jupyter-core in /usr/local/lib/python3.7/dist-packages (from nbformat>=4.2.0->ipywidgets->pycaret) (4.8.1)\n",
            "Requirement already satisfied: llvmlite<0.35,>=0.34.0.dev0 in /usr/local/lib/python3.7/dist-packages (from numba<0.54->pycaret) (0.34.0)\n",
            "Requirement already satisfied: pytz>=2017.2 in /usr/local/lib/python3.7/dist-packages (from pandas->pycaret) (2018.9)\n",
            "Collecting PyYAML>=5.0.0\n",
            "  Using cached PyYAML-6.0-cp37-cp37m-manylinux_2_5_x86_64.manylinux1_x86_64.manylinux_2_12_x86_64.manylinux2010_x86_64.whl (596 kB)\n",
            "Requirement already satisfied: missingno>=0.4.2 in /usr/local/lib/python3.7/dist-packages (from pandas-profiling>=2.8.0->pycaret) (0.5.0)\n",
            "Requirement already satisfied: jinja2>=2.11.1 in /usr/local/lib/python3.7/dist-packages (from pandas-profiling>=2.8.0->pycaret) (2.11.3)\n",
            "Requirement already satisfied: markupsafe~=2.0.1 in /usr/local/lib/python3.7/dist-packages (from pandas-profiling>=2.8.0->pycaret) (2.0.1)\n",
            "Requirement already satisfied: tqdm>=4.48.2 in /usr/local/lib/python3.7/dist-packages (from pandas-profiling>=2.8.0->pycaret) (4.62.3)\n",
            "Collecting multimethod>=1.4\n",
            "  Using cached multimethod-1.6-py3-none-any.whl (9.4 kB)\n",
            "Requirement already satisfied: tangled-up-in-unicode==0.1.0 in /usr/local/lib/python3.7/dist-packages (from pandas-profiling>=2.8.0->pycaret) (0.1.0)\n",
            "Collecting phik>=0.11.1\n",
            "  Using cached phik-0.12.0-cp37-cp37m-manylinux2010_x86_64.whl (675 kB)\n",
            "Collecting pydantic>=1.8.1\n",
            "  Using cached pydantic-1.8.2-cp37-cp37m-manylinux2014_x86_64.whl (10.1 MB)\n",
            "Collecting htmlmin>=0.1.12\n",
            "  Using cached htmlmin-0.1.12-py3-none-any.whl\n",
            "Collecting requests>=2.24.0\n",
            "  Using cached requests-2.26.0-py2.py3-none-any.whl (62 kB)\n",
            "Collecting visions[type_image_path]==0.7.4\n",
            "  Using cached visions-0.7.4-py3-none-any.whl (102 kB)\n",
            "Requirement already satisfied: attrs>=19.3.0 in /usr/local/lib/python3.7/dist-packages (from visions[type_image_path]==0.7.4->pandas-profiling>=2.8.0->pycaret) (21.2.0)\n",
            "Requirement already satisfied: networkx>=2.4 in /usr/local/lib/python3.7/dist-packages (from visions[type_image_path]==0.7.4->pandas-profiling>=2.8.0->pycaret) (2.6.3)\n",
            "Collecting imagehash\n",
            "  Using cached ImageHash-4.2.1-py2.py3-none-any.whl\n",
            "Requirement already satisfied: Pillow in /usr/local/lib/python3.7/dist-packages (from visions[type_image_path]==0.7.4->pandas-profiling>=2.8.0->pycaret) (7.1.2)\n",
            "Collecting scipy<=1.5.4\n",
            "  Using cached scipy-1.5.4-cp37-cp37m-manylinux1_x86_64.whl (25.9 MB)\n",
            "Requirement already satisfied: retrying>=1.3.3 in /usr/local/lib/python3.7/dist-packages (from plotly>=4.4.1->pycaret) (1.3.3)\n",
            "Requirement already satisfied: wcwidth in /usr/local/lib/python3.7/dist-packages (from prompt-toolkit<2.0.0,>=1.0.4->IPython->pycaret) (0.2.5)\n",
            "Requirement already satisfied: typing-extensions>=3.7.4.3 in /usr/local/lib/python3.7/dist-packages (from pydantic>=1.8.1->pandas-profiling>=2.8.0->pycaret) (3.7.4.3)\n",
            "Requirement already satisfied: idna<4,>=2.5 in /usr/local/lib/python3.7/dist-packages (from requests>=2.24.0->pandas-profiling>=2.8.0->pycaret) (2.10)\n",
            "Requirement already satisfied: certifi>=2017.4.17 in /usr/local/lib/python3.7/dist-packages (from requests>=2.24.0->pandas-profiling>=2.8.0->pycaret) (2021.5.30)\n",
            "Requirement already satisfied: charset-normalizer~=2.0.0 in /usr/local/lib/python3.7/dist-packages (from requests>=2.24.0->pandas-profiling>=2.8.0->pycaret) (2.0.7)\n",
            "Requirement already satisfied: urllib3<1.27,>=1.21.1 in /usr/local/lib/python3.7/dist-packages (from requests>=2.24.0->pandas-profiling>=2.8.0->pycaret) (1.24.3)\n",
            "Requirement already satisfied: cymem<2.1.0,>=2.0.2 in /usr/local/lib/python3.7/dist-packages (from spacy<2.4.0->pycaret) (2.0.5)\n",
            "Requirement already satisfied: thinc==7.4.0 in /usr/local/lib/python3.7/dist-packages (from spacy<2.4.0->pycaret) (7.4.0)\n",
            "Requirement already satisfied: blis<0.5.0,>=0.4.0 in /usr/local/lib/python3.7/dist-packages (from spacy<2.4.0->pycaret) (0.4.1)\n",
            "Requirement already satisfied: wasabi<1.1.0,>=0.4.0 in /usr/local/lib/python3.7/dist-packages (from spacy<2.4.0->pycaret) (0.8.2)\n",
            "Requirement already satisfied: catalogue<1.1.0,>=0.0.7 in /usr/local/lib/python3.7/dist-packages (from spacy<2.4.0->pycaret) (1.0.0)\n",
            "Requirement already satisfied: srsly<1.1.0,>=1.0.2 in /usr/local/lib/python3.7/dist-packages (from spacy<2.4.0->pycaret) (1.0.5)\n",
            "Requirement already satisfied: plac<1.2.0,>=0.9.6 in /usr/local/lib/python3.7/dist-packages (from spacy<2.4.0->pycaret) (1.1.3)\n",
            "Requirement already satisfied: preshed<3.1.0,>=3.0.2 in /usr/local/lib/python3.7/dist-packages (from spacy<2.4.0->pycaret) (3.0.5)\n",
            "Requirement already satisfied: murmurhash<1.1.0,>=0.28.0 in /usr/local/lib/python3.7/dist-packages (from spacy<2.4.0->pycaret) (1.0.5)\n",
            "Requirement already satisfied: importlib-metadata>=0.20 in /usr/local/lib/python3.7/dist-packages (from catalogue<1.1.0,>=0.0.7->spacy<2.4.0->pycaret) (4.8.1)\n",
            "Requirement already satisfied: zipp>=0.5 in /usr/local/lib/python3.7/dist-packages (from importlib-metadata>=0.20->catalogue<1.1.0,>=0.0.7->spacy<2.4.0->pycaret) (3.6.0)\n",
            "Requirement already satisfied: notebook>=4.4.1 in /usr/local/lib/python3.7/dist-packages (from widgetsnbextension~=3.5.0->ipywidgets->pycaret) (5.3.1)\n",
            "Requirement already satisfied: nbconvert in /usr/local/lib/python3.7/dist-packages (from notebook>=4.4.1->widgetsnbextension~=3.5.0->ipywidgets->pycaret) (5.6.1)\n",
            "Requirement already satisfied: Send2Trash in /usr/local/lib/python3.7/dist-packages (from notebook>=4.4.1->widgetsnbextension~=3.5.0->ipywidgets->pycaret) (1.8.0)\n",
            "Requirement already satisfied: terminado>=0.8.1 in /usr/local/lib/python3.7/dist-packages (from notebook>=4.4.1->widgetsnbextension~=3.5.0->ipywidgets->pycaret) (0.12.1)\n",
            "Requirement already satisfied: pyzmq>=13 in /usr/local/lib/python3.7/dist-packages (from jupyter-client->ipykernel>=4.5.1->ipywidgets->pycaret) (22.3.0)\n",
            "Requirement already satisfied: ptyprocess in /usr/local/lib/python3.7/dist-packages (from terminado>=0.8.1->notebook>=4.4.1->widgetsnbextension~=3.5.0->ipywidgets->pycaret) (0.7.0)\n",
            "Requirement already satisfied: PyWavelets in /usr/local/lib/python3.7/dist-packages (from imagehash->visions[type_image_path]==0.7.4->pandas-profiling>=2.8.0->pycaret) (1.1.1)\n",
            "Collecting databricks-cli>=0.8.7\n",
            "  Using cached databricks_cli-0.16.2-py3-none-any.whl\n",
            "Requirement already satisfied: sqlalchemy in /usr/local/lib/python3.7/dist-packages (from mlflow->pycaret) (1.4.25)\n",
            "Requirement already satisfied: entrypoints in /usr/local/lib/python3.7/dist-packages (from mlflow->pycaret) (0.3)\n",
            "Requirement already satisfied: packaging in /usr/local/lib/python3.7/dist-packages (from mlflow->pycaret) (21.0)\n",
            "Collecting prometheus-flask-exporter\n",
            "  Using cached prometheus_flask_exporter-0.18.5-py3-none-any.whl (17 kB)\n",
            "Collecting docker>=4.0.0\n",
            "  Using cached docker-5.0.3-py2.py3-none-any.whl (146 kB)\n",
            "Collecting gitpython>=2.1.0\n",
            "  Using cached GitPython-3.1.24-py3-none-any.whl (180 kB)\n",
            "Requirement already satisfied: protobuf>=3.7.0 in /usr/local/lib/python3.7/dist-packages (from mlflow->pycaret) (3.17.3)\n",
            "Collecting alembic<=1.4.1\n",
            "  Using cached alembic-1.4.1-py2.py3-none-any.whl\n",
            "Requirement already satisfied: click>=7.0 in /usr/local/lib/python3.7/dist-packages (from mlflow->pycaret) (7.1.2)\n",
            "Collecting querystring-parser\n",
            "  Using cached querystring_parser-1.2.4-py2.py3-none-any.whl (7.9 kB)\n",
            "Requirement already satisfied: sqlparse>=0.3.1 in /usr/local/lib/python3.7/dist-packages (from mlflow->pycaret) (0.4.2)\n",
            "Collecting gunicorn\n",
            "  Using cached gunicorn-20.1.0-py3-none-any.whl (79 kB)\n",
            "Requirement already satisfied: cloudpickle in /usr/local/lib/python3.7/dist-packages (from mlflow->pycaret) (1.3.0)\n",
            "Requirement already satisfied: Flask in /usr/local/lib/python3.7/dist-packages (from mlflow->pycaret) (1.1.4)\n",
            "Collecting python-editor>=0.3\n",
            "  Using cached python_editor-1.0.4-py3-none-any.whl (4.9 kB)\n",
            "Collecting Mako\n",
            "  Using cached Mako-1.1.5-py2.py3-none-any.whl (75 kB)\n",
            "Requirement already satisfied: tabulate>=0.7.7 in /usr/local/lib/python3.7/dist-packages (from databricks-cli>=0.8.7->mlflow->pycaret) (0.8.9)\n",
            "Collecting websocket-client>=0.32.0\n",
            "  Using cached websocket_client-1.2.1-py2.py3-none-any.whl (52 kB)\n",
            "Collecting gitdb<5,>=4.0.1\n",
            "  Using cached gitdb-4.0.9-py3-none-any.whl (63 kB)\n",
            "Collecting smmap<6,>=3.0.1\n",
            "  Using cached smmap-5.0.0-py3-none-any.whl (24 kB)\n",
            "Requirement already satisfied: greenlet!=0.4.17 in /usr/local/lib/python3.7/dist-packages (from sqlalchemy->mlflow->pycaret) (1.1.2)\n",
            "Requirement already satisfied: Werkzeug<2.0,>=0.15 in /usr/local/lib/python3.7/dist-packages (from Flask->mlflow->pycaret) (1.0.1)\n",
            "Requirement already satisfied: itsdangerous<2.0,>=0.24 in /usr/local/lib/python3.7/dist-packages (from Flask->mlflow->pycaret) (1.1.0)\n",
            "Requirement already satisfied: defusedxml in /usr/local/lib/python3.7/dist-packages (from nbconvert->notebook>=4.4.1->widgetsnbextension~=3.5.0->ipywidgets->pycaret) (0.7.1)\n",
            "Requirement already satisfied: bleach in /usr/local/lib/python3.7/dist-packages (from nbconvert->notebook>=4.4.1->widgetsnbextension~=3.5.0->ipywidgets->pycaret) (4.1.0)\n",
            "Requirement already satisfied: testpath in /usr/local/lib/python3.7/dist-packages (from nbconvert->notebook>=4.4.1->widgetsnbextension~=3.5.0->ipywidgets->pycaret) (0.5.0)\n",
            "Requirement already satisfied: pandocfilters>=1.4.1 in /usr/local/lib/python3.7/dist-packages (from nbconvert->notebook>=4.4.1->widgetsnbextension~=3.5.0->ipywidgets->pycaret) (1.5.0)\n",
            "Requirement already satisfied: mistune<2,>=0.8.1 in /usr/local/lib/python3.7/dist-packages (from nbconvert->notebook>=4.4.1->widgetsnbextension~=3.5.0->ipywidgets->pycaret) (0.8.4)\n",
            "Requirement already satisfied: webencodings in /usr/local/lib/python3.7/dist-packages (from bleach->nbconvert->notebook>=4.4.1->widgetsnbextension~=3.5.0->ipywidgets->pycaret) (0.5.1)\n",
            "Requirement already satisfied: prometheus-client in /usr/local/lib/python3.7/dist-packages (from prometheus-flask-exporter->mlflow->pycaret) (0.11.0)\n",
            "Collecting funcy\n",
            "  Using cached funcy-1.16-py2.py3-none-any.whl (32 kB)\n",
            "Requirement already satisfied: numexpr in /usr/local/lib/python3.7/dist-packages (from pyLDAvis->pycaret) (2.7.3)\n",
            "Collecting pandas\n",
            "  Downloading pandas-1.3.4-cp37-cp37m-manylinux_2_17_x86_64.manylinux2014_x86_64.whl (11.3 MB)\n",
            "\u001b[K     |████████████████████████████████| 11.3 MB 5.1 MB/s \n",
            "\u001b[?25hRequirement already satisfied: sklearn in /usr/local/lib/python3.7/dist-packages (from pyLDAvis->pycaret) (0.0)\n",
            "Requirement already satisfied: future in /usr/local/lib/python3.7/dist-packages (from pyLDAvis->pycaret) (0.16.0)\n",
            "Collecting pyLDAvis\n",
            "  Using cached pyLDAvis-3.3.0.tar.gz (1.7 MB)\n",
            "  Installing build dependencies ... \u001b[?25l\u001b[?25hdone\n",
            "  Getting requirements to build wheel ... \u001b[?25l\u001b[?25hdone\n",
            "  Installing backend dependencies ... \u001b[?25l\u001b[?25hdone\n",
            "    Preparing wheel metadata ... \u001b[?25l\u001b[?25hdone\n",
            "  Using cached pyLDAvis-3.2.2-py2.py3-none-any.whl\n",
            "Requirement already satisfied: statsmodels in /usr/local/lib/python3.7/dist-packages (from pyod->pycaret) (0.10.2)\n",
            "Requirement already satisfied: patsy>=0.4.0 in /usr/local/lib/python3.7/dist-packages (from statsmodels->pyod->pycaret) (0.5.2)\n",
            "Collecting pynndescent>=0.5\n",
            "  Using cached pynndescent-0.5.5-py3-none-any.whl\n",
            "Installing collected packages: smmap, scipy, multimethod, websocket-client, visions, scikit-learn, requests, python-editor, Mako, imagehash, gitdb, querystring-parser, PyYAML, pynndescent, pydantic, prometheus-flask-exporter, phik, htmlmin, gunicorn, gitpython, funcy, docker, databricks-cli, alembic, yellowbrick, umap-learn, scikit-plot, pyod, pyLDAvis, pandas-profiling, mlxtend, mlflow, lightgbm, kmodes, imbalanced-learn, Boruta, pycaret\n",
            "  Attempting uninstall: scipy\n",
            "    Found existing installation: scipy 1.4.1\n",
            "    Uninstalling scipy-1.4.1:\n",
            "      Successfully uninstalled scipy-1.4.1\n",
            "  Attempting uninstall: scikit-learn\n",
            "    Found existing installation: scikit-learn 1.0.1\n",
            "    Uninstalling scikit-learn-1.0.1:\n",
            "      Successfully uninstalled scikit-learn-1.0.1\n",
            "  Attempting uninstall: requests\n",
            "    Found existing installation: requests 2.23.0\n",
            "    Uninstalling requests-2.23.0:\n",
            "      Successfully uninstalled requests-2.23.0\n",
            "  Attempting uninstall: PyYAML\n",
            "    Found existing installation: PyYAML 3.13\n",
            "    Uninstalling PyYAML-3.13:\n",
            "      Successfully uninstalled PyYAML-3.13\n",
            "  Attempting uninstall: yellowbrick\n",
            "    Found existing installation: yellowbrick 0.9.1\n",
            "    Uninstalling yellowbrick-0.9.1:\n",
            "      Successfully uninstalled yellowbrick-0.9.1\n",
            "  Attempting uninstall: pandas-profiling\n",
            "    Found existing installation: pandas-profiling 1.4.1\n",
            "    Uninstalling pandas-profiling-1.4.1:\n",
            "      Successfully uninstalled pandas-profiling-1.4.1\n",
            "  Attempting uninstall: mlxtend\n",
            "    Found existing installation: mlxtend 0.14.0\n",
            "    Uninstalling mlxtend-0.14.0:\n",
            "      Successfully uninstalled mlxtend-0.14.0\n",
            "  Attempting uninstall: lightgbm\n",
            "    Found existing installation: lightgbm 2.2.3\n",
            "    Uninstalling lightgbm-2.2.3:\n",
            "      Successfully uninstalled lightgbm-2.2.3\n",
            "  Attempting uninstall: imbalanced-learn\n",
            "    Found existing installation: imbalanced-learn 0.8.1\n",
            "    Uninstalling imbalanced-learn-0.8.1:\n",
            "      Successfully uninstalled imbalanced-learn-0.8.1\n",
            "\u001b[31mERROR: pip's dependency resolver does not currently take into account all the packages that are installed. This behaviour is the source of the following dependency conflicts.\n",
            "google-colab 1.0.0 requires requests~=2.23.0, but you have requests 2.26.0 which is incompatible.\n",
            "datascience 0.10.6 requires folium==0.2.1, but you have folium 0.8.3 which is incompatible.\n",
            "albumentations 0.1.12 requires imgaug<0.2.7,>=0.2.5, but you have imgaug 0.2.9 which is incompatible.\u001b[0m\n",
            "Successfully installed Boruta-0.3 Mako-1.1.5 PyYAML-6.0 alembic-1.4.1 databricks-cli-0.16.2 docker-5.0.3 funcy-1.16 gitdb-4.0.9 gitpython-3.1.24 gunicorn-20.1.0 htmlmin-0.1.12 imagehash-4.2.1 imbalanced-learn-0.7.0 kmodes-0.11.1 lightgbm-3.3.1 mlflow-1.21.0 mlxtend-0.19.0 multimethod-1.6 pandas-profiling-3.1.0 phik-0.12.0 prometheus-flask-exporter-0.18.5 pyLDAvis-3.2.2 pycaret-2.3.4 pydantic-1.8.2 pynndescent-0.5.5 pyod-0.9.5 python-editor-1.0.4 querystring-parser-1.2.4 requests-2.26.0 scikit-learn-0.23.2 scikit-plot-0.3.7 scipy-1.5.4 smmap-5.0.0 umap-learn-0.5.2 visions-0.7.4 websocket-client-1.2.1 yellowbrick-1.3.post1\n"
          ]
        },
        {
          "output_type": "display_data",
          "data": {
            "application/vnd.colab-display-data+json": {
              "pip_warning": {
                "packages": [
                  "scipy"
                ]
              }
            }
          },
          "metadata": {}
        }
      ]
    },
    {
      "cell_type": "code",
      "metadata": {
        "id": "Pz1x-HfXSrGX",
        "colab": {
          "base_uri": "https://localhost:8080/"
        },
        "outputId": "b240525d-c00c-4650-a839-f35724172e1b"
      },
      "source": [
        "pip install -U imbalanced-learn"
      ],
      "execution_count": null,
      "outputs": [
        {
          "output_type": "stream",
          "name": "stdout",
          "text": [
            "Requirement already satisfied: imbalanced-learn in /usr/local/lib/python3.7/dist-packages (0.7.0)\n",
            "Collecting imbalanced-learn\n",
            "  Using cached imbalanced_learn-0.8.1-py3-none-any.whl (189 kB)\n",
            "Collecting scikit-learn>=0.24\n",
            "  Using cached scikit_learn-1.0.1-cp37-cp37m-manylinux_2_12_x86_64.manylinux2010_x86_64.whl (23.2 MB)\n",
            "Requirement already satisfied: joblib>=0.11 in /usr/local/lib/python3.7/dist-packages (from imbalanced-learn) (1.0.1)\n",
            "Requirement already satisfied: numpy>=1.13.3 in /usr/local/lib/python3.7/dist-packages (from imbalanced-learn) (1.19.5)\n",
            "Requirement already satisfied: scipy>=0.19.1 in /usr/local/lib/python3.7/dist-packages (from imbalanced-learn) (1.5.4)\n",
            "Requirement already satisfied: threadpoolctl>=2.0.0 in /usr/local/lib/python3.7/dist-packages (from scikit-learn>=0.24->imbalanced-learn) (3.0.0)\n",
            "Installing collected packages: scikit-learn, imbalanced-learn\n",
            "  Attempting uninstall: scikit-learn\n",
            "    Found existing installation: scikit-learn 0.23.2\n",
            "    Uninstalling scikit-learn-0.23.2:\n",
            "      Successfully uninstalled scikit-learn-0.23.2\n",
            "  Attempting uninstall: imbalanced-learn\n",
            "    Found existing installation: imbalanced-learn 0.7.0\n",
            "    Uninstalling imbalanced-learn-0.7.0:\n",
            "      Successfully uninstalled imbalanced-learn-0.7.0\n",
            "\u001b[31mERROR: pip's dependency resolver does not currently take into account all the packages that are installed. This behaviour is the source of the following dependency conflicts.\n",
            "pycaret 2.3.4 requires imbalanced-learn==0.7.0, but you have imbalanced-learn 0.8.1 which is incompatible.\n",
            "pycaret 2.3.4 requires scikit-learn==0.23.2, but you have scikit-learn 1.0.1 which is incompatible.\u001b[0m\n",
            "Successfully installed imbalanced-learn-0.8.1 scikit-learn-1.0.1\n"
          ]
        }
      ]
    },
    {
      "cell_type": "code",
      "metadata": {
        "id": "LNjV-ghmCFs2"
      },
      "source": [
        "import pandas as pd\n",
        "import numpy as np\n",
        "import matplotlib.pyplot as plt\n",
        "import seaborn as sns\n",
        "import pycaret"
      ],
      "execution_count": 2,
      "outputs": []
    },
    {
      "cell_type": "markdown",
      "metadata": {
        "id": "QIyRvvU9CfyK"
      },
      "source": [
        "# 2. import data"
      ]
    },
    {
      "cell_type": "code",
      "metadata": {
        "colab": {
          "base_uri": "https://localhost:8080/"
        },
        "id": "C15TaKoNpstC",
        "outputId": "e0598017-b734-4372-d172-72bd691a17f2"
      },
      "source": [
        "!unzip '/content/gdrive/MyDrive/Idorsia Capstone Project/data/subset_10.zip'"
      ],
      "execution_count": 3,
      "outputs": [
        {
          "output_type": "stream",
          "name": "stdout",
          "text": [
            "Archive:  /content/gdrive/MyDrive/Idorsia Capstone Project/data/subset_10.zip\n",
            "  inflating: subset_10.csv           \n"
          ]
        }
      ]
    },
    {
      "cell_type": "code",
      "metadata": {
        "colab": {
          "base_uri": "https://localhost:8080/",
          "height": 426
        },
        "id": "hYQkjuePpstE",
        "outputId": "61f23811-3387-4bdf-ca55-4c3199b9df97"
      },
      "source": [
        "data = pd.read_csv('subset_10.csv', index_col=0)\n",
        "data.head()"
      ],
      "execution_count": 4,
      "outputs": [
        {
          "output_type": "execute_result",
          "data": {
            "text/html": [
              "<div>\n",
              "<style scoped>\n",
              "    .dataframe tbody tr th:only-of-type {\n",
              "        vertical-align: middle;\n",
              "    }\n",
              "\n",
              "    .dataframe tbody tr th {\n",
              "        vertical-align: top;\n",
              "    }\n",
              "\n",
              "    .dataframe thead th {\n",
              "        text-align: right;\n",
              "    }\n",
              "</style>\n",
              "<table border=\"1\" class=\"dataframe\">\n",
              "  <thead>\n",
              "    <tr style=\"text-align: right;\">\n",
              "      <th></th>\n",
              "      <th>PLEKHN1</th>\n",
              "      <th>ISG15</th>\n",
              "      <th>TNFRSF18</th>\n",
              "      <th>TNFRSF4</th>\n",
              "      <th>DVL1</th>\n",
              "      <th>CCNL2</th>\n",
              "      <th>MIB2</th>\n",
              "      <th>SLC35E2B</th>\n",
              "      <th>CDK11A</th>\n",
              "      <th>SKI</th>\n",
              "      <th>PLCH2</th>\n",
              "      <th>KCNAB2</th>\n",
              "      <th>ACOT7</th>\n",
              "      <th>TNFRSF25</th>\n",
              "      <th>RERE</th>\n",
              "      <th>ENO1</th>\n",
              "      <th>PIK3CD</th>\n",
              "      <th>CLSTN1</th>\n",
              "      <th>SRM</th>\n",
              "      <th>FBXO2</th>\n",
              "      <th>FBXO44</th>\n",
              "      <th>AGTRAP</th>\n",
              "      <th>MTHFR</th>\n",
              "      <th>CLCN6</th>\n",
              "      <th>TNFRSF1B</th>\n",
              "      <th>VPS13D</th>\n",
              "      <th>DHRS3</th>\n",
              "      <th>PRDM2</th>\n",
              "      <th>EFHD2</th>\n",
              "      <th>DDI2</th>\n",
              "      <th>SPEN</th>\n",
              "      <th>CROCC</th>\n",
              "      <th>ATP13A2</th>\n",
              "      <th>UBR4</th>\n",
              "      <th>OTUD3</th>\n",
              "      <th>ECE1</th>\n",
              "      <th>USP48</th>\n",
              "      <th>LUZP1</th>\n",
              "      <th>ID3</th>\n",
              "      <th>RPL11</th>\n",
              "      <th>...</th>\n",
              "      <th>APP</th>\n",
              "      <th>MAP3K7CL</th>\n",
              "      <th>BACH1</th>\n",
              "      <th>TIAM1</th>\n",
              "      <th>SOD1</th>\n",
              "      <th>EVA1C</th>\n",
              "      <th>PAXBP1</th>\n",
              "      <th>IFNGR2</th>\n",
              "      <th>MRPS6</th>\n",
              "      <th>SLC5A3</th>\n",
              "      <th>RUNX1</th>\n",
              "      <th>CBR3</th>\n",
              "      <th>TTC3</th>\n",
              "      <th>DYRK1A</th>\n",
              "      <th>ETS2</th>\n",
              "      <th>HMGN1</th>\n",
              "      <th>MX2</th>\n",
              "      <th>MX1</th>\n",
              "      <th>ABCG1</th>\n",
              "      <th>UBASH3A</th>\n",
              "      <th>PKNOX1</th>\n",
              "      <th>CSTB</th>\n",
              "      <th>ITGB2</th>\n",
              "      <th>ADARB1</th>\n",
              "      <th>COL18A1</th>\n",
              "      <th>LSS</th>\n",
              "      <th>MCM3AP</th>\n",
              "      <th>PCNT</th>\n",
              "      <th>DIP2A</th>\n",
              "      <th>MT-ND1</th>\n",
              "      <th>MT-ND2</th>\n",
              "      <th>MT-CO1</th>\n",
              "      <th>MT-CO2</th>\n",
              "      <th>MT-ATP6</th>\n",
              "      <th>MT-CO3</th>\n",
              "      <th>MT-ND4</th>\n",
              "      <th>MT-ND5</th>\n",
              "      <th>MT-CYB</th>\n",
              "      <th>cell_state</th>\n",
              "      <th>cell_type</th>\n",
              "    </tr>\n",
              "    <tr>\n",
              "      <th>Unnamed: 0</th>\n",
              "      <th></th>\n",
              "      <th></th>\n",
              "      <th></th>\n",
              "      <th></th>\n",
              "      <th></th>\n",
              "      <th></th>\n",
              "      <th></th>\n",
              "      <th></th>\n",
              "      <th></th>\n",
              "      <th></th>\n",
              "      <th></th>\n",
              "      <th></th>\n",
              "      <th></th>\n",
              "      <th></th>\n",
              "      <th></th>\n",
              "      <th></th>\n",
              "      <th></th>\n",
              "      <th></th>\n",
              "      <th></th>\n",
              "      <th></th>\n",
              "      <th></th>\n",
              "      <th></th>\n",
              "      <th></th>\n",
              "      <th></th>\n",
              "      <th></th>\n",
              "      <th></th>\n",
              "      <th></th>\n",
              "      <th></th>\n",
              "      <th></th>\n",
              "      <th></th>\n",
              "      <th></th>\n",
              "      <th></th>\n",
              "      <th></th>\n",
              "      <th></th>\n",
              "      <th></th>\n",
              "      <th></th>\n",
              "      <th></th>\n",
              "      <th></th>\n",
              "      <th></th>\n",
              "      <th></th>\n",
              "      <th></th>\n",
              "      <th></th>\n",
              "      <th></th>\n",
              "      <th></th>\n",
              "      <th></th>\n",
              "      <th></th>\n",
              "      <th></th>\n",
              "      <th></th>\n",
              "      <th></th>\n",
              "      <th></th>\n",
              "      <th></th>\n",
              "      <th></th>\n",
              "      <th></th>\n",
              "      <th></th>\n",
              "      <th></th>\n",
              "      <th></th>\n",
              "      <th></th>\n",
              "      <th></th>\n",
              "      <th></th>\n",
              "      <th></th>\n",
              "      <th></th>\n",
              "      <th></th>\n",
              "      <th></th>\n",
              "      <th></th>\n",
              "      <th></th>\n",
              "      <th></th>\n",
              "      <th></th>\n",
              "      <th></th>\n",
              "      <th></th>\n",
              "      <th></th>\n",
              "      <th></th>\n",
              "      <th></th>\n",
              "      <th></th>\n",
              "      <th></th>\n",
              "      <th></th>\n",
              "      <th></th>\n",
              "      <th></th>\n",
              "      <th></th>\n",
              "      <th></th>\n",
              "      <th></th>\n",
              "      <th></th>\n",
              "    </tr>\n",
              "  </thead>\n",
              "  <tbody>\n",
              "    <tr>\n",
              "      <th>GSM4143684_CACCTTGTCGATCCCT</th>\n",
              "      <td>-0.071988</td>\n",
              "      <td>-0.265577</td>\n",
              "      <td>-0.087526</td>\n",
              "      <td>-0.095535</td>\n",
              "      <td>-0.133205</td>\n",
              "      <td>-0.335218</td>\n",
              "      <td>-0.244682</td>\n",
              "      <td>-0.255132</td>\n",
              "      <td>-0.239429</td>\n",
              "      <td>-0.296508</td>\n",
              "      <td>-0.095936</td>\n",
              "      <td>1.419227</td>\n",
              "      <td>-0.079582</td>\n",
              "      <td>-0.202538</td>\n",
              "      <td>2.275878</td>\n",
              "      <td>-0.944980</td>\n",
              "      <td>-0.332115</td>\n",
              "      <td>-0.295795</td>\n",
              "      <td>-0.322602</td>\n",
              "      <td>-0.078251</td>\n",
              "      <td>-0.251609</td>\n",
              "      <td>-0.450389</td>\n",
              "      <td>-0.280038</td>\n",
              "      <td>-0.208247</td>\n",
              "      <td>1.254934</td>\n",
              "      <td>-0.340695</td>\n",
              "      <td>-0.424307</td>\n",
              "      <td>-0.365255</td>\n",
              "      <td>-0.511625</td>\n",
              "      <td>-0.164532</td>\n",
              "      <td>-0.317861</td>\n",
              "      <td>-0.174058</td>\n",
              "      <td>-0.192115</td>\n",
              "      <td>-0.410630</td>\n",
              "      <td>-0.105355</td>\n",
              "      <td>-0.285387</td>\n",
              "      <td>1.800882</td>\n",
              "      <td>-0.212355</td>\n",
              "      <td>-0.333085</td>\n",
              "      <td>-0.568453</td>\n",
              "      <td>...</td>\n",
              "      <td>2.510091</td>\n",
              "      <td>-0.182170</td>\n",
              "      <td>-0.445091</td>\n",
              "      <td>-0.232213</td>\n",
              "      <td>0.839193</td>\n",
              "      <td>-0.148710</td>\n",
              "      <td>-0.157561</td>\n",
              "      <td>-0.665817</td>\n",
              "      <td>1.627726</td>\n",
              "      <td>2.929252</td>\n",
              "      <td>3.752024</td>\n",
              "      <td>-0.053761</td>\n",
              "      <td>-0.602856</td>\n",
              "      <td>2.797265</td>\n",
              "      <td>-0.548498</td>\n",
              "      <td>-0.963906</td>\n",
              "      <td>-0.304226</td>\n",
              "      <td>-0.226689</td>\n",
              "      <td>-0.224802</td>\n",
              "      <td>-0.181524</td>\n",
              "      <td>-0.120809</td>\n",
              "      <td>0.616167</td>\n",
              "      <td>0.633112</td>\n",
              "      <td>-0.171473</td>\n",
              "      <td>-0.238591</td>\n",
              "      <td>-0.183494</td>\n",
              "      <td>-0.336997</td>\n",
              "      <td>-0.171524</td>\n",
              "      <td>-0.333410</td>\n",
              "      <td>0.066321</td>\n",
              "      <td>-0.284784</td>\n",
              "      <td>-1.236136</td>\n",
              "      <td>-1.140978</td>\n",
              "      <td>0.225116</td>\n",
              "      <td>0.285313</td>\n",
              "      <td>0.404852</td>\n",
              "      <td>-0.403512</td>\n",
              "      <td>-1.331429</td>\n",
              "      <td>macrophage</td>\n",
              "      <td>macrophage</td>\n",
              "    </tr>\n",
              "    <tr>\n",
              "      <th>ERS3566166_GTCACGGTCCGGCACA</th>\n",
              "      <td>-0.106635</td>\n",
              "      <td>-0.604680</td>\n",
              "      <td>-0.504235</td>\n",
              "      <td>-0.442228</td>\n",
              "      <td>-0.103701</td>\n",
              "      <td>-0.425101</td>\n",
              "      <td>-0.339960</td>\n",
              "      <td>-0.249205</td>\n",
              "      <td>-0.412101</td>\n",
              "      <td>-0.330718</td>\n",
              "      <td>-0.121260</td>\n",
              "      <td>-0.473610</td>\n",
              "      <td>-0.221898</td>\n",
              "      <td>-0.445567</td>\n",
              "      <td>-0.315318</td>\n",
              "      <td>-1.090314</td>\n",
              "      <td>-0.404402</td>\n",
              "      <td>-0.356656</td>\n",
              "      <td>-0.258395</td>\n",
              "      <td>-0.119093</td>\n",
              "      <td>4.775130</td>\n",
              "      <td>-0.317039</td>\n",
              "      <td>-0.157664</td>\n",
              "      <td>-0.124176</td>\n",
              "      <td>-0.728042</td>\n",
              "      <td>-0.282863</td>\n",
              "      <td>-0.221680</td>\n",
              "      <td>-0.444395</td>\n",
              "      <td>-0.327189</td>\n",
              "      <td>-0.221121</td>\n",
              "      <td>-0.357812</td>\n",
              "      <td>-0.177315</td>\n",
              "      <td>-0.184892</td>\n",
              "      <td>-0.390698</td>\n",
              "      <td>-0.146081</td>\n",
              "      <td>-0.286798</td>\n",
              "      <td>-0.412339</td>\n",
              "      <td>-0.318400</td>\n",
              "      <td>-0.371817</td>\n",
              "      <td>-0.964195</td>\n",
              "      <td>...</td>\n",
              "      <td>-0.193053</td>\n",
              "      <td>-0.098245</td>\n",
              "      <td>-0.309796</td>\n",
              "      <td>-0.272343</td>\n",
              "      <td>-1.405040</td>\n",
              "      <td>-0.187214</td>\n",
              "      <td>-0.236375</td>\n",
              "      <td>-0.031855</td>\n",
              "      <td>-0.739427</td>\n",
              "      <td>-0.392869</td>\n",
              "      <td>-0.328025</td>\n",
              "      <td>-0.149975</td>\n",
              "      <td>-0.545499</td>\n",
              "      <td>-0.278868</td>\n",
              "      <td>-0.161776</td>\n",
              "      <td>0.793728</td>\n",
              "      <td>-0.338451</td>\n",
              "      <td>-0.423338</td>\n",
              "      <td>3.398397</td>\n",
              "      <td>3.837188</td>\n",
              "      <td>-0.225741</td>\n",
              "      <td>1.171086</td>\n",
              "      <td>-0.853118</td>\n",
              "      <td>-0.181345</td>\n",
              "      <td>-0.174656</td>\n",
              "      <td>-0.144594</td>\n",
              "      <td>-0.321012</td>\n",
              "      <td>-0.257268</td>\n",
              "      <td>-0.392649</td>\n",
              "      <td>-1.322311</td>\n",
              "      <td>1.234960</td>\n",
              "      <td>0.850628</td>\n",
              "      <td>0.381848</td>\n",
              "      <td>0.458554</td>\n",
              "      <td>1.284652</td>\n",
              "      <td>0.757548</td>\n",
              "      <td>-2.598698</td>\n",
              "      <td>-0.015576</td>\n",
              "      <td>CD8 effector memory T-cell</td>\n",
              "      <td>T-cell</td>\n",
              "    </tr>\n",
              "    <tr>\n",
              "      <th>GSM4143655_CCGGGATTCTACCAGA-2</th>\n",
              "      <td>-0.124044</td>\n",
              "      <td>-0.755008</td>\n",
              "      <td>-0.596920</td>\n",
              "      <td>-0.571494</td>\n",
              "      <td>-0.094010</td>\n",
              "      <td>-0.426885</td>\n",
              "      <td>-0.357217</td>\n",
              "      <td>-0.231042</td>\n",
              "      <td>-0.432728</td>\n",
              "      <td>-0.316848</td>\n",
              "      <td>-0.134548</td>\n",
              "      <td>-0.488330</td>\n",
              "      <td>-0.178900</td>\n",
              "      <td>-0.514463</td>\n",
              "      <td>-0.295380</td>\n",
              "      <td>0.896807</td>\n",
              "      <td>-0.425794</td>\n",
              "      <td>-0.362639</td>\n",
              "      <td>-0.285961</td>\n",
              "      <td>-0.118961</td>\n",
              "      <td>-0.312215</td>\n",
              "      <td>-0.351266</td>\n",
              "      <td>-0.141408</td>\n",
              "      <td>-0.105225</td>\n",
              "      <td>-0.794916</td>\n",
              "      <td>-0.267249</td>\n",
              "      <td>-0.193238</td>\n",
              "      <td>-0.425187</td>\n",
              "      <td>-0.333225</td>\n",
              "      <td>-0.233320</td>\n",
              "      <td>-0.345479</td>\n",
              "      <td>-0.191265</td>\n",
              "      <td>-0.188457</td>\n",
              "      <td>-0.380927</td>\n",
              "      <td>-0.139163</td>\n",
              "      <td>-0.287852</td>\n",
              "      <td>-0.415528</td>\n",
              "      <td>-0.341753</td>\n",
              "      <td>-0.339481</td>\n",
              "      <td>1.249052</td>\n",
              "      <td>...</td>\n",
              "      <td>-0.181909</td>\n",
              "      <td>-0.077890</td>\n",
              "      <td>-0.307268</td>\n",
              "      <td>-0.312375</td>\n",
              "      <td>1.051417</td>\n",
              "      <td>-0.185299</td>\n",
              "      <td>-0.238428</td>\n",
              "      <td>-0.033041</td>\n",
              "      <td>-0.833691</td>\n",
              "      <td>-0.439555</td>\n",
              "      <td>-0.343546</td>\n",
              "      <td>-0.127695</td>\n",
              "      <td>2.437956</td>\n",
              "      <td>-0.261175</td>\n",
              "      <td>4.382756</td>\n",
              "      <td>-1.277835</td>\n",
              "      <td>-0.399502</td>\n",
              "      <td>-0.510792</td>\n",
              "      <td>-0.436643</td>\n",
              "      <td>-0.422582</td>\n",
              "      <td>-0.244247</td>\n",
              "      <td>-0.873464</td>\n",
              "      <td>1.180602</td>\n",
              "      <td>-0.169597</td>\n",
              "      <td>-0.158458</td>\n",
              "      <td>-0.141976</td>\n",
              "      <td>-0.308257</td>\n",
              "      <td>-0.220758</td>\n",
              "      <td>3.579736</td>\n",
              "      <td>-3.214363</td>\n",
              "      <td>-0.142946</td>\n",
              "      <td>0.945928</td>\n",
              "      <td>1.772948</td>\n",
              "      <td>0.503938</td>\n",
              "      <td>-0.872040</td>\n",
              "      <td>-0.466063</td>\n",
              "      <td>0.887722</td>\n",
              "      <td>0.065105</td>\n",
              "      <td>CD8 T-cell (unspecified)</td>\n",
              "      <td>T-cell</td>\n",
              "    </tr>\n",
              "    <tr>\n",
              "      <th>GSM4143657_CGAATGTAGAGCCTAG</th>\n",
              "      <td>-0.096913</td>\n",
              "      <td>1.311413</td>\n",
              "      <td>-0.358989</td>\n",
              "      <td>0.802298</td>\n",
              "      <td>-0.117326</td>\n",
              "      <td>-0.379667</td>\n",
              "      <td>-0.290580</td>\n",
              "      <td>-0.236730</td>\n",
              "      <td>-0.322928</td>\n",
              "      <td>-0.302283</td>\n",
              "      <td>-0.101962</td>\n",
              "      <td>-0.481266</td>\n",
              "      <td>-0.205666</td>\n",
              "      <td>-0.353486</td>\n",
              "      <td>-0.330180</td>\n",
              "      <td>-1.126939</td>\n",
              "      <td>1.778547</td>\n",
              "      <td>2.101355</td>\n",
              "      <td>-0.348070</td>\n",
              "      <td>-0.093501</td>\n",
              "      <td>-0.266935</td>\n",
              "      <td>1.792534</td>\n",
              "      <td>-0.222964</td>\n",
              "      <td>-0.166076</td>\n",
              "      <td>-0.689498</td>\n",
              "      <td>-0.297045</td>\n",
              "      <td>-0.316700</td>\n",
              "      <td>-0.396968</td>\n",
              "      <td>-0.494939</td>\n",
              "      <td>-0.210438</td>\n",
              "      <td>-0.345373</td>\n",
              "      <td>-0.176377</td>\n",
              "      <td>-0.194003</td>\n",
              "      <td>-0.405211</td>\n",
              "      <td>-0.121287</td>\n",
              "      <td>-0.306903</td>\n",
              "      <td>1.686422</td>\n",
              "      <td>-0.281933</td>\n",
              "      <td>-0.358402</td>\n",
              "      <td>-0.305790</td>\n",
              "      <td>...</td>\n",
              "      <td>-0.349745</td>\n",
              "      <td>-0.152295</td>\n",
              "      <td>-0.411966</td>\n",
              "      <td>-0.285689</td>\n",
              "      <td>-0.095814</td>\n",
              "      <td>-0.160479</td>\n",
              "      <td>-0.196167</td>\n",
              "      <td>-0.492336</td>\n",
              "      <td>-0.631893</td>\n",
              "      <td>-0.305707</td>\n",
              "      <td>-0.394605</td>\n",
              "      <td>-0.122268</td>\n",
              "      <td>-0.572069</td>\n",
              "      <td>-0.266259</td>\n",
              "      <td>-0.411910</td>\n",
              "      <td>-0.005568</td>\n",
              "      <td>1.804333</td>\n",
              "      <td>-0.376868</td>\n",
              "      <td>1.785804</td>\n",
              "      <td>-0.293121</td>\n",
              "      <td>-0.193485</td>\n",
              "      <td>0.049589</td>\n",
              "      <td>1.546430</td>\n",
              "      <td>4.524909</td>\n",
              "      <td>-0.201492</td>\n",
              "      <td>-0.171496</td>\n",
              "      <td>2.289642</td>\n",
              "      <td>3.335222</td>\n",
              "      <td>-0.350693</td>\n",
              "      <td>-0.632696</td>\n",
              "      <td>-0.555727</td>\n",
              "      <td>-0.385962</td>\n",
              "      <td>-0.161600</td>\n",
              "      <td>0.990495</td>\n",
              "      <td>-1.363653</td>\n",
              "      <td>0.636151</td>\n",
              "      <td>0.552661</td>\n",
              "      <td>0.082520</td>\n",
              "      <td>CD8 resident memory T-cell</td>\n",
              "      <td>T-cell</td>\n",
              "    </tr>\n",
              "    <tr>\n",
              "      <th>GSM4143657_GATCGATGTGTAACGG</th>\n",
              "      <td>-0.109905</td>\n",
              "      <td>-0.584470</td>\n",
              "      <td>-0.429646</td>\n",
              "      <td>-0.404012</td>\n",
              "      <td>-0.107612</td>\n",
              "      <td>1.351830</td>\n",
              "      <td>-0.311605</td>\n",
              "      <td>-0.234214</td>\n",
              "      <td>-0.309260</td>\n",
              "      <td>-0.270320</td>\n",
              "      <td>5.356299</td>\n",
              "      <td>-0.507400</td>\n",
              "      <td>-0.313438</td>\n",
              "      <td>-0.411406</td>\n",
              "      <td>-0.313331</td>\n",
              "      <td>0.135950</td>\n",
              "      <td>-0.362452</td>\n",
              "      <td>1.651075</td>\n",
              "      <td>-0.425395</td>\n",
              "      <td>-0.102773</td>\n",
              "      <td>-0.289856</td>\n",
              "      <td>-0.442113</td>\n",
              "      <td>-0.215009</td>\n",
              "      <td>-0.155693</td>\n",
              "      <td>0.292479</td>\n",
              "      <td>-0.286744</td>\n",
              "      <td>-0.328666</td>\n",
              "      <td>2.148372</td>\n",
              "      <td>-0.537075</td>\n",
              "      <td>-0.209545</td>\n",
              "      <td>-0.348100</td>\n",
              "      <td>-0.179780</td>\n",
              "      <td>-0.200064</td>\n",
              "      <td>-0.391681</td>\n",
              "      <td>-0.126557</td>\n",
              "      <td>1.935838</td>\n",
              "      <td>-0.430551</td>\n",
              "      <td>-0.279257</td>\n",
              "      <td>-0.368756</td>\n",
              "      <td>1.011692</td>\n",
              "      <td>...</td>\n",
              "      <td>-0.363415</td>\n",
              "      <td>-0.172663</td>\n",
              "      <td>-0.398408</td>\n",
              "      <td>-0.301459</td>\n",
              "      <td>-1.252185</td>\n",
              "      <td>-0.177236</td>\n",
              "      <td>-0.191079</td>\n",
              "      <td>-0.561609</td>\n",
              "      <td>-0.724013</td>\n",
              "      <td>-0.286339</td>\n",
              "      <td>1.468003</td>\n",
              "      <td>-0.156894</td>\n",
              "      <td>0.755054</td>\n",
              "      <td>-0.250706</td>\n",
              "      <td>1.703467</td>\n",
              "      <td>-1.277634</td>\n",
              "      <td>-0.361233</td>\n",
              "      <td>-0.447984</td>\n",
              "      <td>-0.383809</td>\n",
              "      <td>-0.337331</td>\n",
              "      <td>-0.202916</td>\n",
              "      <td>-1.141994</td>\n",
              "      <td>-1.060618</td>\n",
              "      <td>-0.153561</td>\n",
              "      <td>-0.212510</td>\n",
              "      <td>-0.174248</td>\n",
              "      <td>-0.318278</td>\n",
              "      <td>-0.203942</td>\n",
              "      <td>-0.342103</td>\n",
              "      <td>-0.047831</td>\n",
              "      <td>-0.011760</td>\n",
              "      <td>-0.530874</td>\n",
              "      <td>-0.073536</td>\n",
              "      <td>0.540572</td>\n",
              "      <td>-0.349338</td>\n",
              "      <td>1.037495</td>\n",
              "      <td>-0.207295</td>\n",
              "      <td>0.933198</td>\n",
              "      <td>CD4 helper T-cell (unspecified)</td>\n",
              "      <td>T-cell</td>\n",
              "    </tr>\n",
              "  </tbody>\n",
              "</table>\n",
              "<p>5 rows × 3002 columns</p>\n",
              "</div>"
            ],
            "text/plain": [
              "                                PLEKHN1  ...   cell_type\n",
              "Unnamed: 0                               ...            \n",
              "GSM4143684_CACCTTGTCGATCCCT   -0.071988  ...  macrophage\n",
              "ERS3566166_GTCACGGTCCGGCACA   -0.106635  ...      T-cell\n",
              "GSM4143655_CCGGGATTCTACCAGA-2 -0.124044  ...      T-cell\n",
              "GSM4143657_CGAATGTAGAGCCTAG   -0.096913  ...      T-cell\n",
              "GSM4143657_GATCGATGTGTAACGG   -0.109905  ...      T-cell\n",
              "\n",
              "[5 rows x 3002 columns]"
            ]
          },
          "metadata": {},
          "execution_count": 4
        }
      ]
    },
    {
      "cell_type": "markdown",
      "metadata": {
        "id": "si7sd5LDjiee"
      },
      "source": [
        "## add new cell type lables for T cell hierarchical models"
      ]
    },
    {
      "cell_type": "code",
      "metadata": {
        "id": "o8bxezhW-okh"
      },
      "source": [
        "category_dict_2 = {\n",
        "   'CD4 naive T-cell': 'CD4 T-cell',\n",
        "   'CD4 regulatory T-cell (unspecified)': 'CD4 T-cell',\n",
        "   'CD8 effector memory T-cell': 'CD8 T-cell',\n",
        "   'CD4 helper T-cell (unspecified)': 'CD4 T-cell',\n",
        "   'CD8 memory T-cell (unspecified)': 'CD8 T-cell',\n",
        "   'CD4 follicular helper T-cell': 'CD4 T-cell',\n",
        "   'CD8 T-cell (unspecified)': 'CD8 T-cell',\n",
        "   'CD8 resident memory T-cell': 'CD8 T-cell',\n",
        "   'B-cell (unspecified)': 'B-cell',\n",
        "   'CD8 activated T-cell (unspecified)': 'CD8 T-cell',\n",
        "   'macrophage': 'macrophage',\n",
        "   'plasma cell': 'plasma cell',\n",
        "   'CD8 exhausted T-cell (unspecified)': 'CD8 T-cell',\n",
        "   'natural killer cell': 'killer cell',\n",
        "   'CD8 exhausted resident memory T-cell': 'CD8 T-cell',\n",
        "   'NK T-cell (unspecified)': 'other T-cell',\n",
        "   'Th17 T-cell': 'other T-cell',\n",
        "   'M2 macrophage': 'macrophage',\n",
        "   'CD8 cytotoxic T-cell (unspecified)': 'CD8 T-cell',\n",
        "   'classical monocyte': 'monocyte',\n",
        "   'CD4 T-cell (unspecified)': 'CD4 T-cell',\n",
        "   'GC-dependent memory B-cell': 'B-cell',\n",
        "   'T-cell (unspecified)': 'other T-cell',\n",
        "   'non-classical monocyte': 'monocyte',\n",
        "   'lymphocyte': 'lymphocyte',\n",
        "   'naive B-cell': 'B-cell',\n",
        "   'granulocyte': 'granulocyte',\n",
        "   'conventional dendritic cell': 'dendritic cell',\n",
        "   'CD8 exhausted cytotoxic T-cell (unspecified)': 'CD8 T-cell',\n",
        "   'mast cell': 'mast cell',\n",
        "   'conventional dendritic cell 2': 'dendritic cell',\n",
        "   'plasmacytoid dendritic cell': 'dendritic cell',\n",
        "   'dendritic cell': 'dendritic cell',\n",
        "   'CD8 naive T-cell': 'CD8 T-cell',\n",
        "   'leukocyte': 'leukocyte',\n",
        "   'M1 macrophage': 'macrophage',\n",
        "   'perivascular M2 macrophage': 'macrophage',\n",
        "   'myeloid cell (unspecified)': 'myeloid cell',\n",
        "   'CD4 central memory T-cell': 'CD4 T-cell',\n",
        "   'GC-independent memory B-cell': 'B-cell',\n",
        "   'CD8 central memory T-cell': 'CD8 T-cell',\n",
        "   'conventional dendritic cell 1': 'dendritic cell',\n",
        "   'gd T-cell (unspecified)': 'other T-cell'\n",
        "}"
      ],
      "execution_count": 5,
      "outputs": []
    },
    {
      "cell_type": "code",
      "metadata": {
        "colab": {
          "base_uri": "https://localhost:8080/",
          "height": 426
        },
        "id": "xipHBmMe_LUb",
        "outputId": "a278187c-6e2d-42cd-b780-a39c73414c50"
      },
      "source": [
        "data['cell_type_2'] = data['cell_state'].apply(lambda cell: category_dict_2[cell])\n",
        "data.head()"
      ],
      "execution_count": 6,
      "outputs": [
        {
          "output_type": "execute_result",
          "data": {
            "text/html": [
              "<div>\n",
              "<style scoped>\n",
              "    .dataframe tbody tr th:only-of-type {\n",
              "        vertical-align: middle;\n",
              "    }\n",
              "\n",
              "    .dataframe tbody tr th {\n",
              "        vertical-align: top;\n",
              "    }\n",
              "\n",
              "    .dataframe thead th {\n",
              "        text-align: right;\n",
              "    }\n",
              "</style>\n",
              "<table border=\"1\" class=\"dataframe\">\n",
              "  <thead>\n",
              "    <tr style=\"text-align: right;\">\n",
              "      <th></th>\n",
              "      <th>PLEKHN1</th>\n",
              "      <th>ISG15</th>\n",
              "      <th>TNFRSF18</th>\n",
              "      <th>TNFRSF4</th>\n",
              "      <th>DVL1</th>\n",
              "      <th>CCNL2</th>\n",
              "      <th>MIB2</th>\n",
              "      <th>SLC35E2B</th>\n",
              "      <th>CDK11A</th>\n",
              "      <th>SKI</th>\n",
              "      <th>PLCH2</th>\n",
              "      <th>KCNAB2</th>\n",
              "      <th>ACOT7</th>\n",
              "      <th>TNFRSF25</th>\n",
              "      <th>RERE</th>\n",
              "      <th>ENO1</th>\n",
              "      <th>PIK3CD</th>\n",
              "      <th>CLSTN1</th>\n",
              "      <th>SRM</th>\n",
              "      <th>FBXO2</th>\n",
              "      <th>FBXO44</th>\n",
              "      <th>AGTRAP</th>\n",
              "      <th>MTHFR</th>\n",
              "      <th>CLCN6</th>\n",
              "      <th>TNFRSF1B</th>\n",
              "      <th>VPS13D</th>\n",
              "      <th>DHRS3</th>\n",
              "      <th>PRDM2</th>\n",
              "      <th>EFHD2</th>\n",
              "      <th>DDI2</th>\n",
              "      <th>SPEN</th>\n",
              "      <th>CROCC</th>\n",
              "      <th>ATP13A2</th>\n",
              "      <th>UBR4</th>\n",
              "      <th>OTUD3</th>\n",
              "      <th>ECE1</th>\n",
              "      <th>USP48</th>\n",
              "      <th>LUZP1</th>\n",
              "      <th>ID3</th>\n",
              "      <th>RPL11</th>\n",
              "      <th>...</th>\n",
              "      <th>MAP3K7CL</th>\n",
              "      <th>BACH1</th>\n",
              "      <th>TIAM1</th>\n",
              "      <th>SOD1</th>\n",
              "      <th>EVA1C</th>\n",
              "      <th>PAXBP1</th>\n",
              "      <th>IFNGR2</th>\n",
              "      <th>MRPS6</th>\n",
              "      <th>SLC5A3</th>\n",
              "      <th>RUNX1</th>\n",
              "      <th>CBR3</th>\n",
              "      <th>TTC3</th>\n",
              "      <th>DYRK1A</th>\n",
              "      <th>ETS2</th>\n",
              "      <th>HMGN1</th>\n",
              "      <th>MX2</th>\n",
              "      <th>MX1</th>\n",
              "      <th>ABCG1</th>\n",
              "      <th>UBASH3A</th>\n",
              "      <th>PKNOX1</th>\n",
              "      <th>CSTB</th>\n",
              "      <th>ITGB2</th>\n",
              "      <th>ADARB1</th>\n",
              "      <th>COL18A1</th>\n",
              "      <th>LSS</th>\n",
              "      <th>MCM3AP</th>\n",
              "      <th>PCNT</th>\n",
              "      <th>DIP2A</th>\n",
              "      <th>MT-ND1</th>\n",
              "      <th>MT-ND2</th>\n",
              "      <th>MT-CO1</th>\n",
              "      <th>MT-CO2</th>\n",
              "      <th>MT-ATP6</th>\n",
              "      <th>MT-CO3</th>\n",
              "      <th>MT-ND4</th>\n",
              "      <th>MT-ND5</th>\n",
              "      <th>MT-CYB</th>\n",
              "      <th>cell_state</th>\n",
              "      <th>cell_type</th>\n",
              "      <th>cell_type_2</th>\n",
              "    </tr>\n",
              "    <tr>\n",
              "      <th>Unnamed: 0</th>\n",
              "      <th></th>\n",
              "      <th></th>\n",
              "      <th></th>\n",
              "      <th></th>\n",
              "      <th></th>\n",
              "      <th></th>\n",
              "      <th></th>\n",
              "      <th></th>\n",
              "      <th></th>\n",
              "      <th></th>\n",
              "      <th></th>\n",
              "      <th></th>\n",
              "      <th></th>\n",
              "      <th></th>\n",
              "      <th></th>\n",
              "      <th></th>\n",
              "      <th></th>\n",
              "      <th></th>\n",
              "      <th></th>\n",
              "      <th></th>\n",
              "      <th></th>\n",
              "      <th></th>\n",
              "      <th></th>\n",
              "      <th></th>\n",
              "      <th></th>\n",
              "      <th></th>\n",
              "      <th></th>\n",
              "      <th></th>\n",
              "      <th></th>\n",
              "      <th></th>\n",
              "      <th></th>\n",
              "      <th></th>\n",
              "      <th></th>\n",
              "      <th></th>\n",
              "      <th></th>\n",
              "      <th></th>\n",
              "      <th></th>\n",
              "      <th></th>\n",
              "      <th></th>\n",
              "      <th></th>\n",
              "      <th></th>\n",
              "      <th></th>\n",
              "      <th></th>\n",
              "      <th></th>\n",
              "      <th></th>\n",
              "      <th></th>\n",
              "      <th></th>\n",
              "      <th></th>\n",
              "      <th></th>\n",
              "      <th></th>\n",
              "      <th></th>\n",
              "      <th></th>\n",
              "      <th></th>\n",
              "      <th></th>\n",
              "      <th></th>\n",
              "      <th></th>\n",
              "      <th></th>\n",
              "      <th></th>\n",
              "      <th></th>\n",
              "      <th></th>\n",
              "      <th></th>\n",
              "      <th></th>\n",
              "      <th></th>\n",
              "      <th></th>\n",
              "      <th></th>\n",
              "      <th></th>\n",
              "      <th></th>\n",
              "      <th></th>\n",
              "      <th></th>\n",
              "      <th></th>\n",
              "      <th></th>\n",
              "      <th></th>\n",
              "      <th></th>\n",
              "      <th></th>\n",
              "      <th></th>\n",
              "      <th></th>\n",
              "      <th></th>\n",
              "      <th></th>\n",
              "      <th></th>\n",
              "      <th></th>\n",
              "      <th></th>\n",
              "    </tr>\n",
              "  </thead>\n",
              "  <tbody>\n",
              "    <tr>\n",
              "      <th>GSM4143684_CACCTTGTCGATCCCT</th>\n",
              "      <td>-0.071988</td>\n",
              "      <td>-0.265577</td>\n",
              "      <td>-0.087526</td>\n",
              "      <td>-0.095535</td>\n",
              "      <td>-0.133205</td>\n",
              "      <td>-0.335218</td>\n",
              "      <td>-0.244682</td>\n",
              "      <td>-0.255132</td>\n",
              "      <td>-0.239429</td>\n",
              "      <td>-0.296508</td>\n",
              "      <td>-0.095936</td>\n",
              "      <td>1.419227</td>\n",
              "      <td>-0.079582</td>\n",
              "      <td>-0.202538</td>\n",
              "      <td>2.275878</td>\n",
              "      <td>-0.944980</td>\n",
              "      <td>-0.332115</td>\n",
              "      <td>-0.295795</td>\n",
              "      <td>-0.322602</td>\n",
              "      <td>-0.078251</td>\n",
              "      <td>-0.251609</td>\n",
              "      <td>-0.450389</td>\n",
              "      <td>-0.280038</td>\n",
              "      <td>-0.208247</td>\n",
              "      <td>1.254934</td>\n",
              "      <td>-0.340695</td>\n",
              "      <td>-0.424307</td>\n",
              "      <td>-0.365255</td>\n",
              "      <td>-0.511625</td>\n",
              "      <td>-0.164532</td>\n",
              "      <td>-0.317861</td>\n",
              "      <td>-0.174058</td>\n",
              "      <td>-0.192115</td>\n",
              "      <td>-0.410630</td>\n",
              "      <td>-0.105355</td>\n",
              "      <td>-0.285387</td>\n",
              "      <td>1.800882</td>\n",
              "      <td>-0.212355</td>\n",
              "      <td>-0.333085</td>\n",
              "      <td>-0.568453</td>\n",
              "      <td>...</td>\n",
              "      <td>-0.182170</td>\n",
              "      <td>-0.445091</td>\n",
              "      <td>-0.232213</td>\n",
              "      <td>0.839193</td>\n",
              "      <td>-0.148710</td>\n",
              "      <td>-0.157561</td>\n",
              "      <td>-0.665817</td>\n",
              "      <td>1.627726</td>\n",
              "      <td>2.929252</td>\n",
              "      <td>3.752024</td>\n",
              "      <td>-0.053761</td>\n",
              "      <td>-0.602856</td>\n",
              "      <td>2.797265</td>\n",
              "      <td>-0.548498</td>\n",
              "      <td>-0.963906</td>\n",
              "      <td>-0.304226</td>\n",
              "      <td>-0.226689</td>\n",
              "      <td>-0.224802</td>\n",
              "      <td>-0.181524</td>\n",
              "      <td>-0.120809</td>\n",
              "      <td>0.616167</td>\n",
              "      <td>0.633112</td>\n",
              "      <td>-0.171473</td>\n",
              "      <td>-0.238591</td>\n",
              "      <td>-0.183494</td>\n",
              "      <td>-0.336997</td>\n",
              "      <td>-0.171524</td>\n",
              "      <td>-0.333410</td>\n",
              "      <td>0.066321</td>\n",
              "      <td>-0.284784</td>\n",
              "      <td>-1.236136</td>\n",
              "      <td>-1.140978</td>\n",
              "      <td>0.225116</td>\n",
              "      <td>0.285313</td>\n",
              "      <td>0.404852</td>\n",
              "      <td>-0.403512</td>\n",
              "      <td>-1.331429</td>\n",
              "      <td>macrophage</td>\n",
              "      <td>macrophage</td>\n",
              "      <td>macrophage</td>\n",
              "    </tr>\n",
              "    <tr>\n",
              "      <th>ERS3566166_GTCACGGTCCGGCACA</th>\n",
              "      <td>-0.106635</td>\n",
              "      <td>-0.604680</td>\n",
              "      <td>-0.504235</td>\n",
              "      <td>-0.442228</td>\n",
              "      <td>-0.103701</td>\n",
              "      <td>-0.425101</td>\n",
              "      <td>-0.339960</td>\n",
              "      <td>-0.249205</td>\n",
              "      <td>-0.412101</td>\n",
              "      <td>-0.330718</td>\n",
              "      <td>-0.121260</td>\n",
              "      <td>-0.473610</td>\n",
              "      <td>-0.221898</td>\n",
              "      <td>-0.445567</td>\n",
              "      <td>-0.315318</td>\n",
              "      <td>-1.090314</td>\n",
              "      <td>-0.404402</td>\n",
              "      <td>-0.356656</td>\n",
              "      <td>-0.258395</td>\n",
              "      <td>-0.119093</td>\n",
              "      <td>4.775130</td>\n",
              "      <td>-0.317039</td>\n",
              "      <td>-0.157664</td>\n",
              "      <td>-0.124176</td>\n",
              "      <td>-0.728042</td>\n",
              "      <td>-0.282863</td>\n",
              "      <td>-0.221680</td>\n",
              "      <td>-0.444395</td>\n",
              "      <td>-0.327189</td>\n",
              "      <td>-0.221121</td>\n",
              "      <td>-0.357812</td>\n",
              "      <td>-0.177315</td>\n",
              "      <td>-0.184892</td>\n",
              "      <td>-0.390698</td>\n",
              "      <td>-0.146081</td>\n",
              "      <td>-0.286798</td>\n",
              "      <td>-0.412339</td>\n",
              "      <td>-0.318400</td>\n",
              "      <td>-0.371817</td>\n",
              "      <td>-0.964195</td>\n",
              "      <td>...</td>\n",
              "      <td>-0.098245</td>\n",
              "      <td>-0.309796</td>\n",
              "      <td>-0.272343</td>\n",
              "      <td>-1.405040</td>\n",
              "      <td>-0.187214</td>\n",
              "      <td>-0.236375</td>\n",
              "      <td>-0.031855</td>\n",
              "      <td>-0.739427</td>\n",
              "      <td>-0.392869</td>\n",
              "      <td>-0.328025</td>\n",
              "      <td>-0.149975</td>\n",
              "      <td>-0.545499</td>\n",
              "      <td>-0.278868</td>\n",
              "      <td>-0.161776</td>\n",
              "      <td>0.793728</td>\n",
              "      <td>-0.338451</td>\n",
              "      <td>-0.423338</td>\n",
              "      <td>3.398397</td>\n",
              "      <td>3.837188</td>\n",
              "      <td>-0.225741</td>\n",
              "      <td>1.171086</td>\n",
              "      <td>-0.853118</td>\n",
              "      <td>-0.181345</td>\n",
              "      <td>-0.174656</td>\n",
              "      <td>-0.144594</td>\n",
              "      <td>-0.321012</td>\n",
              "      <td>-0.257268</td>\n",
              "      <td>-0.392649</td>\n",
              "      <td>-1.322311</td>\n",
              "      <td>1.234960</td>\n",
              "      <td>0.850628</td>\n",
              "      <td>0.381848</td>\n",
              "      <td>0.458554</td>\n",
              "      <td>1.284652</td>\n",
              "      <td>0.757548</td>\n",
              "      <td>-2.598698</td>\n",
              "      <td>-0.015576</td>\n",
              "      <td>CD8 effector memory T-cell</td>\n",
              "      <td>T-cell</td>\n",
              "      <td>CD8 T-cell</td>\n",
              "    </tr>\n",
              "    <tr>\n",
              "      <th>GSM4143655_CCGGGATTCTACCAGA-2</th>\n",
              "      <td>-0.124044</td>\n",
              "      <td>-0.755008</td>\n",
              "      <td>-0.596920</td>\n",
              "      <td>-0.571494</td>\n",
              "      <td>-0.094010</td>\n",
              "      <td>-0.426885</td>\n",
              "      <td>-0.357217</td>\n",
              "      <td>-0.231042</td>\n",
              "      <td>-0.432728</td>\n",
              "      <td>-0.316848</td>\n",
              "      <td>-0.134548</td>\n",
              "      <td>-0.488330</td>\n",
              "      <td>-0.178900</td>\n",
              "      <td>-0.514463</td>\n",
              "      <td>-0.295380</td>\n",
              "      <td>0.896807</td>\n",
              "      <td>-0.425794</td>\n",
              "      <td>-0.362639</td>\n",
              "      <td>-0.285961</td>\n",
              "      <td>-0.118961</td>\n",
              "      <td>-0.312215</td>\n",
              "      <td>-0.351266</td>\n",
              "      <td>-0.141408</td>\n",
              "      <td>-0.105225</td>\n",
              "      <td>-0.794916</td>\n",
              "      <td>-0.267249</td>\n",
              "      <td>-0.193238</td>\n",
              "      <td>-0.425187</td>\n",
              "      <td>-0.333225</td>\n",
              "      <td>-0.233320</td>\n",
              "      <td>-0.345479</td>\n",
              "      <td>-0.191265</td>\n",
              "      <td>-0.188457</td>\n",
              "      <td>-0.380927</td>\n",
              "      <td>-0.139163</td>\n",
              "      <td>-0.287852</td>\n",
              "      <td>-0.415528</td>\n",
              "      <td>-0.341753</td>\n",
              "      <td>-0.339481</td>\n",
              "      <td>1.249052</td>\n",
              "      <td>...</td>\n",
              "      <td>-0.077890</td>\n",
              "      <td>-0.307268</td>\n",
              "      <td>-0.312375</td>\n",
              "      <td>1.051417</td>\n",
              "      <td>-0.185299</td>\n",
              "      <td>-0.238428</td>\n",
              "      <td>-0.033041</td>\n",
              "      <td>-0.833691</td>\n",
              "      <td>-0.439555</td>\n",
              "      <td>-0.343546</td>\n",
              "      <td>-0.127695</td>\n",
              "      <td>2.437956</td>\n",
              "      <td>-0.261175</td>\n",
              "      <td>4.382756</td>\n",
              "      <td>-1.277835</td>\n",
              "      <td>-0.399502</td>\n",
              "      <td>-0.510792</td>\n",
              "      <td>-0.436643</td>\n",
              "      <td>-0.422582</td>\n",
              "      <td>-0.244247</td>\n",
              "      <td>-0.873464</td>\n",
              "      <td>1.180602</td>\n",
              "      <td>-0.169597</td>\n",
              "      <td>-0.158458</td>\n",
              "      <td>-0.141976</td>\n",
              "      <td>-0.308257</td>\n",
              "      <td>-0.220758</td>\n",
              "      <td>3.579736</td>\n",
              "      <td>-3.214363</td>\n",
              "      <td>-0.142946</td>\n",
              "      <td>0.945928</td>\n",
              "      <td>1.772948</td>\n",
              "      <td>0.503938</td>\n",
              "      <td>-0.872040</td>\n",
              "      <td>-0.466063</td>\n",
              "      <td>0.887722</td>\n",
              "      <td>0.065105</td>\n",
              "      <td>CD8 T-cell (unspecified)</td>\n",
              "      <td>T-cell</td>\n",
              "      <td>CD8 T-cell</td>\n",
              "    </tr>\n",
              "    <tr>\n",
              "      <th>GSM4143657_CGAATGTAGAGCCTAG</th>\n",
              "      <td>-0.096913</td>\n",
              "      <td>1.311413</td>\n",
              "      <td>-0.358989</td>\n",
              "      <td>0.802298</td>\n",
              "      <td>-0.117326</td>\n",
              "      <td>-0.379667</td>\n",
              "      <td>-0.290580</td>\n",
              "      <td>-0.236730</td>\n",
              "      <td>-0.322928</td>\n",
              "      <td>-0.302283</td>\n",
              "      <td>-0.101962</td>\n",
              "      <td>-0.481266</td>\n",
              "      <td>-0.205666</td>\n",
              "      <td>-0.353486</td>\n",
              "      <td>-0.330180</td>\n",
              "      <td>-1.126939</td>\n",
              "      <td>1.778547</td>\n",
              "      <td>2.101355</td>\n",
              "      <td>-0.348070</td>\n",
              "      <td>-0.093501</td>\n",
              "      <td>-0.266935</td>\n",
              "      <td>1.792534</td>\n",
              "      <td>-0.222964</td>\n",
              "      <td>-0.166076</td>\n",
              "      <td>-0.689498</td>\n",
              "      <td>-0.297045</td>\n",
              "      <td>-0.316700</td>\n",
              "      <td>-0.396968</td>\n",
              "      <td>-0.494939</td>\n",
              "      <td>-0.210438</td>\n",
              "      <td>-0.345373</td>\n",
              "      <td>-0.176377</td>\n",
              "      <td>-0.194003</td>\n",
              "      <td>-0.405211</td>\n",
              "      <td>-0.121287</td>\n",
              "      <td>-0.306903</td>\n",
              "      <td>1.686422</td>\n",
              "      <td>-0.281933</td>\n",
              "      <td>-0.358402</td>\n",
              "      <td>-0.305790</td>\n",
              "      <td>...</td>\n",
              "      <td>-0.152295</td>\n",
              "      <td>-0.411966</td>\n",
              "      <td>-0.285689</td>\n",
              "      <td>-0.095814</td>\n",
              "      <td>-0.160479</td>\n",
              "      <td>-0.196167</td>\n",
              "      <td>-0.492336</td>\n",
              "      <td>-0.631893</td>\n",
              "      <td>-0.305707</td>\n",
              "      <td>-0.394605</td>\n",
              "      <td>-0.122268</td>\n",
              "      <td>-0.572069</td>\n",
              "      <td>-0.266259</td>\n",
              "      <td>-0.411910</td>\n",
              "      <td>-0.005568</td>\n",
              "      <td>1.804333</td>\n",
              "      <td>-0.376868</td>\n",
              "      <td>1.785804</td>\n",
              "      <td>-0.293121</td>\n",
              "      <td>-0.193485</td>\n",
              "      <td>0.049589</td>\n",
              "      <td>1.546430</td>\n",
              "      <td>4.524909</td>\n",
              "      <td>-0.201492</td>\n",
              "      <td>-0.171496</td>\n",
              "      <td>2.289642</td>\n",
              "      <td>3.335222</td>\n",
              "      <td>-0.350693</td>\n",
              "      <td>-0.632696</td>\n",
              "      <td>-0.555727</td>\n",
              "      <td>-0.385962</td>\n",
              "      <td>-0.161600</td>\n",
              "      <td>0.990495</td>\n",
              "      <td>-1.363653</td>\n",
              "      <td>0.636151</td>\n",
              "      <td>0.552661</td>\n",
              "      <td>0.082520</td>\n",
              "      <td>CD8 resident memory T-cell</td>\n",
              "      <td>T-cell</td>\n",
              "      <td>CD8 T-cell</td>\n",
              "    </tr>\n",
              "    <tr>\n",
              "      <th>GSM4143657_GATCGATGTGTAACGG</th>\n",
              "      <td>-0.109905</td>\n",
              "      <td>-0.584470</td>\n",
              "      <td>-0.429646</td>\n",
              "      <td>-0.404012</td>\n",
              "      <td>-0.107612</td>\n",
              "      <td>1.351830</td>\n",
              "      <td>-0.311605</td>\n",
              "      <td>-0.234214</td>\n",
              "      <td>-0.309260</td>\n",
              "      <td>-0.270320</td>\n",
              "      <td>5.356299</td>\n",
              "      <td>-0.507400</td>\n",
              "      <td>-0.313438</td>\n",
              "      <td>-0.411406</td>\n",
              "      <td>-0.313331</td>\n",
              "      <td>0.135950</td>\n",
              "      <td>-0.362452</td>\n",
              "      <td>1.651075</td>\n",
              "      <td>-0.425395</td>\n",
              "      <td>-0.102773</td>\n",
              "      <td>-0.289856</td>\n",
              "      <td>-0.442113</td>\n",
              "      <td>-0.215009</td>\n",
              "      <td>-0.155693</td>\n",
              "      <td>0.292479</td>\n",
              "      <td>-0.286744</td>\n",
              "      <td>-0.328666</td>\n",
              "      <td>2.148372</td>\n",
              "      <td>-0.537075</td>\n",
              "      <td>-0.209545</td>\n",
              "      <td>-0.348100</td>\n",
              "      <td>-0.179780</td>\n",
              "      <td>-0.200064</td>\n",
              "      <td>-0.391681</td>\n",
              "      <td>-0.126557</td>\n",
              "      <td>1.935838</td>\n",
              "      <td>-0.430551</td>\n",
              "      <td>-0.279257</td>\n",
              "      <td>-0.368756</td>\n",
              "      <td>1.011692</td>\n",
              "      <td>...</td>\n",
              "      <td>-0.172663</td>\n",
              "      <td>-0.398408</td>\n",
              "      <td>-0.301459</td>\n",
              "      <td>-1.252185</td>\n",
              "      <td>-0.177236</td>\n",
              "      <td>-0.191079</td>\n",
              "      <td>-0.561609</td>\n",
              "      <td>-0.724013</td>\n",
              "      <td>-0.286339</td>\n",
              "      <td>1.468003</td>\n",
              "      <td>-0.156894</td>\n",
              "      <td>0.755054</td>\n",
              "      <td>-0.250706</td>\n",
              "      <td>1.703467</td>\n",
              "      <td>-1.277634</td>\n",
              "      <td>-0.361233</td>\n",
              "      <td>-0.447984</td>\n",
              "      <td>-0.383809</td>\n",
              "      <td>-0.337331</td>\n",
              "      <td>-0.202916</td>\n",
              "      <td>-1.141994</td>\n",
              "      <td>-1.060618</td>\n",
              "      <td>-0.153561</td>\n",
              "      <td>-0.212510</td>\n",
              "      <td>-0.174248</td>\n",
              "      <td>-0.318278</td>\n",
              "      <td>-0.203942</td>\n",
              "      <td>-0.342103</td>\n",
              "      <td>-0.047831</td>\n",
              "      <td>-0.011760</td>\n",
              "      <td>-0.530874</td>\n",
              "      <td>-0.073536</td>\n",
              "      <td>0.540572</td>\n",
              "      <td>-0.349338</td>\n",
              "      <td>1.037495</td>\n",
              "      <td>-0.207295</td>\n",
              "      <td>0.933198</td>\n",
              "      <td>CD4 helper T-cell (unspecified)</td>\n",
              "      <td>T-cell</td>\n",
              "      <td>CD4 T-cell</td>\n",
              "    </tr>\n",
              "  </tbody>\n",
              "</table>\n",
              "<p>5 rows × 3003 columns</p>\n",
              "</div>"
            ],
            "text/plain": [
              "                                PLEKHN1     ISG15  ...   cell_type  cell_type_2\n",
              "Unnamed: 0                                         ...                         \n",
              "GSM4143684_CACCTTGTCGATCCCT   -0.071988 -0.265577  ...  macrophage   macrophage\n",
              "ERS3566166_GTCACGGTCCGGCACA   -0.106635 -0.604680  ...      T-cell   CD8 T-cell\n",
              "GSM4143655_CCGGGATTCTACCAGA-2 -0.124044 -0.755008  ...      T-cell   CD8 T-cell\n",
              "GSM4143657_CGAATGTAGAGCCTAG   -0.096913  1.311413  ...      T-cell   CD8 T-cell\n",
              "GSM4143657_GATCGATGTGTAACGG   -0.109905 -0.584470  ...      T-cell   CD4 T-cell\n",
              "\n",
              "[5 rows x 3003 columns]"
            ]
          },
          "metadata": {},
          "execution_count": 6
        }
      ]
    },
    {
      "cell_type": "markdown",
      "metadata": {
        "id": "rXYYw-irbOXb"
      },
      "source": [
        "# 3. B Cells"
      ]
    },
    {
      "cell_type": "code",
      "metadata": {
        "id": "GjjEAM9WTOQq"
      },
      "source": [
        "df = data[data['cell_type'] == 'B-cell']"
      ],
      "execution_count": 7,
      "outputs": []
    },
    {
      "cell_type": "code",
      "metadata": {
        "colab": {
          "base_uri": "https://localhost:8080/",
          "height": 175
        },
        "id": "cGUj4GQtp8VH",
        "outputId": "0ae11d05-ec7c-422d-eb8a-f851cc1f1b5f"
      },
      "source": [
        "count_celltype = pd.concat([pd.DataFrame({'count': df['cell_state'].value_counts()}), pd.DataFrame({'percentage': df['cell_state'].value_counts(normalize=True)})], axis=1)\n",
        "count_celltype"
      ],
      "execution_count": 8,
      "outputs": [
        {
          "output_type": "execute_result",
          "data": {
            "text/html": [
              "<div>\n",
              "<style scoped>\n",
              "    .dataframe tbody tr th:only-of-type {\n",
              "        vertical-align: middle;\n",
              "    }\n",
              "\n",
              "    .dataframe tbody tr th {\n",
              "        vertical-align: top;\n",
              "    }\n",
              "\n",
              "    .dataframe thead th {\n",
              "        text-align: right;\n",
              "    }\n",
              "</style>\n",
              "<table border=\"1\" class=\"dataframe\">\n",
              "  <thead>\n",
              "    <tr style=\"text-align: right;\">\n",
              "      <th></th>\n",
              "      <th>count</th>\n",
              "      <th>percentage</th>\n",
              "    </tr>\n",
              "  </thead>\n",
              "  <tbody>\n",
              "    <tr>\n",
              "      <th>B-cell (unspecified)</th>\n",
              "      <td>400</td>\n",
              "      <td>0.750469</td>\n",
              "    </tr>\n",
              "    <tr>\n",
              "      <th>GC-dependent memory B-cell</th>\n",
              "      <td>70</td>\n",
              "      <td>0.131332</td>\n",
              "    </tr>\n",
              "    <tr>\n",
              "      <th>naive B-cell</th>\n",
              "      <td>59</td>\n",
              "      <td>0.110694</td>\n",
              "    </tr>\n",
              "    <tr>\n",
              "      <th>GC-independent memory B-cell</th>\n",
              "      <td>4</td>\n",
              "      <td>0.007505</td>\n",
              "    </tr>\n",
              "  </tbody>\n",
              "</table>\n",
              "</div>"
            ],
            "text/plain": [
              "                              count  percentage\n",
              "B-cell (unspecified)            400    0.750469\n",
              "GC-dependent memory B-cell       70    0.131332\n",
              "naive B-cell                     59    0.110694\n",
              "GC-independent memory B-cell      4    0.007505"
            ]
          },
          "metadata": {},
          "execution_count": 8
        }
      ]
    },
    {
      "cell_type": "markdown",
      "metadata": {
        "id": "VR4gipKsC-bO"
      },
      "source": [
        "## Split Data"
      ]
    },
    {
      "cell_type": "code",
      "metadata": {
        "id": "eo5-dtebCymu"
      },
      "source": [
        "X = df.drop(columns=['cell_state', 'cell_type', 'cell_type_2'])\n",
        "y = df['cell_state']"
      ],
      "execution_count": 9,
      "outputs": []
    },
    {
      "cell_type": "code",
      "metadata": {
        "id": "UVXOhe-hEY_V"
      },
      "source": [
        "from sklearn.model_selection import train_test_split\n",
        "\n",
        "X_train, X_test, y_train, y_test = train_test_split(X, y, test_size=0.2, random_state=42, stratify=y)"
      ],
      "execution_count": null,
      "outputs": []
    },
    {
      "cell_type": "markdown",
      "metadata": {
        "id": "aqyD6r1sqFka"
      },
      "source": [
        "## train model"
      ]
    },
    {
      "cell_type": "code",
      "metadata": {
        "id": "T4jZwUU8qFka"
      },
      "source": [
        "from sklearn.linear_model import LogisticRegression"
      ],
      "execution_count": null,
      "outputs": []
    },
    {
      "cell_type": "code",
      "metadata": {
        "colab": {
          "base_uri": "https://localhost:8080/"
        },
        "id": "8JCRDPdwqFka",
        "outputId": "48db6ac2-a685-4811-c09c-f1495a444265"
      },
      "source": [
        "lr = LogisticRegression(max_iter=10000)\n",
        "lr.fit(X_train, y_train) # takes about 40min"
      ],
      "execution_count": null,
      "outputs": [
        {
          "output_type": "execute_result",
          "data": {
            "text/plain": [
              "LogisticRegression(max_iter=10000)"
            ]
          },
          "metadata": {},
          "execution_count": 32
        }
      ]
    },
    {
      "cell_type": "code",
      "metadata": {
        "colab": {
          "base_uri": "https://localhost:8080/"
        },
        "id": "iPITjWIBqFka",
        "outputId": "9c3a2d3d-9ce0-4d90-df42-8a90191e13c7"
      },
      "source": [
        "from sklearn.model_selection import cross_val_score\n",
        "lr_scores = cross_val_score(lr, X_train, y_train, cv=5, scoring='f1_weighted')\n",
        "lr_scores"
      ],
      "execution_count": null,
      "outputs": [
        {
          "output_type": "stream",
          "name": "stderr",
          "text": [
            "/usr/local/lib/python3.7/dist-packages/sklearn/model_selection/_split.py:680: UserWarning: The least populated class in y has only 3 members, which is less than n_splits=5.\n",
            "  UserWarning,\n"
          ]
        },
        {
          "output_type": "execute_result",
          "data": {
            "text/plain": [
              "array([0.66838412, 0.74389478, 0.7239035 , 0.66828594, 0.75384668])"
            ]
          },
          "metadata": {},
          "execution_count": 33
        }
      ]
    },
    {
      "cell_type": "code",
      "metadata": {
        "colab": {
          "base_uri": "https://localhost:8080/"
        },
        "id": "4iJT39WPqFka",
        "outputId": "052aa68a-782f-4bd2-9b9a-1da472dba043"
      },
      "source": [
        "# save the model to disk\n",
        "import joblib\n",
        "filename = 'lr_model_b_cells_unbalanced.sav'\n",
        "joblib.dump(lr, filename)"
      ],
      "execution_count": null,
      "outputs": [
        {
          "output_type": "execute_result",
          "data": {
            "text/plain": [
              "['lr_model_b_cells_unbalanced.sav']"
            ]
          },
          "metadata": {},
          "execution_count": 34
        }
      ]
    },
    {
      "cell_type": "markdown",
      "metadata": {
        "id": "eRijwWzJqFka"
      },
      "source": [
        "## evaluate model"
      ]
    },
    {
      "cell_type": "code",
      "metadata": {
        "id": "OoUphdOBqFkb"
      },
      "source": [
        "from sklearn.metrics import classification_report\n",
        "from sklearn.metrics import confusion_matrix\n",
        "from sklearn import metrics"
      ],
      "execution_count": null,
      "outputs": []
    },
    {
      "cell_type": "code",
      "metadata": {
        "id": "HbYd0M9kqFkb"
      },
      "source": [
        "# # load model\n",
        "# import joblib\n",
        "# filename = '/content/gdrive/MyDrive/Idorsia Capstone Project/models/lr_model_t_cells.sav'\n",
        "# lr = joblib.load(filename)\n",
        "# # result = clf.score(X_test, y_test)\n",
        "# # print(result)"
      ],
      "execution_count": null,
      "outputs": []
    },
    {
      "cell_type": "code",
      "metadata": {
        "colab": {
          "base_uri": "https://localhost:8080/"
        },
        "id": "70aK5pBLqFkb",
        "outputId": "fbe466b1-ac8a-4769-8465-a8b279aeb2be"
      },
      "source": [
        "# Prediction on test set\n",
        "y_pred = lr.predict(X_test)\n",
        "\n",
        "# Calculating the accuracy and F1\n",
        "acc_lr = round( metrics.accuracy_score(y_test, y_pred) * 100, 2 )\n",
        "f1_lr = round(metrics.f1_score(y_test, y_pred, average='weighted') * 100, 2)\n",
        "f1_lr_macro = round(metrics.f1_score(y_test, y_pred, average='macro') * 100, 2)\n",
        "print('Accuracy of logistic regression model : ', acc_lr)\n",
        "print('F1 of logistic regression model : ', f1_lr)\n",
        "print('F1 macro of logistic regression model : ', f1_lr_macro)"
      ],
      "execution_count": null,
      "outputs": [
        {
          "output_type": "stream",
          "name": "stdout",
          "text": [
            "Accuracy of logistic regression model :  71.96\n",
            "F1 of logistic regression model :  68.57\n",
            "F1 macro of logistic regression model :  33.07\n"
          ]
        }
      ]
    },
    {
      "cell_type": "code",
      "metadata": {
        "colab": {
          "base_uri": "https://localhost:8080/"
        },
        "id": "nQ06tshZqFkb",
        "outputId": "8e8f224d-aed2-4a42-c99f-cbc5b214b1fe"
      },
      "source": [
        "report = classification_report(y_test, y_pred)\n",
        "print(report)"
      ],
      "execution_count": null,
      "outputs": [
        {
          "output_type": "stream",
          "name": "stdout",
          "text": [
            "                              precision    recall  f1-score   support\n",
            "\n",
            "        B-cell (unspecified)       0.79      0.89      0.84        80\n",
            "  GC-dependent memory B-cell       0.33      0.36      0.34        14\n",
            "GC-independent memory B-cell       0.00      0.00      0.00         1\n",
            "                naive B-cell       0.50      0.08      0.14        12\n",
            "\n",
            "                    accuracy                           0.72       107\n",
            "                   macro avg       0.41      0.33      0.33       107\n",
            "                weighted avg       0.69      0.72      0.69       107\n",
            "\n"
          ]
        },
        {
          "output_type": "stream",
          "name": "stderr",
          "text": [
            "/usr/local/lib/python3.7/dist-packages/sklearn/metrics/_classification.py:1308: UndefinedMetricWarning: Precision and F-score are ill-defined and being set to 0.0 in labels with no predicted samples. Use `zero_division` parameter to control this behavior.\n",
            "  _warn_prf(average, modifier, msg_start, len(result))\n",
            "/usr/local/lib/python3.7/dist-packages/sklearn/metrics/_classification.py:1308: UndefinedMetricWarning: Precision and F-score are ill-defined and being set to 0.0 in labels with no predicted samples. Use `zero_division` parameter to control this behavior.\n",
            "  _warn_prf(average, modifier, msg_start, len(result))\n",
            "/usr/local/lib/python3.7/dist-packages/sklearn/metrics/_classification.py:1308: UndefinedMetricWarning: Precision and F-score are ill-defined and being set to 0.0 in labels with no predicted samples. Use `zero_division` parameter to control this behavior.\n",
            "  _warn_prf(average, modifier, msg_start, len(result))\n"
          ]
        }
      ]
    },
    {
      "cell_type": "code",
      "metadata": {
        "colab": {
          "base_uri": "https://localhost:8080/"
        },
        "id": "e32RMQ5RqFkb",
        "outputId": "2956fdb8-4265-486a-f8b7-87839cce4272"
      },
      "source": [
        "cm = confusion_matrix(y_test, y_pred)\n",
        "cm"
      ],
      "execution_count": null,
      "outputs": [
        {
          "output_type": "execute_result",
          "data": {
            "text/plain": [
              "array([[71,  8,  0,  1],\n",
              "       [ 9,  5,  0,  0],\n",
              "       [ 0,  1,  0,  0],\n",
              "       [10,  1,  0,  1]])"
            ]
          },
          "metadata": {},
          "execution_count": 39
        }
      ]
    },
    {
      "cell_type": "code",
      "metadata": {
        "colab": {
          "base_uri": "https://localhost:8080/",
          "height": 660
        },
        "id": "uKznmHhcqFkb",
        "outputId": "f87752ed-1efb-4c4b-9adc-56b7af722b92"
      },
      "source": [
        "fig, ax= plt.subplots(figsize=(10,8))\n",
        "sns.heatmap(cm, annot=True, fmt='g', ax=ax);  #annot=True to annotate cells, ftm='g' to disable scientific notation\n",
        "\n",
        "# labels, title and ticks\n",
        "ax.set_xlabel('Predicted labels');ax.set_ylabel('True labels'); \n",
        "ax.xaxis.set_ticklabels(np.unique(y_train)); ax.yaxis.set_ticklabels(np.unique(y_train));\n",
        "plt.xticks(rotation=90)\n",
        "plt.yticks(rotation=0)\n",
        "ax.set_title('Confusion Matrix lr'); \n",
        "plt.show()"
      ],
      "execution_count": null,
      "outputs": [
        {
          "output_type": "display_data",
          "data": {
            "image/png": "[encoded data removed]",
            "text/plain": [
              "<Figure size 720x576 with 2 Axes>"
            ]
          },
          "metadata": {
            "needs_background": "light"
          }
        }
      ]
    },
    {
      "cell_type": "markdown",
      "metadata": {
        "id": "Ha2X6fiTbiSj"
      },
      "source": [
        "# 4. Dendritic Cells"
      ]
    },
    {
      "cell_type": "code",
      "metadata": {
        "id": "lSxGwZHwcDai"
      },
      "source": [
        "df = data[data['cell_type'] == 'dendritic cell']"
      ],
      "execution_count": 10,
      "outputs": []
    },
    {
      "cell_type": "code",
      "metadata": {
        "colab": {
          "base_uri": "https://localhost:8080/",
          "height": 206
        },
        "id": "PEXUbbdPcDai",
        "outputId": "aff35fc0-8b1d-4c6f-f08a-3ef137b088f5"
      },
      "source": [
        "count_celltype = pd.concat([pd.DataFrame({'count': df['cell_state'].value_counts()}), pd.DataFrame({'percentage': df['cell_state'].value_counts(normalize=True)})], axis=1)\n",
        "count_celltype"
      ],
      "execution_count": 11,
      "outputs": [
        {
          "output_type": "execute_result",
          "data": {
            "text/html": [
              "<div>\n",
              "<style scoped>\n",
              "    .dataframe tbody tr th:only-of-type {\n",
              "        vertical-align: middle;\n",
              "    }\n",
              "\n",
              "    .dataframe tbody tr th {\n",
              "        vertical-align: top;\n",
              "    }\n",
              "\n",
              "    .dataframe thead th {\n",
              "        text-align: right;\n",
              "    }\n",
              "</style>\n",
              "<table border=\"1\" class=\"dataframe\">\n",
              "  <thead>\n",
              "    <tr style=\"text-align: right;\">\n",
              "      <th></th>\n",
              "      <th>count</th>\n",
              "      <th>percentage</th>\n",
              "    </tr>\n",
              "  </thead>\n",
              "  <tbody>\n",
              "    <tr>\n",
              "      <th>conventional dendritic cell</th>\n",
              "      <td>47</td>\n",
              "      <td>0.391667</td>\n",
              "    </tr>\n",
              "    <tr>\n",
              "      <th>conventional dendritic cell 2</th>\n",
              "      <td>26</td>\n",
              "      <td>0.216667</td>\n",
              "    </tr>\n",
              "    <tr>\n",
              "      <th>plasmacytoid dendritic cell</th>\n",
              "      <td>24</td>\n",
              "      <td>0.200000</td>\n",
              "    </tr>\n",
              "    <tr>\n",
              "      <th>dendritic cell</th>\n",
              "      <td>20</td>\n",
              "      <td>0.166667</td>\n",
              "    </tr>\n",
              "    <tr>\n",
              "      <th>conventional dendritic cell 1</th>\n",
              "      <td>3</td>\n",
              "      <td>0.025000</td>\n",
              "    </tr>\n",
              "  </tbody>\n",
              "</table>\n",
              "</div>"
            ],
            "text/plain": [
              "                               count  percentage\n",
              "conventional dendritic cell       47    0.391667\n",
              "conventional dendritic cell 2     26    0.216667\n",
              "plasmacytoid dendritic cell       24    0.200000\n",
              "dendritic cell                    20    0.166667\n",
              "conventional dendritic cell 1      3    0.025000"
            ]
          },
          "metadata": {},
          "execution_count": 11
        }
      ]
    },
    {
      "cell_type": "markdown",
      "metadata": {
        "id": "Z_SKtwIfcDai"
      },
      "source": [
        "## split data"
      ]
    },
    {
      "cell_type": "code",
      "metadata": {
        "id": "milBzqKHcDaj"
      },
      "source": [
        "X = df.drop(columns=['cell_state', 'cell_type', 'cell_type_2'])\n",
        "y = df['cell_state']"
      ],
      "execution_count": 12,
      "outputs": []
    },
    {
      "cell_type": "code",
      "metadata": {
        "id": "V65gmfl-cDaj"
      },
      "source": [
        "from sklearn.model_selection import train_test_split\n",
        "\n",
        "X_train, X_test, y_train, y_test = train_test_split(X, y, test_size=0.2, random_state=42, stratify=y)"
      ],
      "execution_count": null,
      "outputs": []
    },
    {
      "cell_type": "markdown",
      "metadata": {
        "id": "ZndEloDKztvY"
      },
      "source": [
        "## train model"
      ]
    },
    {
      "cell_type": "code",
      "metadata": {
        "id": "a_Ostv8_ztvZ"
      },
      "source": [
        "from sklearn.linear_model import LogisticRegression"
      ],
      "execution_count": null,
      "outputs": []
    },
    {
      "cell_type": "code",
      "metadata": {
        "colab": {
          "base_uri": "https://localhost:8080/"
        },
        "id": "OFDoKxJxztvZ",
        "outputId": "0c305c3c-f6c1-464d-fc17-e3567db3d2ec"
      },
      "source": [
        "lr = LogisticRegression(max_iter=10000)\n",
        "lr.fit(X_train, y_train) # takes about 1min"
      ],
      "execution_count": null,
      "outputs": [
        {
          "output_type": "execute_result",
          "data": {
            "text/plain": [
              "LogisticRegression(max_iter=10000)"
            ]
          },
          "metadata": {},
          "execution_count": 32
        }
      ]
    },
    {
      "cell_type": "code",
      "metadata": {
        "id": "FqwPvA8vztvZ",
        "colab": {
          "base_uri": "https://localhost:8080/"
        },
        "outputId": "b8a7280a-01b0-49fa-fe8e-03aba016f44e"
      },
      "source": [
        "from sklearn.model_selection import cross_val_score\n",
        "lr_scores = cross_val_score(lr, X_train, y_train, cv=5, scoring='f1_weighted')\n",
        "lr_scores"
      ],
      "execution_count": null,
      "outputs": [
        {
          "output_type": "stream",
          "name": "stderr",
          "text": [
            "/usr/local/lib/python3.7/dist-packages/sklearn/model_selection/_split.py:680: UserWarning: The least populated class in y has only 2 members, which is less than n_splits=5.\n",
            "  UserWarning,\n"
          ]
        },
        {
          "output_type": "execute_result",
          "data": {
            "text/plain": [
              "array([0.83109244, 0.94365325, 1.        , 0.94800638, 0.76992481])"
            ]
          },
          "metadata": {},
          "execution_count": 33
        }
      ]
    },
    {
      "cell_type": "code",
      "metadata": {
        "colab": {
          "base_uri": "https://localhost:8080/"
        },
        "id": "-BUN72MAztvZ",
        "outputId": "4f9f6819-1dbd-4e94-fb39-300f547e6501"
      },
      "source": [
        "# save the model to disk\n",
        "import joblib\n",
        "filename = 'lr_model_dendritic_cells_unbalanced.sav'\n",
        "joblib.dump(lr, filename)"
      ],
      "execution_count": null,
      "outputs": [
        {
          "output_type": "execute_result",
          "data": {
            "text/plain": [
              "['lr_model_dendritic_cells_unbalanced.sav']"
            ]
          },
          "metadata": {},
          "execution_count": 34
        }
      ]
    },
    {
      "cell_type": "markdown",
      "metadata": {
        "id": "Pq7__9l2ztva"
      },
      "source": [
        "## evaluate model"
      ]
    },
    {
      "cell_type": "code",
      "metadata": {
        "id": "BzsEC_qVztva"
      },
      "source": [
        "from sklearn.metrics import classification_report\n",
        "from sklearn.metrics import confusion_matrix\n",
        "from sklearn import metrics"
      ],
      "execution_count": null,
      "outputs": []
    },
    {
      "cell_type": "code",
      "metadata": {
        "id": "7dVTFCaQztvb"
      },
      "source": [
        "# # load model\n",
        "# import joblib\n",
        "# filename = '/content/gdrive/MyDrive/Idorsia Capstone Project/models/lr_model_t_cells.sav'\n",
        "# lr = joblib.load(filename)\n",
        "# # result = clf.score(X_test, y_test)\n",
        "# # print(result)"
      ],
      "execution_count": null,
      "outputs": []
    },
    {
      "cell_type": "code",
      "metadata": {
        "colab": {
          "base_uri": "https://localhost:8080/"
        },
        "id": "rNJIAhhnztvb",
        "outputId": "ea92cb37-b253-4e6e-c6d0-9ba22a015d2b"
      },
      "source": [
        "# Prediction on test set\n",
        "y_pred = lr.predict(X_test)\n",
        "\n",
        "# Calculating the accuracy and F1\n",
        "acc_lr = round( metrics.accuracy_score(y_test, y_pred) * 100, 2 )\n",
        "f1_lr = round(metrics.f1_score(y_test, y_pred, average='weighted') * 100, 2)\n",
        "f1_lr_macro = round(metrics.f1_score(y_test, y_pred, average='macro') * 100, 2)\n",
        "print('Accuracy of logistic regression model : ', acc_lr)\n",
        "print('F1 of logistic regression model : ', f1_lr)\n",
        "print('F1 macro of logistic regression model : ', f1_lr_macro)"
      ],
      "execution_count": null,
      "outputs": [
        {
          "output_type": "stream",
          "name": "stdout",
          "text": [
            "Accuracy of logistic regression model :  87.5\n",
            "F1 of logistic regression model :  85.75\n",
            "F1 macro of logistic regression model :  71.84\n"
          ]
        }
      ]
    },
    {
      "cell_type": "code",
      "metadata": {
        "colab": {
          "base_uri": "https://localhost:8080/"
        },
        "id": "tUYkBV3Yztvb",
        "outputId": "a388dada-7219-4421-d4c9-c6e386eb1b42"
      },
      "source": [
        "report = classification_report(y_test, y_pred)\n",
        "print(report)"
      ],
      "execution_count": null,
      "outputs": [
        {
          "output_type": "stream",
          "name": "stdout",
          "text": [
            "                               precision    recall  f1-score   support\n",
            "\n",
            "  conventional dendritic cell       0.80      0.89      0.84         9\n",
            "conventional dendritic cell 1       0.00      0.00      0.00         1\n",
            "conventional dendritic cell 2       1.00      1.00      1.00         5\n",
            "               dendritic cell       0.75      0.75      0.75         4\n",
            "  plasmacytoid dendritic cell       1.00      1.00      1.00         5\n",
            "\n",
            "                     accuracy                           0.88        24\n",
            "                    macro avg       0.71      0.73      0.72        24\n",
            "                 weighted avg       0.84      0.88      0.86        24\n",
            "\n"
          ]
        },
        {
          "output_type": "stream",
          "name": "stderr",
          "text": [
            "/usr/local/lib/python3.7/dist-packages/sklearn/metrics/_classification.py:1308: UndefinedMetricWarning: Precision and F-score are ill-defined and being set to 0.0 in labels with no predicted samples. Use `zero_division` parameter to control this behavior.\n",
            "  _warn_prf(average, modifier, msg_start, len(result))\n",
            "/usr/local/lib/python3.7/dist-packages/sklearn/metrics/_classification.py:1308: UndefinedMetricWarning: Precision and F-score are ill-defined and being set to 0.0 in labels with no predicted samples. Use `zero_division` parameter to control this behavior.\n",
            "  _warn_prf(average, modifier, msg_start, len(result))\n",
            "/usr/local/lib/python3.7/dist-packages/sklearn/metrics/_classification.py:1308: UndefinedMetricWarning: Precision and F-score are ill-defined and being set to 0.0 in labels with no predicted samples. Use `zero_division` parameter to control this behavior.\n",
            "  _warn_prf(average, modifier, msg_start, len(result))\n"
          ]
        }
      ]
    },
    {
      "cell_type": "code",
      "metadata": {
        "colab": {
          "base_uri": "https://localhost:8080/"
        },
        "id": "hNBhtEM8ztvc",
        "outputId": "206b8ca4-34f5-4c9b-e593-3eacbcad8541"
      },
      "source": [
        "cm = confusion_matrix(y_test, y_pred)\n",
        "cm"
      ],
      "execution_count": null,
      "outputs": [
        {
          "output_type": "execute_result",
          "data": {
            "text/plain": [
              "array([[8, 0, 0, 1, 0],\n",
              "       [1, 0, 0, 0, 0],\n",
              "       [0, 0, 5, 0, 0],\n",
              "       [1, 0, 0, 3, 0],\n",
              "       [0, 0, 0, 0, 5]])"
            ]
          },
          "metadata": {},
          "execution_count": 39
        }
      ]
    },
    {
      "cell_type": "code",
      "metadata": {
        "colab": {
          "base_uri": "https://localhost:8080/",
          "height": 645
        },
        "id": "NH6JwIu1ztvc",
        "outputId": "db470afd-23df-41db-d065-bc9a0195ee29"
      },
      "source": [
        "fig, ax= plt.subplots(figsize=(10,8))\n",
        "sns.heatmap(cm, annot=True, fmt='g', ax=ax);  #annot=True to annotate cells, ftm='g' to disable scientific notation\n",
        "\n",
        "# labels, title and ticks\n",
        "ax.set_xlabel('Predicted labels');ax.set_ylabel('True labels'); \n",
        "ax.xaxis.set_ticklabels(np.unique(y_train)); ax.yaxis.set_ticklabels(np.unique(y_train));\n",
        "plt.xticks(rotation=90)\n",
        "plt.yticks(rotation=0)\n",
        "ax.set_title('Confusion Matrix lr'); \n",
        "plt.show()"
      ],
      "execution_count": null,
      "outputs": [
        {
          "output_type": "display_data",
          "data": {
            "image/png": "[encoded data removed]",
            "text/plain": [
              "<Figure size 720x576 with 2 Axes>"
            ]
          },
          "metadata": {
            "needs_background": "light"
          }
        }
      ]
    },
    {
      "cell_type": "markdown",
      "metadata": {
        "id": "JAX8VEDiboNi"
      },
      "source": [
        "# 5. Macrophages"
      ]
    },
    {
      "cell_type": "code",
      "metadata": {
        "id": "r7HwANWqcckl"
      },
      "source": [
        "df = data[data['cell_type'] == 'macrophage']"
      ],
      "execution_count": 13,
      "outputs": []
    },
    {
      "cell_type": "code",
      "metadata": {
        "colab": {
          "base_uri": "https://localhost:8080/",
          "height": 175
        },
        "id": "I7ldVSrXcckl",
        "outputId": "cc402256-329e-4660-9442-dceb34856a53"
      },
      "source": [
        "count_celltype = pd.concat([pd.DataFrame({'count': df['cell_state'].value_counts()}), pd.DataFrame({'percentage': df['cell_state'].value_counts(normalize=True)})], axis=1)\n",
        "count_celltype"
      ],
      "execution_count": 14,
      "outputs": [
        {
          "output_type": "execute_result",
          "data": {
            "text/html": [
              "<div>\n",
              "<style scoped>\n",
              "    .dataframe tbody tr th:only-of-type {\n",
              "        vertical-align: middle;\n",
              "    }\n",
              "\n",
              "    .dataframe tbody tr th {\n",
              "        vertical-align: top;\n",
              "    }\n",
              "\n",
              "    .dataframe thead th {\n",
              "        text-align: right;\n",
              "    }\n",
              "</style>\n",
              "<table border=\"1\" class=\"dataframe\">\n",
              "  <thead>\n",
              "    <tr style=\"text-align: right;\">\n",
              "      <th></th>\n",
              "      <th>count</th>\n",
              "      <th>percentage</th>\n",
              "    </tr>\n",
              "  </thead>\n",
              "  <tbody>\n",
              "    <tr>\n",
              "      <th>macrophage</th>\n",
              "      <td>328</td>\n",
              "      <td>0.714597</td>\n",
              "    </tr>\n",
              "    <tr>\n",
              "      <th>M2 macrophage</th>\n",
              "      <td>103</td>\n",
              "      <td>0.224401</td>\n",
              "    </tr>\n",
              "    <tr>\n",
              "      <th>M1 macrophage</th>\n",
              "      <td>14</td>\n",
              "      <td>0.030501</td>\n",
              "    </tr>\n",
              "    <tr>\n",
              "      <th>perivascular M2 macrophage</th>\n",
              "      <td>14</td>\n",
              "      <td>0.030501</td>\n",
              "    </tr>\n",
              "  </tbody>\n",
              "</table>\n",
              "</div>"
            ],
            "text/plain": [
              "                            count  percentage\n",
              "macrophage                    328    0.714597\n",
              "M2 macrophage                 103    0.224401\n",
              "M1 macrophage                  14    0.030501\n",
              "perivascular M2 macrophage     14    0.030501"
            ]
          },
          "metadata": {},
          "execution_count": 14
        }
      ]
    },
    {
      "cell_type": "markdown",
      "metadata": {
        "id": "PKfB7ntAcckm"
      },
      "source": [
        "## split data"
      ]
    },
    {
      "cell_type": "code",
      "metadata": {
        "id": "f9d1_yyAcckm"
      },
      "source": [
        "X = df.drop(columns=['cell_state', 'cell_type', 'cell_type_2'])\n",
        "y = df['cell_state']"
      ],
      "execution_count": 15,
      "outputs": []
    },
    {
      "cell_type": "code",
      "metadata": {
        "id": "QOlhd-nQcckm"
      },
      "source": [
        "from sklearn.model_selection import train_test_split\n",
        "\n",
        "X_train, X_test, y_train, y_test = train_test_split(X, y, test_size=0.2, random_state=42, stratify=y)"
      ],
      "execution_count": null,
      "outputs": []
    },
    {
      "cell_type": "markdown",
      "metadata": {
        "id": "XNrVaR-jqmr4"
      },
      "source": [
        "## train model"
      ]
    },
    {
      "cell_type": "code",
      "metadata": {
        "id": "fSnt8RD9qmr4"
      },
      "source": [
        "from sklearn.linear_model import LogisticRegression"
      ],
      "execution_count": null,
      "outputs": []
    },
    {
      "cell_type": "code",
      "metadata": {
        "colab": {
          "base_uri": "https://localhost:8080/"
        },
        "id": "50PF9FJGqmr4",
        "outputId": "e9927c7c-2411-4429-b671-ca84d3342416"
      },
      "source": [
        "lr = LogisticRegression(max_iter=10000)\n",
        "lr.fit(X_train, y_train) # takes about 3min"
      ],
      "execution_count": null,
      "outputs": [
        {
          "output_type": "execute_result",
          "data": {
            "text/plain": [
              "LogisticRegression(max_iter=10000)"
            ]
          },
          "metadata": {},
          "execution_count": 37
        }
      ]
    },
    {
      "cell_type": "code",
      "metadata": {
        "colab": {
          "base_uri": "https://localhost:8080/"
        },
        "id": "tSu3MoiHqmr5",
        "outputId": "b1e3eae4-53a4-41ee-f634-a4feddca7f0d"
      },
      "source": [
        "from sklearn.model_selection import cross_val_score\n",
        "lr_scores = cross_val_score(lr, X_train, y_train, cv=5, scoring='f1_weighted')\n",
        "lr_scores"
      ],
      "execution_count": null,
      "outputs": [
        {
          "output_type": "execute_result",
          "data": {
            "text/plain": [
              "array([0.80571211, 0.77547924, 0.79472291, 0.6992528 , 0.78016812])"
            ]
          },
          "metadata": {},
          "execution_count": 38
        }
      ]
    },
    {
      "cell_type": "code",
      "metadata": {
        "colab": {
          "base_uri": "https://localhost:8080/"
        },
        "id": "5xpoFXmMqmr5",
        "outputId": "8c7b7930-380c-42f9-f50a-a8ed7c1fb800"
      },
      "source": [
        "# save the model to disk\n",
        "import joblib\n",
        "filename = 'lr_model_macrophage_unbalanced.sav'\n",
        "joblib.dump(lr, filename)"
      ],
      "execution_count": null,
      "outputs": [
        {
          "output_type": "execute_result",
          "data": {
            "text/plain": [
              "['lr_model_macrophage_unbalanced.sav']"
            ]
          },
          "metadata": {},
          "execution_count": 39
        }
      ]
    },
    {
      "cell_type": "markdown",
      "metadata": {
        "id": "e4jmZ3WTqmr5"
      },
      "source": [
        "## evaluate model"
      ]
    },
    {
      "cell_type": "code",
      "metadata": {
        "id": "gxPO-ZcMqmr5"
      },
      "source": [
        "from sklearn.metrics import classification_report\n",
        "from sklearn.metrics import confusion_matrix\n",
        "from sklearn import metrics"
      ],
      "execution_count": null,
      "outputs": []
    },
    {
      "cell_type": "code",
      "metadata": {
        "id": "SEndCWAlqmr5"
      },
      "source": [
        "# # load model\n",
        "# import joblib\n",
        "# filename = '/content/gdrive/MyDrive/Idorsia Capstone Project/models/lr_model_t_cells.sav'\n",
        "# lr = joblib.load(filename)\n",
        "# # result = clf.score(X_test, y_test)\n",
        "# # print(result)"
      ],
      "execution_count": null,
      "outputs": []
    },
    {
      "cell_type": "code",
      "metadata": {
        "colab": {
          "base_uri": "https://localhost:8080/"
        },
        "id": "s2HwlT1vqmr5",
        "outputId": "63cd1d49-9898-4503-c316-ce55ef63a961"
      },
      "source": [
        "# Prediction on test set\n",
        "y_pred = lr.predict(X_test)\n",
        "\n",
        "# Calculating the accuracy and F1\n",
        "acc_lr = round( metrics.accuracy_score(y_test, y_pred) * 100, 2 )\n",
        "f1_lr = round(metrics.f1_score(y_test, y_pred, average='weighted') * 100, 2)\n",
        "f1_lr_macro = round(metrics.f1_score(y_test, y_pred, average='macro') * 100, 2)\n",
        "print('Accuracy of logistic regression model : ', acc_lr)\n",
        "print('F1 of logistic regression model : ', f1_lr)\n",
        "print('F1 macro of logistic regression model : ', f1_lr_macro)"
      ],
      "execution_count": null,
      "outputs": [
        {
          "output_type": "stream",
          "name": "stdout",
          "text": [
            "Accuracy of logistic regression model :  89.13\n",
            "F1 of logistic regression model :  86.23\n",
            "F1 macro of logistic regression model :  45.1\n"
          ]
        }
      ]
    },
    {
      "cell_type": "code",
      "metadata": {
        "colab": {
          "base_uri": "https://localhost:8080/"
        },
        "id": "vnFnbOIUqmr5",
        "outputId": "0095f4b0-3b0e-482f-dcf2-ab9801a89604"
      },
      "source": [
        "report = classification_report(y_test, y_pred)\n",
        "print(report)"
      ],
      "execution_count": null,
      "outputs": [
        {
          "output_type": "stream",
          "name": "stdout",
          "text": [
            "                            precision    recall  f1-score   support\n",
            "\n",
            "             M1 macrophage       0.00      0.00      0.00         3\n",
            "             M2 macrophage       0.79      0.95      0.86        20\n",
            "                macrophage       0.93      0.95      0.94        66\n",
            "perivascular M2 macrophage       0.00      0.00      0.00         3\n",
            "\n",
            "                  accuracy                           0.89        92\n",
            "                 macro avg       0.43      0.48      0.45        92\n",
            "              weighted avg       0.84      0.89      0.86        92\n",
            "\n"
          ]
        },
        {
          "output_type": "stream",
          "name": "stderr",
          "text": [
            "/usr/local/lib/python3.7/dist-packages/sklearn/metrics/_classification.py:1308: UndefinedMetricWarning: Precision and F-score are ill-defined and being set to 0.0 in labels with no predicted samples. Use `zero_division` parameter to control this behavior.\n",
            "  _warn_prf(average, modifier, msg_start, len(result))\n",
            "/usr/local/lib/python3.7/dist-packages/sklearn/metrics/_classification.py:1308: UndefinedMetricWarning: Precision and F-score are ill-defined and being set to 0.0 in labels with no predicted samples. Use `zero_division` parameter to control this behavior.\n",
            "  _warn_prf(average, modifier, msg_start, len(result))\n",
            "/usr/local/lib/python3.7/dist-packages/sklearn/metrics/_classification.py:1308: UndefinedMetricWarning: Precision and F-score are ill-defined and being set to 0.0 in labels with no predicted samples. Use `zero_division` parameter to control this behavior.\n",
            "  _warn_prf(average, modifier, msg_start, len(result))\n"
          ]
        }
      ]
    },
    {
      "cell_type": "code",
      "metadata": {
        "colab": {
          "base_uri": "https://localhost:8080/"
        },
        "id": "-iAAIn9Xqmr6",
        "outputId": "73c3d62d-7a83-4e18-f668-01e5aa9d6d64"
      },
      "source": [
        "cm = confusion_matrix(y_test, y_pred)\n",
        "cm"
      ],
      "execution_count": null,
      "outputs": [
        {
          "output_type": "execute_result",
          "data": {
            "text/plain": [
              "array([[ 0,  1,  2,  0],\n",
              "       [ 0, 19,  1,  0],\n",
              "       [ 0,  3, 63,  0],\n",
              "       [ 0,  1,  2,  0]])"
            ]
          },
          "metadata": {},
          "execution_count": 44
        }
      ]
    },
    {
      "cell_type": "code",
      "metadata": {
        "colab": {
          "base_uri": "https://localhost:8080/",
          "height": 648
        },
        "id": "7DZrHtg4qmr6",
        "outputId": "8c73667e-e48b-4f50-b2e8-c07b9dd9cfb9"
      },
      "source": [
        "fig, ax= plt.subplots(figsize=(10,8))\n",
        "sns.heatmap(cm, annot=True, fmt='g', ax=ax);  #annot=True to annotate cells, ftm='g' to disable scientific notation\n",
        "\n",
        "# labels, title and ticks\n",
        "ax.set_xlabel('Predicted labels');ax.set_ylabel('True labels'); \n",
        "ax.xaxis.set_ticklabels(np.unique(y_train)); ax.yaxis.set_ticklabels(np.unique(y_train));\n",
        "plt.xticks(rotation=90)\n",
        "plt.yticks(rotation=0)\n",
        "ax.set_title('Confusion Matrix lr'); \n",
        "plt.show()"
      ],
      "execution_count": null,
      "outputs": [
        {
          "output_type": "display_data",
          "data": {
            "image/png": "[encoded data removed]",
            "text/plain": [
              "<Figure size 720x576 with 2 Axes>"
            ]
          },
          "metadata": {
            "needs_background": "light"
          }
        }
      ]
    },
    {
      "cell_type": "markdown",
      "metadata": {
        "id": "oCW3dypZbqrY"
      },
      "source": [
        "# 6. Monocytes"
      ]
    },
    {
      "cell_type": "code",
      "metadata": {
        "id": "y6wKZkS3csm3"
      },
      "source": [
        "df = data[data['cell_type'] == 'monocyte']"
      ],
      "execution_count": 16,
      "outputs": []
    },
    {
      "cell_type": "code",
      "metadata": {
        "colab": {
          "base_uri": "https://localhost:8080/",
          "height": 112
        },
        "id": "l0CGiSuKcsm-",
        "outputId": "274aaafc-a9ae-4d18-d7d6-be82072c34fc"
      },
      "source": [
        "count_celltype = pd.concat([pd.DataFrame({'count': df['cell_state'].value_counts()}), pd.DataFrame({'percentage': df['cell_state'].value_counts(normalize=True)})], axis=1)\n",
        "count_celltype"
      ],
      "execution_count": 17,
      "outputs": [
        {
          "output_type": "execute_result",
          "data": {
            "text/html": [
              "<div>\n",
              "<style scoped>\n",
              "    .dataframe tbody tr th:only-of-type {\n",
              "        vertical-align: middle;\n",
              "    }\n",
              "\n",
              "    .dataframe tbody tr th {\n",
              "        vertical-align: top;\n",
              "    }\n",
              "\n",
              "    .dataframe thead th {\n",
              "        text-align: right;\n",
              "    }\n",
              "</style>\n",
              "<table border=\"1\" class=\"dataframe\">\n",
              "  <thead>\n",
              "    <tr style=\"text-align: right;\">\n",
              "      <th></th>\n",
              "      <th>count</th>\n",
              "      <th>percentage</th>\n",
              "    </tr>\n",
              "  </thead>\n",
              "  <tbody>\n",
              "    <tr>\n",
              "      <th>classical monocyte</th>\n",
              "      <td>86</td>\n",
              "      <td>0.609929</td>\n",
              "    </tr>\n",
              "    <tr>\n",
              "      <th>non-classical monocyte</th>\n",
              "      <td>55</td>\n",
              "      <td>0.390071</td>\n",
              "    </tr>\n",
              "  </tbody>\n",
              "</table>\n",
              "</div>"
            ],
            "text/plain": [
              "                        count  percentage\n",
              "classical monocyte         86    0.609929\n",
              "non-classical monocyte     55    0.390071"
            ]
          },
          "metadata": {},
          "execution_count": 17
        }
      ]
    },
    {
      "cell_type": "markdown",
      "metadata": {
        "id": "6Zo3z158csm_"
      },
      "source": [
        "## split data"
      ]
    },
    {
      "cell_type": "code",
      "metadata": {
        "id": "0fuJ-Qsqcsm_"
      },
      "source": [
        "X = df.drop(columns=['cell_state', 'cell_type', 'cell_type_2'])\n",
        "y = df['cell_state']"
      ],
      "execution_count": 18,
      "outputs": []
    },
    {
      "cell_type": "code",
      "metadata": {
        "id": "BqqqYDaqcsm_"
      },
      "source": [
        "from sklearn.model_selection import train_test_split\n",
        "\n",
        "X_train, X_test, y_train, y_test = train_test_split(X, y, test_size=0.2, random_state=42, stratify=y)"
      ],
      "execution_count": 19,
      "outputs": []
    },
    {
      "cell_type": "markdown",
      "metadata": {
        "id": "oFYeYUOfqwR4"
      },
      "source": [
        "## train model"
      ]
    },
    {
      "cell_type": "code",
      "metadata": {
        "id": "ANIk-ovNqwR4"
      },
      "source": [
        "from sklearn.linear_model import LogisticRegression"
      ],
      "execution_count": null,
      "outputs": []
    },
    {
      "cell_type": "code",
      "metadata": {
        "colab": {
          "base_uri": "https://localhost:8080/"
        },
        "id": "0TNvSddeqwR4",
        "outputId": "2f976ae4-1efc-4630-9f7b-84cbb334903c"
      },
      "source": [
        "lr = LogisticRegression(max_iter=10000)\n",
        "lr.fit(X_train, y_train) # takes about 1min"
      ],
      "execution_count": null,
      "outputs": [
        {
          "output_type": "execute_result",
          "data": {
            "text/plain": [
              "LogisticRegression(max_iter=10000)"
            ]
          },
          "metadata": {},
          "execution_count": 32
        }
      ]
    },
    {
      "cell_type": "code",
      "metadata": {
        "colab": {
          "base_uri": "https://localhost:8080/"
        },
        "id": "RdDeY95mqwR5",
        "outputId": "9f639579-edb1-4d96-8133-1d69dfcd5e4e"
      },
      "source": [
        "from sklearn.model_selection import cross_val_score\n",
        "lr_scores = cross_val_score(lr, X_train, y_train, cv=5, scoring='f1_weighted')\n",
        "lr_scores"
      ],
      "execution_count": null,
      "outputs": [
        {
          "output_type": "execute_result",
          "data": {
            "text/plain": [
              "array([1.        , 1.        , 0.95405031, 1.        , 0.953814  ])"
            ]
          },
          "metadata": {},
          "execution_count": 33
        }
      ]
    },
    {
      "cell_type": "code",
      "metadata": {
        "colab": {
          "base_uri": "https://localhost:8080/"
        },
        "id": "iMsPRT-2qwR5",
        "outputId": "3874d934-fdf5-49f9-90e5-373dd0ef157a"
      },
      "source": [
        "# save the model to disk\n",
        "import joblib\n",
        "filename = 'lr_model_monocyte_unbalanced.sav'\n",
        "joblib.dump(lr, filename)"
      ],
      "execution_count": null,
      "outputs": [
        {
          "output_type": "execute_result",
          "data": {
            "text/plain": [
              "['lr_model_monocyte_unbalanced.sav']"
            ]
          },
          "metadata": {},
          "execution_count": 34
        }
      ]
    },
    {
      "cell_type": "markdown",
      "metadata": {
        "id": "Rt9lZkXNqwR5"
      },
      "source": [
        "## evaluate model"
      ]
    },
    {
      "cell_type": "code",
      "metadata": {
        "id": "Pg8jZGBQqwR5"
      },
      "source": [
        "from sklearn.metrics import classification_report\n",
        "from sklearn.metrics import confusion_matrix\n",
        "from sklearn import metrics"
      ],
      "execution_count": null,
      "outputs": []
    },
    {
      "cell_type": "code",
      "metadata": {
        "id": "cOWzs2l_qwR5"
      },
      "source": [
        "# # load model\n",
        "# import joblib\n",
        "# filename = '/content/gdrive/MyDrive/Idorsia Capstone Project/models/lr_model_t_cells.sav'\n",
        "# lr = joblib.load(filename)\n",
        "# # result = clf.score(X_test, y_test)\n",
        "# # print(result)"
      ],
      "execution_count": null,
      "outputs": []
    },
    {
      "cell_type": "code",
      "metadata": {
        "colab": {
          "base_uri": "https://localhost:8080/"
        },
        "id": "0aR7WEhyqwR5",
        "outputId": "0bc75b90-0655-4278-fa61-806a66c7d9cb"
      },
      "source": [
        "# Prediction on test set\n",
        "y_pred = lr.predict(X_test)\n",
        "\n",
        "# Calculating the accuracy and F1\n",
        "acc_lr = round( metrics.accuracy_score(y_test, y_pred) * 100, 2 )\n",
        "f1_lr = round(metrics.f1_score(y_test, y_pred, average='weighted') * 100, 2)\n",
        "f1_lr_macro = round(metrics.f1_score(y_test, y_pred, average='macro') * 100, 2)\n",
        "print('Accuracy of logistic regression model : ', acc_lr)\n",
        "print('F1 of logistic regression model : ', f1_lr)\n",
        "print('F1 macro of logistic regression model : ', f1_lr_macro)"
      ],
      "execution_count": null,
      "outputs": [
        {
          "output_type": "stream",
          "name": "stdout",
          "text": [
            "Accuracy of logistic regression model :  96.55\n",
            "F1 of logistic regression model :  96.52\n",
            "F1 macro of logistic regression model :  96.27\n"
          ]
        }
      ]
    },
    {
      "cell_type": "code",
      "metadata": {
        "colab": {
          "base_uri": "https://localhost:8080/"
        },
        "id": "qvfvCuC6qwR5",
        "outputId": "62c4fafb-6f5f-462e-f961-9529bf134e84"
      },
      "source": [
        "report = classification_report(y_test, y_pred)\n",
        "print(report)"
      ],
      "execution_count": null,
      "outputs": [
        {
          "output_type": "stream",
          "name": "stdout",
          "text": [
            "                        precision    recall  f1-score   support\n",
            "\n",
            "    classical monocyte       0.95      1.00      0.97        18\n",
            "non-classical monocyte       1.00      0.91      0.95        11\n",
            "\n",
            "              accuracy                           0.97        29\n",
            "             macro avg       0.97      0.95      0.96        29\n",
            "          weighted avg       0.97      0.97      0.97        29\n",
            "\n"
          ]
        }
      ]
    },
    {
      "cell_type": "code",
      "metadata": {
        "colab": {
          "base_uri": "https://localhost:8080/"
        },
        "id": "EkiqOpwBqwR6",
        "outputId": "18d76efd-fd4f-4e6a-e21d-75b195dc096e"
      },
      "source": [
        "cm = confusion_matrix(y_test, y_pred)\n",
        "cm"
      ],
      "execution_count": null,
      "outputs": [
        {
          "output_type": "execute_result",
          "data": {
            "text/plain": [
              "array([[18,  0],\n",
              "       [ 1, 10]])"
            ]
          },
          "metadata": {},
          "execution_count": 39
        }
      ]
    },
    {
      "cell_type": "code",
      "metadata": {
        "colab": {
          "base_uri": "https://localhost:8080/",
          "height": 620
        },
        "id": "iYMF-PJdqwR6",
        "outputId": "d614e250-c3e7-4c1b-e3e2-45aea1fdbf93"
      },
      "source": [
        "fig, ax= plt.subplots(figsize=(10,8))\n",
        "sns.heatmap(cm, annot=True, fmt='g', ax=ax);  #annot=True to annotate cells, ftm='g' to disable scientific notation\n",
        "\n",
        "# labels, title and ticks\n",
        "ax.set_xlabel('Predicted labels');ax.set_ylabel('True labels'); \n",
        "ax.xaxis.set_ticklabels(np.unique(y_train)); ax.yaxis.set_ticklabels(np.unique(y_train));\n",
        "plt.xticks(rotation=90)\n",
        "plt.yticks(rotation=0)\n",
        "ax.set_title('Confusion Matrix lr'); \n",
        "plt.show()"
      ],
      "execution_count": null,
      "outputs": [
        {
          "output_type": "display_data",
          "data": {
            "image/png": "[encoded data removed]",
            "text/plain": [
              "<Figure size 720x576 with 2 Axes>"
            ]
          },
          "metadata": {
            "needs_background": "light"
          }
        }
      ]
    },
    {
      "cell_type": "markdown",
      "metadata": {
        "id": "SvZdCvelbth2"
      },
      "source": [
        "# 7. T Cells"
      ]
    },
    {
      "cell_type": "code",
      "metadata": {
        "id": "YGd8SYwUdL36"
      },
      "source": [
        "df_all = data[data['cell_type'] == 'T-cell']"
      ],
      "execution_count": 20,
      "outputs": []
    },
    {
      "cell_type": "code",
      "metadata": {
        "colab": {
          "base_uri": "https://localhost:8080/",
          "height": 707
        },
        "id": "0RzNJP49dL36",
        "outputId": "99487e65-b89e-4f8c-e393-c9fa7d1e4709"
      },
      "source": [
        "count_celltype = pd.concat([pd.DataFrame({'count': df_all['cell_state'].value_counts()}), pd.DataFrame({'percentage': df_all['cell_state'].value_counts(normalize=True)})], axis=1)\n",
        "count_celltype"
      ],
      "execution_count": 21,
      "outputs": [
        {
          "output_type": "execute_result",
          "data": {
            "text/html": [
              "<div>\n",
              "<style scoped>\n",
              "    .dataframe tbody tr th:only-of-type {\n",
              "        vertical-align: middle;\n",
              "    }\n",
              "\n",
              "    .dataframe tbody tr th {\n",
              "        vertical-align: top;\n",
              "    }\n",
              "\n",
              "    .dataframe thead th {\n",
              "        text-align: right;\n",
              "    }\n",
              "</style>\n",
              "<table border=\"1\" class=\"dataframe\">\n",
              "  <thead>\n",
              "    <tr style=\"text-align: right;\">\n",
              "      <th></th>\n",
              "      <th>count</th>\n",
              "      <th>percentage</th>\n",
              "    </tr>\n",
              "  </thead>\n",
              "  <tbody>\n",
              "    <tr>\n",
              "      <th>CD4 naive T-cell</th>\n",
              "      <td>806</td>\n",
              "      <td>0.140247</td>\n",
              "    </tr>\n",
              "    <tr>\n",
              "      <th>CD4 regulatory T-cell (unspecified)</th>\n",
              "      <td>777</td>\n",
              "      <td>0.135201</td>\n",
              "    </tr>\n",
              "    <tr>\n",
              "      <th>CD8 effector memory T-cell</th>\n",
              "      <td>694</td>\n",
              "      <td>0.120759</td>\n",
              "    </tr>\n",
              "    <tr>\n",
              "      <th>CD4 helper T-cell (unspecified)</th>\n",
              "      <td>605</td>\n",
              "      <td>0.105272</td>\n",
              "    </tr>\n",
              "    <tr>\n",
              "      <th>CD8 memory T-cell (unspecified)</th>\n",
              "      <td>514</td>\n",
              "      <td>0.089438</td>\n",
              "    </tr>\n",
              "    <tr>\n",
              "      <th>CD4 follicular helper T-cell</th>\n",
              "      <td>430</td>\n",
              "      <td>0.074822</td>\n",
              "    </tr>\n",
              "    <tr>\n",
              "      <th>CD8 resident memory T-cell</th>\n",
              "      <td>363</td>\n",
              "      <td>0.063163</td>\n",
              "    </tr>\n",
              "    <tr>\n",
              "      <th>CD8 T-cell (unspecified)</th>\n",
              "      <td>350</td>\n",
              "      <td>0.060901</td>\n",
              "    </tr>\n",
              "    <tr>\n",
              "      <th>CD8 activated T-cell (unspecified)</th>\n",
              "      <td>327</td>\n",
              "      <td>0.056899</td>\n",
              "    </tr>\n",
              "    <tr>\n",
              "      <th>CD8 exhausted T-cell (unspecified)</th>\n",
              "      <td>196</td>\n",
              "      <td>0.034105</td>\n",
              "    </tr>\n",
              "    <tr>\n",
              "      <th>NK T-cell (unspecified)</th>\n",
              "      <td>127</td>\n",
              "      <td>0.022098</td>\n",
              "    </tr>\n",
              "    <tr>\n",
              "      <th>Th17 T-cell</th>\n",
              "      <td>121</td>\n",
              "      <td>0.021054</td>\n",
              "    </tr>\n",
              "    <tr>\n",
              "      <th>CD8 exhausted resident memory T-cell</th>\n",
              "      <td>113</td>\n",
              "      <td>0.019662</td>\n",
              "    </tr>\n",
              "    <tr>\n",
              "      <th>CD8 cytotoxic T-cell (unspecified)</th>\n",
              "      <td>91</td>\n",
              "      <td>0.015834</td>\n",
              "    </tr>\n",
              "    <tr>\n",
              "      <th>CD4 T-cell (unspecified)</th>\n",
              "      <td>72</td>\n",
              "      <td>0.012528</td>\n",
              "    </tr>\n",
              "    <tr>\n",
              "      <th>T-cell (unspecified)</th>\n",
              "      <td>63</td>\n",
              "      <td>0.010962</td>\n",
              "    </tr>\n",
              "    <tr>\n",
              "      <th>CD8 exhausted cytotoxic T-cell (unspecified)</th>\n",
              "      <td>59</td>\n",
              "      <td>0.010266</td>\n",
              "    </tr>\n",
              "    <tr>\n",
              "      <th>CD8 naive T-cell</th>\n",
              "      <td>19</td>\n",
              "      <td>0.003306</td>\n",
              "    </tr>\n",
              "    <tr>\n",
              "      <th>CD4 central memory T-cell</th>\n",
              "      <td>11</td>\n",
              "      <td>0.001914</td>\n",
              "    </tr>\n",
              "    <tr>\n",
              "      <th>CD8 central memory T-cell</th>\n",
              "      <td>5</td>\n",
              "      <td>0.000870</td>\n",
              "    </tr>\n",
              "    <tr>\n",
              "      <th>gd T-cell (unspecified)</th>\n",
              "      <td>4</td>\n",
              "      <td>0.000696</td>\n",
              "    </tr>\n",
              "  </tbody>\n",
              "</table>\n",
              "</div>"
            ],
            "text/plain": [
              "                                              count  percentage\n",
              "CD4 naive T-cell                                806    0.140247\n",
              "CD4 regulatory T-cell (unspecified)             777    0.135201\n",
              "CD8 effector memory T-cell                      694    0.120759\n",
              "CD4 helper T-cell (unspecified)                 605    0.105272\n",
              "CD8 memory T-cell (unspecified)                 514    0.089438\n",
              "CD4 follicular helper T-cell                    430    0.074822\n",
              "CD8 resident memory T-cell                      363    0.063163\n",
              "CD8 T-cell (unspecified)                        350    0.060901\n",
              "CD8 activated T-cell (unspecified)              327    0.056899\n",
              "CD8 exhausted T-cell (unspecified)              196    0.034105\n",
              "NK T-cell (unspecified)                         127    0.022098\n",
              "Th17 T-cell                                     121    0.021054\n",
              "CD8 exhausted resident memory T-cell            113    0.019662\n",
              "CD8 cytotoxic T-cell (unspecified)               91    0.015834\n",
              "CD4 T-cell (unspecified)                         72    0.012528\n",
              "T-cell (unspecified)                             63    0.010962\n",
              "CD8 exhausted cytotoxic T-cell (unspecified)     59    0.010266\n",
              "CD8 naive T-cell                                 19    0.003306\n",
              "CD4 central memory T-cell                        11    0.001914\n",
              "CD8 central memory T-cell                         5    0.000870\n",
              "gd T-cell (unspecified)                           4    0.000696"
            ]
          },
          "metadata": {},
          "execution_count": 21
        }
      ]
    },
    {
      "cell_type": "markdown",
      "metadata": {
        "id": "VTwQhMQsqejp"
      },
      "source": [
        "## 7.1 all subclasses at once"
      ]
    },
    {
      "cell_type": "markdown",
      "metadata": {
        "id": "4AqSCN7cd3Y1"
      },
      "source": [
        "### split data"
      ]
    },
    {
      "cell_type": "code",
      "metadata": {
        "id": "Loh9-7Qsd3Y1"
      },
      "source": [
        "X = df_all.drop(columns=['cell_state', 'cell_type', 'cell_type_2'])\n",
        "y = df_all['cell_state']"
      ],
      "execution_count": 22,
      "outputs": []
    },
    {
      "cell_type": "code",
      "metadata": {
        "id": "9thOZdGzd3Y1"
      },
      "source": [
        "from sklearn.model_selection import train_test_split\n",
        "\n",
        "X_train, X_test, y_train, y_test = train_test_split(X, y, test_size=0.2, random_state=42, stratify=y)"
      ],
      "execution_count": null,
      "outputs": []
    },
    {
      "cell_type": "markdown",
      "metadata": {
        "id": "NsEXn6VorA-l"
      },
      "source": [
        "### train model"
      ]
    },
    {
      "cell_type": "code",
      "metadata": {
        "id": "se73vYPPrA-l"
      },
      "source": [
        "from sklearn.linear_model import LogisticRegression"
      ],
      "execution_count": null,
      "outputs": []
    },
    {
      "cell_type": "code",
      "metadata": {
        "colab": {
          "base_uri": "https://localhost:8080/"
        },
        "id": "80-wnJiPrA-m",
        "outputId": "266f799d-4cd6-4dc0-9dda-26d2f807509d"
      },
      "source": [
        "lr = LogisticRegression(max_iter=10000)\n",
        "lr.fit(X_train, y_train) # takes about 40min"
      ],
      "execution_count": null,
      "outputs": [
        {
          "output_type": "execute_result",
          "data": {
            "text/plain": [
              "LogisticRegression(max_iter=10000)"
            ]
          },
          "metadata": {},
          "execution_count": 13
        }
      ]
    },
    {
      "cell_type": "code",
      "metadata": {
        "colab": {
          "base_uri": "https://localhost:8080/"
        },
        "id": "DQnB5hForA-m",
        "outputId": "36566e66-9937-45ed-9c02-8d1376693956"
      },
      "source": [
        "from sklearn.model_selection import cross_val_score\n",
        "lr_scores = cross_val_score(lr, X_train, y_train, cv=5, scoring='f1_weighted')\n",
        "lr_scores"
      ],
      "execution_count": null,
      "outputs": [
        {
          "output_type": "stream",
          "name": "stderr",
          "text": [
            "/usr/local/lib/python3.7/dist-packages/sklearn/model_selection/_split.py:672: UserWarning: The least populated class in y has only 3 members, which is less than n_splits=5.\n",
            "  % (min_groups, self.n_splits)), UserWarning)\n"
          ]
        },
        {
          "output_type": "execute_result",
          "data": {
            "text/plain": [
              "array([0.65122949, 0.65455746, 0.64853051, 0.64583211, 0.61840241])"
            ]
          },
          "metadata": {},
          "execution_count": 14
        }
      ]
    },
    {
      "cell_type": "code",
      "metadata": {
        "colab": {
          "base_uri": "https://localhost:8080/"
        },
        "id": "Kpkr8zOnrA-m",
        "outputId": "c995a218-8de1-4a7b-9426-946b7c5761ac"
      },
      "source": [
        "# save the model to disk\n",
        "import joblib\n",
        "filename = 'lr_model_t_cells_all_unbalanced.sav'\n",
        "joblib.dump(lr, filename)"
      ],
      "execution_count": null,
      "outputs": [
        {
          "output_type": "execute_result",
          "data": {
            "text/plain": [
              "['lr_model_t_cells_all_unbalanced.sav']"
            ]
          },
          "metadata": {},
          "execution_count": 15
        }
      ]
    },
    {
      "cell_type": "markdown",
      "metadata": {
        "id": "125nLvy0rA-o"
      },
      "source": [
        "### evaluate model"
      ]
    },
    {
      "cell_type": "code",
      "metadata": {
        "id": "J7s9AbIDrA-o"
      },
      "source": [
        "from sklearn.metrics import classification_report\n",
        "from sklearn.metrics import confusion_matrix\n",
        "from sklearn import metrics"
      ],
      "execution_count": null,
      "outputs": []
    },
    {
      "cell_type": "code",
      "metadata": {
        "id": "eG0aqvfGrA-o"
      },
      "source": [
        "# # load model\n",
        "# import joblib\n",
        "# filename = '/content/gdrive/MyDrive/Idorsia Capstone Project/models/lr_model_t_cells.sav'\n",
        "# lr = joblib.load(filename)\n",
        "# # result = clf.score(X_test, y_test)\n",
        "# # print(result)"
      ],
      "execution_count": null,
      "outputs": []
    },
    {
      "cell_type": "code",
      "metadata": {
        "colab": {
          "base_uri": "https://localhost:8080/"
        },
        "id": "pszmAky4rA-o",
        "outputId": "7712b598-5049-44ac-e878-af8a6f7ab1c8"
      },
      "source": [
        "# Prediction on test set\n",
        "y_pred = lr.predict(X_test)\n",
        "\n",
        "# Calculating the accuracy and F1\n",
        "acc_lr = round( metrics.accuracy_score(y_test, y_pred) * 100, 2 )\n",
        "f1_lr = round(metrics.f1_score(y_test, y_pred, average='weighted') * 100, 2)\n",
        "f1_lr_macro = round(metrics.f1_score(y_test, y_pred, average='macro') * 100, 2)\n",
        "print('Accuracy of logistic regression model : ', acc_lr)\n",
        "print('F1 of logistic regression model : ', f1_lr)\n",
        "print('F1 macro of logistic regression model : ', f1_lr_macro)"
      ],
      "execution_count": null,
      "outputs": [
        {
          "output_type": "stream",
          "name": "stdout",
          "text": [
            "Accuracy of logistic regression model :  65.22\n",
            "F1 of logistic regression model :  63.45\n",
            "F1 macro of logistic regression model :  39.76\n"
          ]
        }
      ]
    },
    {
      "cell_type": "code",
      "metadata": {
        "colab": {
          "base_uri": "https://localhost:8080/"
        },
        "id": "CBSINSHCrA-o",
        "outputId": "e3fd1ca2-559b-4b8c-e766-ffeb9e346fa5"
      },
      "source": [
        "report = classification_report(y_test, y_pred)\n",
        "print(report)"
      ],
      "execution_count": null,
      "outputs": [
        {
          "output_type": "stream",
          "name": "stdout",
          "text": [
            "                                              precision    recall  f1-score   support\n",
            "\n",
            "                    CD4 T-cell (unspecified)       0.00      0.00      0.00        14\n",
            "                   CD4 central memory T-cell       0.00      0.00      0.00         2\n",
            "                CD4 follicular helper T-cell       0.82      0.87      0.85        86\n",
            "             CD4 helper T-cell (unspecified)       0.52      0.68      0.59       121\n",
            "                            CD4 naive T-cell       0.69      0.82      0.75       161\n",
            "         CD4 regulatory T-cell (unspecified)       0.92      0.90      0.91       156\n",
            "                    CD8 T-cell (unspecified)       0.31      0.23      0.26        70\n",
            "          CD8 activated T-cell (unspecified)       0.56      0.48      0.52        65\n",
            "                   CD8 central memory T-cell       0.00      0.00      0.00         1\n",
            "          CD8 cytotoxic T-cell (unspecified)       0.17      0.11      0.13        18\n",
            "                  CD8 effector memory T-cell       0.52      0.62      0.57       139\n",
            "          CD8 exhausted T-cell (unspecified)       0.75      0.62      0.68        39\n",
            "CD8 exhausted cytotoxic T-cell (unspecified)       0.25      0.17      0.20        12\n",
            "        CD8 exhausted resident memory T-cell       0.38      0.22      0.28        23\n",
            "             CD8 memory T-cell (unspecified)       0.81      0.92      0.86       103\n",
            "                            CD8 naive T-cell       0.00      0.00      0.00         4\n",
            "                  CD8 resident memory T-cell       0.53      0.52      0.52        73\n",
            "                     NK T-cell (unspecified)       1.00      0.24      0.39        25\n",
            "                        T-cell (unspecified)       0.29      0.15      0.20        13\n",
            "                                 Th17 T-cell       0.81      0.54      0.65        24\n",
            "                     gd T-cell (unspecified)       0.00      0.00      0.00         1\n",
            "\n",
            "                                    accuracy                           0.65      1150\n",
            "                                   macro avg       0.44      0.39      0.40      1150\n",
            "                                weighted avg       0.64      0.65      0.63      1150\n",
            "\n"
          ]
        },
        {
          "output_type": "stream",
          "name": "stderr",
          "text": [
            "/usr/local/lib/python3.7/dist-packages/sklearn/metrics/_classification.py:1221: UndefinedMetricWarning: Precision and F-score are ill-defined and being set to 0.0 in labels with no predicted samples. Use `zero_division` parameter to control this behavior.\n",
            "  _warn_prf(average, modifier, msg_start, len(result))\n"
          ]
        }
      ]
    },
    {
      "cell_type": "code",
      "metadata": {
        "colab": {
          "base_uri": "https://localhost:8080/"
        },
        "id": "dO1hak0QrA-o",
        "outputId": "179de1dc-809a-41be-f902-7c22ecf71829"
      },
      "source": [
        "cm = confusion_matrix(y_test, y_pred)\n",
        "cm"
      ],
      "execution_count": null,
      "outputs": [
        {
          "output_type": "execute_result",
          "data": {
            "text/plain": [
              "array([[  0,   0,   0,   3,   1,   2,   1,   0,   0,   1,   2,   0,   0,\n",
              "          0,   1,   0,   2,   0,   0,   1,   0],\n",
              "       [  0,   0,   0,   1,   0,   0,   0,   0,   0,   0,   1,   0,   0,\n",
              "          0,   0,   0,   0,   0,   0,   0,   0],\n",
              "       [  0,   0,  75,   2,   1,   3,   0,   0,   0,   0,   0,   1,   0,\n",
              "          2,   2,   0,   0,   0,   0,   0,   0],\n",
              "       [  1,   0,   2,  82,  12,   4,   2,   1,   0,   2,  11,   0,   0,\n",
              "          0,   0,   0,   2,   0,   2,   0,   0],\n",
              "       [  0,   0,   2,  12, 132,   1,   2,   3,   0,   0,   2,   0,   0,\n",
              "          0,   4,   0,   1,   0,   1,   1,   0],\n",
              "       [  0,   0,   2,   7,   5, 141,   0,   0,   0,   0,   0,   0,   0,\n",
              "          0,   1,   0,   0,   0,   0,   0,   0],\n",
              "       [  0,   0,   0,   8,  16,   2,  16,   5,   0,   0,  18,   0,   0,\n",
              "          0,   1,   0,   4,   0,   0,   0,   0],\n",
              "       [  0,   0,   2,   3,   6,   0,   6,  31,   0,   0,  12,   1,   0,\n",
              "          0,   1,   0,   2,   0,   0,   1,   0],\n",
              "       [  0,   0,   0,   0,   1,   0,   0,   0,   0,   0,   0,   0,   0,\n",
              "          0,   0,   0,   0,   0,   0,   0,   0],\n",
              "       [  0,   0,   0,   3,   0,   0,   0,   0,   0,   2,  10,   0,   3,\n",
              "          0,   0,   0,   0,   0,   0,   0,   0],\n",
              "       [  0,   0,   0,   8,   4,   0,  14,   9,   0,   3,  86,   0,   1,\n",
              "          0,   7,   0,   7,   0,   0,   0,   0],\n",
              "       [  0,   0,   1,   0,   0,   0,   0,   2,   0,   0,   4,  24,   0,\n",
              "          0,   2,   0,   6,   0,   0,   0,   0],\n",
              "       [  0,   0,   0,   2,   0,   0,   0,   0,   0,   2,   1,   1,   2,\n",
              "          0,   0,   0,   3,   0,   1,   0,   0],\n",
              "       [  0,   0,   4,   2,   0,   1,   2,   0,   0,   0,   1,   1,   1,\n",
              "          5,   0,   0,   6,   0,   0,   0,   0],\n",
              "       [  0,   0,   1,   0,   2,   0,   4,   1,   0,   0,   0,   0,   0,\n",
              "          0,  95,   0,   0,   0,   0,   0,   0],\n",
              "       [  0,   0,   0,   2,   1,   0,   1,   0,   0,   0,   0,   0,   0,\n",
              "          0,   0,   0,   0,   0,   0,   0,   0],\n",
              "       [  0,   0,   0,   6,   1,   0,   3,   2,   0,   2,  13,   2,   1,\n",
              "          4,   0,   0,  38,   0,   1,   0,   0],\n",
              "       [  0,   0,   0,  17,   0,   0,   0,   0,   0,   0,   1,   0,   0,\n",
              "          1,   0,   0,   0,   6,   0,   0,   0],\n",
              "       [  0,   0,   1,   1,   1,   0,   0,   1,   0,   0,   2,   2,   0,\n",
              "          1,   2,   0,   0,   0,   2,   0,   0],\n",
              "       [  0,   0,   1,   0,   8,   0,   0,   0,   0,   0,   0,   0,   0,\n",
              "          0,   2,   0,   0,   0,   0,  13,   0],\n",
              "       [  0,   0,   0,   0,   0,   0,   0,   0,   0,   0,   0,   0,   0,\n",
              "          0,   0,   0,   1,   0,   0,   0,   0]])"
            ]
          },
          "metadata": {},
          "execution_count": 20
        }
      ]
    },
    {
      "cell_type": "code",
      "metadata": {
        "colab": {
          "base_uri": "https://localhost:8080/",
          "height": 725
        },
        "id": "szdvDasSrA-p",
        "outputId": "2827d004-e707-406c-9c5e-a0a68d6ed730"
      },
      "source": [
        "fig, ax= plt.subplots(figsize=(10,8))\n",
        "sns.heatmap(cm, annot=True, fmt='g', ax=ax);  #annot=True to annotate cells, ftm='g' to disable scientific notation\n",
        "\n",
        "# labels, title and ticks\n",
        "ax.set_xlabel('Predicted labels');ax.set_ylabel('True labels'); \n",
        "ax.xaxis.set_ticklabels(np.unique(y_train)); ax.yaxis.set_ticklabels(np.unique(y_train));\n",
        "plt.xticks(rotation=90)\n",
        "plt.yticks(rotation=0)\n",
        "ax.set_title('Confusion Matrix lr'); \n",
        "plt.savefig('confusion_matrix_lr_t_cells.png')\n",
        "plt.show()"
      ],
      "execution_count": null,
      "outputs": [
        {
          "output_type": "display_data",
          "data": {
            "image/png": "[encoded data removed]",
            "text/plain": [
              "<Figure size 720x576 with 2 Axes>"
            ]
          },
          "metadata": {
            "needs_background": "light"
          }
        }
      ]
    },
    {
      "cell_type": "markdown",
      "metadata": {
        "id": "8dtMWMeerEjk"
      },
      "source": [
        "## 7.2 hierarchical"
      ]
    },
    {
      "cell_type": "markdown",
      "metadata": {
        "id": "PruTh8IYrv2P"
      },
      "source": [
        "### 7.2.1 CD8, CD4 and other T cells"
      ]
    },
    {
      "cell_type": "markdown",
      "metadata": {
        "id": "3hYayZJ-c6c0"
      },
      "source": [
        "#### split data"
      ]
    },
    {
      "cell_type": "code",
      "metadata": {
        "id": "ViYw1n7Zc6c1"
      },
      "source": [
        "X = df_all.drop(columns=['cell_state', 'cell_type', 'cell_type_2'])\n",
        "y = df_all['cell_type_2']"
      ],
      "execution_count": 23,
      "outputs": []
    },
    {
      "cell_type": "code",
      "metadata": {
        "id": "NhkxXSEuc6c1"
      },
      "source": [
        "from sklearn.model_selection import train_test_split\n",
        "\n",
        "X_train, X_test, y_train, y_test = train_test_split(X, y, test_size=0.2, random_state=42, stratify=y)"
      ],
      "execution_count": null,
      "outputs": []
    },
    {
      "cell_type": "code",
      "metadata": {
        "colab": {
          "base_uri": "https://localhost:8080/"
        },
        "id": "LuoEhoNdgrkJ",
        "outputId": "a67e9561-ddc8-41d0-ce18-70db621157f7"
      },
      "source": [
        "y_train.value_counts()"
      ],
      "execution_count": null,
      "outputs": [
        {
          "output_type": "execute_result",
          "data": {
            "text/plain": [
              "CD8 T-cell      1972\n",
              "CD4 T-cell      1042\n",
              "other T-cell     615\n",
              "Name: cell_type_2, dtype: int64"
            ]
          },
          "metadata": {},
          "execution_count": 11
        }
      ]
    },
    {
      "cell_type": "markdown",
      "metadata": {
        "id": "IVedLjaAc6c1"
      },
      "source": [
        "#### train model"
      ]
    },
    {
      "cell_type": "code",
      "metadata": {
        "id": "rQnQm3onc6c1"
      },
      "source": [
        "from sklearn.linear_model import LogisticRegression"
      ],
      "execution_count": null,
      "outputs": []
    },
    {
      "cell_type": "code",
      "metadata": {
        "colab": {
          "base_uri": "https://localhost:8080/"
        },
        "id": "98AA_j86c6c1",
        "outputId": "6326cfdd-ec0e-4905-d469-358bf6b3b665"
      },
      "source": [
        "lr = LogisticRegression(max_iter=10000)\n",
        "lr.fit(X_train, y_train) # takes about 1min"
      ],
      "execution_count": null,
      "outputs": [
        {
          "output_type": "execute_result",
          "data": {
            "text/plain": [
              "LogisticRegression(max_iter=10000)"
            ]
          },
          "metadata": {},
          "execution_count": 26
        }
      ]
    },
    {
      "cell_type": "code",
      "metadata": {
        "colab": {
          "base_uri": "https://localhost:8080/"
        },
        "id": "jeXVqgZ7c6c2",
        "outputId": "9ece87b1-d395-414f-9a8b-b5cba52980cd"
      },
      "source": [
        "from sklearn.model_selection import cross_val_score\n",
        "lr_scores = cross_val_score(lr, X_train, y_train, cv=5, scoring='f1_weighted')\n",
        "lr_scores"
      ],
      "execution_count": null,
      "outputs": [
        {
          "output_type": "execute_result",
          "data": {
            "text/plain": [
              "array([0.84674941, 0.84251871, 0.83714342, 0.86049492, 0.84741921])"
            ]
          },
          "metadata": {},
          "execution_count": 27
        }
      ]
    },
    {
      "cell_type": "code",
      "metadata": {
        "colab": {
          "base_uri": "https://localhost:8080/"
        },
        "id": "j7Sn_hGAc6c2",
        "outputId": "2fe1d384-2463-496a-d2d1-0e5ba201d971"
      },
      "source": [
        "# save the model to disk\n",
        "import joblib\n",
        "filename = 'lr_model_t_cells_type2_unbalanced.sav'\n",
        "joblib.dump(lr, filename)"
      ],
      "execution_count": null,
      "outputs": [
        {
          "output_type": "execute_result",
          "data": {
            "text/plain": [
              "['lr_model_t_cells_type2_unbalanced.sav']"
            ]
          },
          "metadata": {},
          "execution_count": 28
        }
      ]
    },
    {
      "cell_type": "markdown",
      "metadata": {
        "id": "QbeGpqr0c6c2"
      },
      "source": [
        "#### evaluate model"
      ]
    },
    {
      "cell_type": "code",
      "metadata": {
        "id": "P51Fs9qhc6c2"
      },
      "source": [
        "from sklearn.metrics import classification_report\n",
        "from sklearn.metrics import confusion_matrix\n",
        "from sklearn import metrics"
      ],
      "execution_count": null,
      "outputs": []
    },
    {
      "cell_type": "code",
      "metadata": {
        "id": "87tmlI3lc6c2"
      },
      "source": [
        "# # load model\n",
        "# import joblib\n",
        "# filename = '/content/gdrive/MyDrive/Idorsia Capstone Project/models/lr_model_t_cells.sav'\n",
        "# lr = joblib.load(filename)\n",
        "# # result = clf.score(X_test, y_test)\n",
        "# # print(result)"
      ],
      "execution_count": null,
      "outputs": []
    },
    {
      "cell_type": "code",
      "metadata": {
        "colab": {
          "base_uri": "https://localhost:8080/"
        },
        "id": "IhtElpAbc6c2",
        "outputId": "52c2be31-4827-4c19-9061-748626c2e641"
      },
      "source": [
        "# Prediction on test set\n",
        "y_pred = lr.predict(X_test)\n",
        "\n",
        "# Calculating the accuracy and F1\n",
        "acc_lr = round( metrics.accuracy_score(y_test, y_pred) * 100, 2 )\n",
        "f1_lr = round(metrics.f1_score(y_test, y_pred, average='weighted') * 100, 2)\n",
        "f1_lr_macro = round(metrics.f1_score(y_test, y_pred, average='macro') * 100, 2)\n",
        "print('Accuracy of logistic regression model : ', acc_lr)\n",
        "print('F1 of logistic regression model : ', f1_lr)\n",
        "print('F1 macro of logistic regression model : ', f1_lr_macro)"
      ],
      "execution_count": null,
      "outputs": [
        {
          "output_type": "stream",
          "name": "stdout",
          "text": [
            "Accuracy of logistic regression model :  86.87\n",
            "F1 of logistic regression model :  86.48\n",
            "F1 macro of logistic regression model :  74.59\n"
          ]
        }
      ]
    },
    {
      "cell_type": "code",
      "metadata": {
        "colab": {
          "base_uri": "https://localhost:8080/"
        },
        "id": "JIzLhYJsc6c2",
        "outputId": "596248e8-6aac-4f33-ea23-300b119bcbb7"
      },
      "source": [
        "report = classification_report(y_test, y_pred)\n",
        "print(report)"
      ],
      "execution_count": null,
      "outputs": [
        {
          "output_type": "stream",
          "name": "stdout",
          "text": [
            "              precision    recall  f1-score   support\n",
            "\n",
            "  CD4 T-cell       0.85      0.90      0.88       540\n",
            "  CD8 T-cell       0.91      0.89      0.90       547\n",
            "other T-cell       0.59      0.38      0.46        63\n",
            "\n",
            "    accuracy                           0.87      1150\n",
            "   macro avg       0.78      0.72      0.75      1150\n",
            "weighted avg       0.86      0.87      0.86      1150\n",
            "\n"
          ]
        }
      ]
    },
    {
      "cell_type": "code",
      "metadata": {
        "colab": {
          "base_uri": "https://localhost:8080/"
        },
        "id": "r1Ji_e1Jc6c3",
        "outputId": "983c0f81-5dfe-4531-b51e-bf613e721a19"
      },
      "source": [
        "cm = confusion_matrix(y_test, y_pred)\n",
        "cm"
      ],
      "execution_count": null,
      "outputs": [
        {
          "output_type": "execute_result",
          "data": {
            "text/plain": [
              "array([[487,  40,  13],\n",
              "       [ 55, 488,   4],\n",
              "       [ 28,  11,  24]])"
            ]
          },
          "metadata": {},
          "execution_count": 33
        }
      ]
    },
    {
      "cell_type": "code",
      "metadata": {
        "colab": {
          "base_uri": "https://localhost:8080/",
          "height": 559
        },
        "id": "E-1TzWBCc6c3",
        "outputId": "86708a27-eadf-4c54-89ec-26b51827631f"
      },
      "source": [
        "fig, ax= plt.subplots(figsize=(10,8))\n",
        "sns.heatmap(cm, annot=True, fmt='g', ax=ax);  #annot=True to annotate cells, ftm='g' to disable scientific notation\n",
        "\n",
        "# labels, title and ticks\n",
        "ax.set_xlabel('Predicted labels');ax.set_ylabel('True labels'); \n",
        "ax.xaxis.set_ticklabels(np.unique(y_train)); ax.yaxis.set_ticklabels(np.unique(y_train));\n",
        "plt.xticks(rotation=90)\n",
        "plt.yticks(rotation=0)\n",
        "ax.set_title('Confusion Matrix lr'); \n",
        "plt.savefig('confusion_matrix_lr_t_cells.png')\n",
        "plt.show()"
      ],
      "execution_count": null,
      "outputs": [
        {
          "output_type": "display_data",
          "data": {
            "image/png": "[encoded data removed]",
            "text/plain": [
              "<Figure size 720x576 with 2 Axes>"
            ]
          },
          "metadata": {
            "needs_background": "light"
          }
        }
      ]
    },
    {
      "cell_type": "markdown",
      "metadata": {
        "id": "AWcwzycuWdrq"
      },
      "source": [
        "### 7.2.2 CD8 cells"
      ]
    },
    {
      "cell_type": "markdown",
      "metadata": {
        "id": "ZfJWdg72sxsC"
      },
      "source": [
        "#### split data"
      ]
    },
    {
      "cell_type": "code",
      "metadata": {
        "colab": {
          "base_uri": "https://localhost:8080/"
        },
        "id": "MxQR28UAuBGe",
        "outputId": "bdf8b52c-fa59-405b-82b0-bb9cf77260b1"
      },
      "source": [
        "df = df_all[df_all['cell_type_2'] == 'CD8 T-cell']\n",
        "df['cell_state'].value_counts()"
      ],
      "execution_count": 24,
      "outputs": [
        {
          "output_type": "execute_result",
          "data": {
            "text/plain": [
              "CD8 effector memory T-cell                      694\n",
              "CD8 memory T-cell (unspecified)                 514\n",
              "CD8 resident memory T-cell                      363\n",
              "CD8 T-cell (unspecified)                        350\n",
              "CD8 activated T-cell (unspecified)              327\n",
              "CD8 exhausted T-cell (unspecified)              196\n",
              "CD8 exhausted resident memory T-cell            113\n",
              "CD8 cytotoxic T-cell (unspecified)               91\n",
              "CD8 exhausted cytotoxic T-cell (unspecified)     59\n",
              "CD8 naive T-cell                                 19\n",
              "CD8 central memory T-cell                         5\n",
              "Name: cell_state, dtype: int64"
            ]
          },
          "metadata": {},
          "execution_count": 24
        }
      ]
    },
    {
      "cell_type": "code",
      "metadata": {
        "id": "wtlqno--Wdrq"
      },
      "source": [
        "X = df.drop(columns=['cell_state', 'cell_type', 'cell_type_2'])\n",
        "y = df['cell_state']"
      ],
      "execution_count": 25,
      "outputs": []
    },
    {
      "cell_type": "code",
      "metadata": {
        "id": "Nwd6wfy2Wdrq"
      },
      "source": [
        "from sklearn.model_selection import train_test_split\n",
        "\n",
        "X_train, X_test, y_train, y_test = train_test_split(X, y, test_size=0.2, random_state=42, stratify=y)"
      ],
      "execution_count": null,
      "outputs": []
    },
    {
      "cell_type": "code",
      "metadata": {
        "colab": {
          "base_uri": "https://localhost:8080/"
        },
        "id": "xPrbXcq3Wdrr",
        "outputId": "88bd285f-5fd5-484f-86f2-80e4b707bb80"
      },
      "source": [
        "y_train.value_counts()"
      ],
      "execution_count": null,
      "outputs": [
        {
          "output_type": "execute_result",
          "data": {
            "text/plain": [
              "CD8 memory T-cell (unspecified)                 200\n",
              "CD8 exhausted resident memory T-cell            200\n",
              "CD8 exhausted cytotoxic T-cell (unspecified)    200\n",
              "CD8 effector memory T-cell                      200\n",
              "CD8 resident memory T-cell                      200\n",
              "CD8 T-cell (unspecified)                        200\n",
              "CD8 exhausted T-cell (unspecified)              200\n",
              "CD8 cytotoxic T-cell (unspecified)              200\n",
              "CD8 activated T-cell (unspecified)              200\n",
              "CD8 naive T-cell                                146\n",
              "CD8 central memory T-cell                        26\n",
              "Name: cell_state, dtype: int64"
            ]
          },
          "metadata": {},
          "execution_count": 41
        }
      ]
    },
    {
      "cell_type": "markdown",
      "metadata": {
        "id": "rN93p5jCWdrr"
      },
      "source": [
        "#### train model"
      ]
    },
    {
      "cell_type": "code",
      "metadata": {
        "id": "F-W2vNx1Wdrs"
      },
      "source": [
        "from sklearn.linear_model import LogisticRegression"
      ],
      "execution_count": null,
      "outputs": []
    },
    {
      "cell_type": "code",
      "metadata": {
        "colab": {
          "base_uri": "https://localhost:8080/"
        },
        "id": "TbDo9Tz1Wdrs",
        "outputId": "84f42f65-fde0-4a2f-d6be-f23932e82e6a"
      },
      "source": [
        "lr = LogisticRegression(max_iter=10000)\n",
        "lr.fit(X_train, y_train) # takes about 15min"
      ],
      "execution_count": null,
      "outputs": [
        {
          "output_type": "execute_result",
          "data": {
            "text/plain": [
              "LogisticRegression(max_iter=10000)"
            ]
          },
          "metadata": {},
          "execution_count": 40
        }
      ]
    },
    {
      "cell_type": "code",
      "metadata": {
        "colab": {
          "base_uri": "https://localhost:8080/"
        },
        "id": "gyj5Yy7uWdrs",
        "outputId": "0146d6c7-d32b-4bc5-ea90-f9e1c6b2136b"
      },
      "source": [
        "from sklearn.model_selection import cross_val_score\n",
        "lr_scores = cross_val_score(lr, X_train, y_train, cv=5, scoring='f1_weighted')\n",
        "lr_scores"
      ],
      "execution_count": null,
      "outputs": [
        {
          "output_type": "stream",
          "name": "stderr",
          "text": [
            "/usr/local/lib/python3.7/dist-packages/sklearn/model_selection/_split.py:672: UserWarning: The least populated class in y has only 4 members, which is less than n_splits=5.\n",
            "  % (min_groups, self.n_splits)), UserWarning)\n"
          ]
        },
        {
          "output_type": "execute_result",
          "data": {
            "text/plain": [
              "array([0.64856581, 0.6540569 , 0.6918707 , 0.59607428, 0.58630845])"
            ]
          },
          "metadata": {},
          "execution_count": 41
        }
      ]
    },
    {
      "cell_type": "code",
      "metadata": {
        "colab": {
          "base_uri": "https://localhost:8080/"
        },
        "id": "UQvvStw4Wdrs",
        "outputId": "0925a73c-01d3-49df-d7d3-c1028723e350"
      },
      "source": [
        "# save the model to disk\n",
        "import joblib\n",
        "filename = 'lr_model_cd8_unbalanced.sav'\n",
        "joblib.dump(lr, filename)"
      ],
      "execution_count": null,
      "outputs": [
        {
          "output_type": "execute_result",
          "data": {
            "text/plain": [
              "['lr_model_cd8_unbalanced.sav']"
            ]
          },
          "metadata": {},
          "execution_count": 42
        }
      ]
    },
    {
      "cell_type": "markdown",
      "metadata": {
        "id": "XgfRWDvaWdrs"
      },
      "source": [
        "#### evaluate model"
      ]
    },
    {
      "cell_type": "code",
      "metadata": {
        "id": "UCBI2mF6Wdrs"
      },
      "source": [
        "from sklearn.metrics import classification_report\n",
        "from sklearn.metrics import confusion_matrix\n",
        "from sklearn import metrics"
      ],
      "execution_count": null,
      "outputs": []
    },
    {
      "cell_type": "code",
      "metadata": {
        "id": "wB_si3r2Wdrs"
      },
      "source": [
        "# # load model\n",
        "# import joblib\n",
        "# filename = '/content/gdrive/MyDrive/Idorsia Capstone Project/models/lr_model_t_cells.sav'\n",
        "# lr = joblib.load(filename)\n",
        "# # result = clf.score(X_test, y_test)\n",
        "# # print(result)"
      ],
      "execution_count": null,
      "outputs": []
    },
    {
      "cell_type": "code",
      "metadata": {
        "colab": {
          "base_uri": "https://localhost:8080/"
        },
        "id": "xcp2tTVNWdrt",
        "outputId": "924b2f80-5aa7-48c6-da7b-e0c581831e50"
      },
      "source": [
        "# Prediction on test set\n",
        "y_pred = lr.predict(X_test)\n",
        "\n",
        "# Calculating the accuracy and F1\n",
        "acc_lr = round( metrics.accuracy_score(y_test, y_pred) * 100, 2 )\n",
        "f1_lr = round(metrics.f1_score(y_test, y_pred, average='weighted') * 100, 2)\n",
        "f1_lr_macro = round(metrics.f1_score(y_test, y_pred, average='macro') * 100, 2)\n",
        "print('Accuracy of logistic regression model : ', acc_lr)\n",
        "print('F1 of logistic regression model : ', f1_lr)\n",
        "print('F1 macro of logistic regression model : ', f1_lr_macro)"
      ],
      "execution_count": null,
      "outputs": [
        {
          "output_type": "stream",
          "name": "stdout",
          "text": [
            "Accuracy of logistic regression model :  63.07\n",
            "F1 of logistic regression model :  61.43\n",
            "F1 macro of logistic regression model :  42.35\n"
          ]
        }
      ]
    },
    {
      "cell_type": "code",
      "metadata": {
        "colab": {
          "base_uri": "https://localhost:8080/"
        },
        "id": "9cC1aKwIWdrt",
        "outputId": "1001404e-374f-4487-e36e-83e4f5e87172"
      },
      "source": [
        "report = classification_report(y_test, y_pred)\n",
        "print(report)"
      ],
      "execution_count": null,
      "outputs": [
        {
          "output_type": "stream",
          "name": "stdout",
          "text": [
            "                                              precision    recall  f1-score   support\n",
            "\n",
            "                    CD8 T-cell (unspecified)       0.38      0.34      0.36        70\n",
            "          CD8 activated T-cell (unspecified)       0.62      0.60      0.61        65\n",
            "                   CD8 central memory T-cell       0.00      0.00      0.00         1\n",
            "          CD8 cytotoxic T-cell (unspecified)       0.40      0.11      0.17        18\n",
            "                  CD8 effector memory T-cell       0.59      0.73      0.65       139\n",
            "          CD8 exhausted T-cell (unspecified)       0.81      0.54      0.65        39\n",
            "CD8 exhausted cytotoxic T-cell (unspecified)       0.38      0.25      0.30        12\n",
            "        CD8 exhausted resident memory T-cell       0.50      0.30      0.38        23\n",
            "             CD8 memory T-cell (unspecified)       0.88      0.96      0.92       103\n",
            "                            CD8 naive T-cell       0.00      0.00      0.00         4\n",
            "                  CD8 resident memory T-cell       0.59      0.66      0.62        73\n",
            "\n",
            "                                    accuracy                           0.63       547\n",
            "                                   macro avg       0.47      0.41      0.42       547\n",
            "                                weighted avg       0.62      0.63      0.61       547\n",
            "\n"
          ]
        },
        {
          "output_type": "stream",
          "name": "stderr",
          "text": [
            "/usr/local/lib/python3.7/dist-packages/sklearn/metrics/_classification.py:1221: UndefinedMetricWarning: Precision and F-score are ill-defined and being set to 0.0 in labels with no predicted samples. Use `zero_division` parameter to control this behavior.\n",
            "  _warn_prf(average, modifier, msg_start, len(result))\n"
          ]
        }
      ]
    },
    {
      "cell_type": "code",
      "metadata": {
        "colab": {
          "base_uri": "https://localhost:8080/"
        },
        "id": "WD1xsTSVWdrt",
        "outputId": "a85c20fb-0874-4e8f-87e5-3079ec189a2e"
      },
      "source": [
        "cm = confusion_matrix(y_test, y_pred)\n",
        "cm"
      ],
      "execution_count": null,
      "outputs": [
        {
          "output_type": "execute_result",
          "data": {
            "text/plain": [
              "array([[ 24,   9,   0,   0,  26,   0,   0,   1,   2,   0,   8],\n",
              "       [ 10,  39,   0,   0,  13,   0,   0,   0,   2,   0,   1],\n",
              "       [  0,   0,   0,   0,   1,   0,   0,   0,   0,   0,   0],\n",
              "       [  1,   1,   0,   2,  12,   0,   1,   0,   0,   0,   1],\n",
              "       [ 15,   5,   0,   1, 102,   0,   1,   0,   6,   0,   9],\n",
              "       [  1,   3,   0,   0,   5,  21,   1,   0,   4,   0,   4],\n",
              "       [  0,   1,   0,   1,   2,   2,   3,   1,   0,   0,   2],\n",
              "       [  3,   1,   0,   0,   1,   1,   1,   7,   0,   0,   9],\n",
              "       [  0,   1,   0,   0,   2,   1,   0,   0,  99,   0,   0],\n",
              "       [  4,   0,   0,   0,   0,   0,   0,   0,   0,   0,   0],\n",
              "       [  5,   3,   0,   1,   9,   1,   1,   5,   0,   0,  48]])"
            ]
          },
          "metadata": {},
          "execution_count": 47
        }
      ]
    },
    {
      "cell_type": "code",
      "metadata": {
        "colab": {
          "base_uri": "https://localhost:8080/",
          "height": 725
        },
        "id": "4KyMuWsdWdrt",
        "outputId": "bbe619c2-d878-4f66-8781-b03bf5724ea4"
      },
      "source": [
        "fig, ax= plt.subplots(figsize=(10,8))\n",
        "sns.heatmap(cm, annot=True, fmt='g', ax=ax);  #annot=True to annotate cells, ftm='g' to disable scientific notation\n",
        "\n",
        "# labels, title and ticks\n",
        "ax.set_xlabel('Predicted labels');ax.set_ylabel('True labels'); \n",
        "ax.xaxis.set_ticklabels(np.unique(y_train)); ax.yaxis.set_ticklabels(np.unique(y_train));\n",
        "plt.xticks(rotation=90)\n",
        "plt.yticks(rotation=0)\n",
        "ax.set_title('Confusion Matrix lr'); \n",
        "plt.savefig('confusion_matrix_lr_t_cells.png')\n",
        "plt.show()"
      ],
      "execution_count": null,
      "outputs": [
        {
          "output_type": "display_data",
          "data": {
            "image/png": "[encoded data removed]",
            "text/plain": [
              "<Figure size 720x576 with 2 Axes>"
            ]
          },
          "metadata": {
            "needs_background": "light"
          }
        }
      ]
    },
    {
      "cell_type": "markdown",
      "metadata": {
        "id": "hVjzkdZPTRam"
      },
      "source": [
        "### 7.2.3 CD4 cells"
      ]
    },
    {
      "cell_type": "markdown",
      "metadata": {
        "id": "FCORhx44TRam"
      },
      "source": [
        "#### split data"
      ]
    },
    {
      "cell_type": "code",
      "metadata": {
        "colab": {
          "base_uri": "https://localhost:8080/"
        },
        "id": "lg6gD2BsTRam",
        "outputId": "63749431-6845-4166-e320-1812d5872907"
      },
      "source": [
        "df = df_all[df_all['cell_type_2'] == 'CD4 T-cell']\n",
        "df['cell_state'].value_counts()"
      ],
      "execution_count": 26,
      "outputs": [
        {
          "output_type": "execute_result",
          "data": {
            "text/plain": [
              "CD4 naive T-cell                       806\n",
              "CD4 regulatory T-cell (unspecified)    777\n",
              "CD4 helper T-cell (unspecified)        605\n",
              "CD4 follicular helper T-cell           430\n",
              "CD4 T-cell (unspecified)                72\n",
              "CD4 central memory T-cell               11\n",
              "Name: cell_state, dtype: int64"
            ]
          },
          "metadata": {},
          "execution_count": 26
        }
      ]
    },
    {
      "cell_type": "code",
      "metadata": {
        "id": "ClQCGONLTRan"
      },
      "source": [
        "X = df.drop(columns=['cell_state', 'cell_type', 'cell_type_2'])\n",
        "y = df['cell_state']"
      ],
      "execution_count": 27,
      "outputs": []
    },
    {
      "cell_type": "code",
      "metadata": {
        "id": "z0k9f-0cTRan"
      },
      "source": [
        "from sklearn.model_selection import train_test_split\n",
        "\n",
        "X_train, X_test, y_train, y_test = train_test_split(X, y, test_size=0.2, random_state=42, stratify=y)"
      ],
      "execution_count": null,
      "outputs": []
    },
    {
      "cell_type": "code",
      "metadata": {
        "colab": {
          "base_uri": "https://localhost:8080/"
        },
        "id": "PNE723jWTRan",
        "outputId": "736f6c2a-a7ba-4d8c-f110-2171827ad534"
      },
      "source": [
        "y_train.value_counts()"
      ],
      "execution_count": null,
      "outputs": [
        {
          "output_type": "execute_result",
          "data": {
            "text/plain": [
              "CD4 follicular helper T-cell           200\n",
              "CD4 regulatory T-cell (unspecified)    200\n",
              "CD4 T-cell (unspecified)               200\n",
              "CD4 helper T-cell (unspecified)        200\n",
              "CD4 naive T-cell                       200\n",
              "CD4 central memory T-cell               42\n",
              "Name: cell_state, dtype: int64"
            ]
          },
          "metadata": {},
          "execution_count": 71
        }
      ]
    },
    {
      "cell_type": "markdown",
      "metadata": {
        "id": "zcahPB7fTRan"
      },
      "source": [
        "#### train model"
      ]
    },
    {
      "cell_type": "code",
      "metadata": {
        "id": "Te7IszvoTRan"
      },
      "source": [
        "from sklearn.linear_model import LogisticRegression"
      ],
      "execution_count": null,
      "outputs": []
    },
    {
      "cell_type": "code",
      "metadata": {
        "colab": {
          "base_uri": "https://localhost:8080/"
        },
        "id": "faFArIgATRan",
        "outputId": "7fe1b97f-e22b-4c5a-ac68-0aea7895af93"
      },
      "source": [
        "lr = LogisticRegression(max_iter=10000)\n",
        "lr.fit(X_train, y_train) # takes about 15min"
      ],
      "execution_count": null,
      "outputs": [
        {
          "output_type": "execute_result",
          "data": {
            "text/plain": [
              "LogisticRegression(max_iter=10000)"
            ]
          },
          "metadata": {},
          "execution_count": 54
        }
      ]
    },
    {
      "cell_type": "code",
      "metadata": {
        "id": "iuDhoL3HTRao",
        "colab": {
          "base_uri": "https://localhost:8080/"
        },
        "outputId": "d5ae4607-0e22-43dc-bc59-ee4c5bb49d58"
      },
      "source": [
        "from sklearn.model_selection import cross_val_score\n",
        "lr_scores = cross_val_score(lr, X_train, y_train, cv=5, scoring='f1_weighted')\n",
        "lr_scores"
      ],
      "execution_count": null,
      "outputs": [
        {
          "output_type": "execute_result",
          "data": {
            "text/plain": [
              "array([0.85298871, 0.81238776, 0.82578656, 0.81837299, 0.82391955])"
            ]
          },
          "metadata": {},
          "execution_count": 55
        }
      ]
    },
    {
      "cell_type": "code",
      "metadata": {
        "colab": {
          "base_uri": "https://localhost:8080/"
        },
        "id": "rdK794AnTRao",
        "outputId": "554a54f4-837e-491c-9463-fe0eb7c67b10"
      },
      "source": [
        "# save the model to disk\n",
        "import joblib\n",
        "filename = 'lr_model_cd4_unbalanced.sav'\n",
        "joblib.dump(lr, filename)"
      ],
      "execution_count": null,
      "outputs": [
        {
          "output_type": "execute_result",
          "data": {
            "text/plain": [
              "['lr_model_cd4_unbalanced.sav']"
            ]
          },
          "metadata": {},
          "execution_count": 56
        }
      ]
    },
    {
      "cell_type": "markdown",
      "metadata": {
        "id": "Sk5pUUQETRao"
      },
      "source": [
        "#### evaluate model"
      ]
    },
    {
      "cell_type": "code",
      "metadata": {
        "id": "w8EpSFSUTRao"
      },
      "source": [
        "from sklearn.metrics import classification_report\n",
        "from sklearn.metrics import confusion_matrix\n",
        "from sklearn import metrics"
      ],
      "execution_count": null,
      "outputs": []
    },
    {
      "cell_type": "code",
      "metadata": {
        "id": "-8FOhlaFTRao"
      },
      "source": [
        "# # load model\n",
        "# import joblib\n",
        "# filename = '/content/gdrive/MyDrive/Idorsia Capstone Project/models/lr_model_t_cells.sav'\n",
        "# lr = joblib.load(filename)\n",
        "# # result = clf.score(X_test, y_test)\n",
        "# # print(result)"
      ],
      "execution_count": null,
      "outputs": []
    },
    {
      "cell_type": "code",
      "metadata": {
        "colab": {
          "base_uri": "https://localhost:8080/"
        },
        "id": "tElmYXorTRao",
        "outputId": "972ac955-92c1-47ba-dcfe-f7deabf1a35b"
      },
      "source": [
        "# Prediction on test set\n",
        "y_pred = lr.predict(X_test)\n",
        "\n",
        "# Calculating the accuracy and F1\n",
        "acc_lr = round( metrics.accuracy_score(y_test, y_pred) * 100, 2 )\n",
        "f1_lr = round(metrics.f1_score(y_test, y_pred, average='weighted') * 100, 2)\n",
        "f1_lr_macro = round(metrics.f1_score(y_test, y_pred, average='macro') * 100, 2)\n",
        "print('Accuracy of logistic regression model : ', acc_lr)\n",
        "print('F1 of logistic regression model : ', f1_lr)\n",
        "print('F1 macro of logistic regression model : ', f1_lr_macro)"
      ],
      "execution_count": null,
      "outputs": [
        {
          "output_type": "stream",
          "name": "stdout",
          "text": [
            "Accuracy of logistic regression model :  85.95\n",
            "F1 of logistic regression model :  84.68\n",
            "F1 macro of logistic regression model :  57.96\n"
          ]
        }
      ]
    },
    {
      "cell_type": "code",
      "metadata": {
        "colab": {
          "base_uri": "https://localhost:8080/"
        },
        "id": "ZlrYVse4TRao",
        "outputId": "ecdb5ce5-3fb8-4bf6-ba69-87d9ab4bb0b9"
      },
      "source": [
        "report = classification_report(y_test, y_pred)\n",
        "print(report)"
      ],
      "execution_count": null,
      "outputs": [
        {
          "output_type": "stream",
          "name": "stdout",
          "text": [
            "                                     precision    recall  f1-score   support\n",
            "\n",
            "           CD4 T-cell (unspecified)       0.00      0.00      0.00        14\n",
            "          CD4 central memory T-cell       0.00      0.00      0.00         2\n",
            "       CD4 follicular helper T-cell       0.86      0.91      0.88        86\n",
            "    CD4 helper T-cell (unspecified)       0.79      0.82      0.80       121\n",
            "                   CD4 naive T-cell       0.87      0.91      0.89       162\n",
            "CD4 regulatory T-cell (unspecified)       0.91      0.90      0.90       156\n",
            "\n",
            "                           accuracy                           0.86       541\n",
            "                          macro avg       0.57      0.59      0.58       541\n",
            "                       weighted avg       0.83      0.86      0.85       541\n",
            "\n"
          ]
        },
        {
          "output_type": "stream",
          "name": "stderr",
          "text": [
            "/usr/local/lib/python3.7/dist-packages/sklearn/metrics/_classification.py:1221: UndefinedMetricWarning: Precision and F-score are ill-defined and being set to 0.0 in labels with no predicted samples. Use `zero_division` parameter to control this behavior.\n",
            "  _warn_prf(average, modifier, msg_start, len(result))\n"
          ]
        }
      ]
    },
    {
      "cell_type": "code",
      "metadata": {
        "colab": {
          "base_uri": "https://localhost:8080/"
        },
        "id": "Sh1_0T6STRao",
        "outputId": "21bb7cb2-6674-48b3-d265-275e0e12c5e6"
      },
      "source": [
        "cm = confusion_matrix(y_test, y_pred)\n",
        "cm"
      ],
      "execution_count": null,
      "outputs": [
        {
          "output_type": "execute_result",
          "data": {
            "text/plain": [
              "array([[  0,   0,   1,   7,   4,   2],\n",
              "       [  0,   0,   0,   0,   2,   0],\n",
              "       [  0,   0,  78,   3,   1,   4],\n",
              "       [  0,   0,   4,  99,  11,   7],\n",
              "       [  0,   0,   4,   9, 148,   1],\n",
              "       [  0,   0,   4,   8,   4, 140]])"
            ]
          },
          "metadata": {},
          "execution_count": 61
        }
      ]
    },
    {
      "cell_type": "code",
      "metadata": {
        "colab": {
          "base_uri": "https://localhost:8080/",
          "height": 676
        },
        "id": "mQ8XYtLGTRap",
        "outputId": "68ee1f17-b12a-4ebe-c994-929b408ab2dd"
      },
      "source": [
        "fig, ax= plt.subplots(figsize=(10,8))\n",
        "sns.heatmap(cm, annot=True, fmt='g', ax=ax);  #annot=True to annotate cells, ftm='g' to disable scientific notation\n",
        "\n",
        "# labels, title and ticks\n",
        "ax.set_xlabel('Predicted labels');ax.set_ylabel('True labels'); \n",
        "ax.xaxis.set_ticklabels(np.unique(y_train)); ax.yaxis.set_ticklabels(np.unique(y_train));\n",
        "plt.xticks(rotation=90)\n",
        "plt.yticks(rotation=0)\n",
        "ax.set_title('Confusion Matrix lr'); \n",
        "plt.savefig('confusion_matrix_lr_t_cells.png')\n",
        "plt.show()"
      ],
      "execution_count": null,
      "outputs": [
        {
          "output_type": "display_data",
          "data": {
            "image/png": "[encoded data removed]",
            "text/plain": [
              "<Figure size 720x576 with 2 Axes>"
            ]
          },
          "metadata": {
            "needs_background": "light"
          }
        }
      ]
    },
    {
      "cell_type": "markdown",
      "metadata": {
        "id": "jTCnnLBPtHbk"
      },
      "source": [
        "### 7.2.4 other T-cells"
      ]
    },
    {
      "cell_type": "markdown",
      "metadata": {
        "id": "AMM2CjxRtHbl"
      },
      "source": [
        "#### split data"
      ]
    },
    {
      "cell_type": "code",
      "metadata": {
        "colab": {
          "base_uri": "https://localhost:8080/"
        },
        "id": "njGRhQLDtHbl",
        "outputId": "31e880dd-8e12-4876-f8f3-6fe3f9e15680"
      },
      "source": [
        "df = df_all[df_all['cell_type_2'] == 'other T-cell']\n",
        "df['cell_state'].value_counts()"
      ],
      "execution_count": 28,
      "outputs": [
        {
          "output_type": "execute_result",
          "data": {
            "text/plain": [
              "NK T-cell (unspecified)    127\n",
              "Th17 T-cell                121\n",
              "T-cell (unspecified)        63\n",
              "gd T-cell (unspecified)      4\n",
              "Name: cell_state, dtype: int64"
            ]
          },
          "metadata": {},
          "execution_count": 28
        }
      ]
    },
    {
      "cell_type": "code",
      "metadata": {
        "id": "34iSaPcVtHbl"
      },
      "source": [
        "X = df.drop(columns=['cell_state', 'cell_type', 'cell_type_2'])\n",
        "y = df['cell_state']"
      ],
      "execution_count": 29,
      "outputs": []
    },
    {
      "cell_type": "code",
      "metadata": {
        "id": "U13iusnntHbl"
      },
      "source": [
        "from sklearn.model_selection import train_test_split\n",
        "\n",
        "X_train, X_test, y_train, y_test = train_test_split(X, y, test_size=0.2, random_state=42, stratify=y)"
      ],
      "execution_count": null,
      "outputs": []
    },
    {
      "cell_type": "code",
      "metadata": {
        "colab": {
          "base_uri": "https://localhost:8080/"
        },
        "id": "8neC2ui0tHbm",
        "outputId": "eabafe6f-54b0-418e-ef34-b9c1caf296c6"
      },
      "source": [
        "y_train.value_counts()"
      ],
      "execution_count": null,
      "outputs": [
        {
          "output_type": "execute_result",
          "data": {
            "text/plain": [
              "T-cell (unspecified)       200\n",
              "Th17 T-cell                200\n",
              "NK T-cell (unspecified)    200\n",
              "gd T-cell (unspecified)     15\n",
              "Name: cell_state, dtype: int64"
            ]
          },
          "metadata": {},
          "execution_count": 104
        }
      ]
    },
    {
      "cell_type": "markdown",
      "metadata": {
        "id": "euMjqucxtHbm"
      },
      "source": [
        "#### train model"
      ]
    },
    {
      "cell_type": "code",
      "metadata": {
        "id": "7hKuH9fWtHbm"
      },
      "source": [
        "from sklearn.linear_model import LogisticRegression"
      ],
      "execution_count": null,
      "outputs": []
    },
    {
      "cell_type": "code",
      "metadata": {
        "colab": {
          "base_uri": "https://localhost:8080/"
        },
        "id": "Wi1FKb-XtHbm",
        "outputId": "12a20431-5cb5-49c0-d4d8-a5e64aa958db"
      },
      "source": [
        "lr = LogisticRegression(max_iter=10000)\n",
        "lr.fit(X_train, y_train) # takes about 15min"
      ],
      "execution_count": null,
      "outputs": [
        {
          "output_type": "execute_result",
          "data": {
            "text/plain": [
              "LogisticRegression(max_iter=10000)"
            ]
          },
          "metadata": {},
          "execution_count": 68
        }
      ]
    },
    {
      "cell_type": "code",
      "metadata": {
        "id": "xMV1CoP9tHbm",
        "colab": {
          "base_uri": "https://localhost:8080/"
        },
        "outputId": "ec7dfdca-cd36-4390-caaf-958938644c5f"
      },
      "source": [
        "from sklearn.model_selection import cross_val_score\n",
        "lr_scores = cross_val_score(lr, X_train, y_train, cv=5, scoring='f1_weighted')\n",
        "lr_scores"
      ],
      "execution_count": null,
      "outputs": [
        {
          "output_type": "stream",
          "name": "stderr",
          "text": [
            "/usr/local/lib/python3.7/dist-packages/sklearn/model_selection/_split.py:672: UserWarning: The least populated class in y has only 3 members, which is less than n_splits=5.\n",
            "  % (min_groups, self.n_splits)), UserWarning)\n"
          ]
        },
        {
          "output_type": "execute_result",
          "data": {
            "text/plain": [
              "array([0.8666645 , 0.86702752, 0.93868687, 0.9163842 , 0.95154791])"
            ]
          },
          "metadata": {},
          "execution_count": 69
        }
      ]
    },
    {
      "cell_type": "code",
      "metadata": {
        "colab": {
          "base_uri": "https://localhost:8080/"
        },
        "id": "qFoIJg7UtHbm",
        "outputId": "e1130fef-0341-4e6f-bdfc-73973fa3f32f"
      },
      "source": [
        "# save the model to disk\n",
        "import joblib\n",
        "filename = 'lr_model_other-t-cell_unbalanced.sav'\n",
        "joblib.dump(lr, filename)"
      ],
      "execution_count": null,
      "outputs": [
        {
          "output_type": "execute_result",
          "data": {
            "text/plain": [
              "['lr_model_other-t-cell_unbalanced.sav']"
            ]
          },
          "metadata": {},
          "execution_count": 70
        }
      ]
    },
    {
      "cell_type": "markdown",
      "metadata": {
        "id": "1D_JEUuMtHbn"
      },
      "source": [
        "#### evaluate model"
      ]
    },
    {
      "cell_type": "code",
      "metadata": {
        "id": "1145kUmAtHbn"
      },
      "source": [
        "from sklearn.metrics import classification_report\n",
        "from sklearn.metrics import confusion_matrix\n",
        "from sklearn import metrics"
      ],
      "execution_count": null,
      "outputs": []
    },
    {
      "cell_type": "code",
      "metadata": {
        "id": "EtoAOU1KtHbn"
      },
      "source": [
        "# # load model\n",
        "# import joblib\n",
        "# filename = '/content/gdrive/MyDrive/Idorsia Capstone Project/models/lr_model_t_cells.sav'\n",
        "# lr = joblib.load(filename)\n",
        "# # result = clf.score(X_test, y_test)\n",
        "# # print(result)"
      ],
      "execution_count": null,
      "outputs": []
    },
    {
      "cell_type": "code",
      "metadata": {
        "colab": {
          "base_uri": "https://localhost:8080/"
        },
        "id": "bIaxO3LBtHbn",
        "outputId": "e465fd1c-0c9c-4461-9d44-08802ae0465f"
      },
      "source": [
        "# Prediction on test set\n",
        "y_pred = lr.predict(X_test)\n",
        "\n",
        "# Calculating the accuracy and F1\n",
        "acc_lr = round( metrics.accuracy_score(y_test, y_pred) * 100, 2 )\n",
        "f1_lr = round(metrics.f1_score(y_test, y_pred, average='weighted') * 100, 2)\n",
        "f1_lr_macro = round(metrics.f1_score(y_test, y_pred, average='macro') * 100, 2)\n",
        "print('Accuracy of logistic regression model : ', acc_lr)\n",
        "print('F1 of logistic regression model : ', f1_lr)\n",
        "print('F1 macro of logistic regression model : ', f1_lr_macro)"
      ],
      "execution_count": null,
      "outputs": [
        {
          "output_type": "stream",
          "name": "stdout",
          "text": [
            "Accuracy of logistic regression model :  95.24\n",
            "F1 of logistic regression model :  94.39\n",
            "F1 macro of logistic regression model :  71.44\n"
          ]
        }
      ]
    },
    {
      "cell_type": "code",
      "metadata": {
        "colab": {
          "base_uri": "https://localhost:8080/"
        },
        "id": "SJpX4s3MtHbn",
        "outputId": "400dfcac-b352-4333-fe86-6eba02dc52c6"
      },
      "source": [
        "report = classification_report(y_test, y_pred)\n",
        "print(report)"
      ],
      "execution_count": null,
      "outputs": [
        {
          "output_type": "stream",
          "name": "stdout",
          "text": [
            "                         precision    recall  f1-score   support\n",
            "\n",
            "NK T-cell (unspecified)       0.93      1.00      0.96        25\n",
            "   T-cell (unspecified)       1.00      0.85      0.92        13\n",
            "            Th17 T-cell       0.96      1.00      0.98        24\n",
            "gd T-cell (unspecified)       0.00      0.00      0.00         1\n",
            "\n",
            "               accuracy                           0.95        63\n",
            "              macro avg       0.72      0.71      0.71        63\n",
            "           weighted avg       0.94      0.95      0.94        63\n",
            "\n"
          ]
        },
        {
          "output_type": "stream",
          "name": "stderr",
          "text": [
            "/usr/local/lib/python3.7/dist-packages/sklearn/metrics/_classification.py:1221: UndefinedMetricWarning: Precision and F-score are ill-defined and being set to 0.0 in labels with no predicted samples. Use `zero_division` parameter to control this behavior.\n",
            "  _warn_prf(average, modifier, msg_start, len(result))\n"
          ]
        }
      ]
    },
    {
      "cell_type": "code",
      "metadata": {
        "colab": {
          "base_uri": "https://localhost:8080/"
        },
        "id": "Gs4URwaptHbn",
        "outputId": "d878403a-cde8-46ce-82cd-06435b1002a4"
      },
      "source": [
        "cm = confusion_matrix(y_test, y_pred)\n",
        "cm"
      ],
      "execution_count": null,
      "outputs": [
        {
          "output_type": "execute_result",
          "data": {
            "text/plain": [
              "array([[25,  0,  0,  0],\n",
              "       [ 1, 11,  1,  0],\n",
              "       [ 0,  0, 24,  0],\n",
              "       [ 1,  0,  0,  0]])"
            ]
          },
          "metadata": {},
          "execution_count": 75
        }
      ]
    },
    {
      "cell_type": "code",
      "metadata": {
        "colab": {
          "base_uri": "https://localhost:8080/",
          "height": 615
        },
        "id": "yVa5zaPDtHbo",
        "outputId": "7a9d0747-7b8e-4e5a-f0a5-d7136333cfb6"
      },
      "source": [
        "fig, ax= plt.subplots(figsize=(10,8))\n",
        "sns.heatmap(cm, annot=True, fmt='g', ax=ax);  #annot=True to annotate cells, ftm='g' to disable scientific notation\n",
        "\n",
        "# labels, title and ticks\n",
        "ax.set_xlabel('Predicted labels');ax.set_ylabel('True labels'); \n",
        "ax.xaxis.set_ticklabels(np.unique(y_train)); ax.yaxis.set_ticklabels(np.unique(y_train));\n",
        "plt.xticks(rotation=90)\n",
        "plt.yticks(rotation=0)\n",
        "ax.set_title('Confusion Matrix lr'); \n",
        "plt.savefig('confusion_matrix_lr_t_cells.png')\n",
        "plt.show()"
      ],
      "execution_count": null,
      "outputs": [
        {
          "output_type": "display_data",
          "data": {
            "image/png": "[encoded data removed]",
            "text/plain": [
              "<Figure size 720x576 with 2 Axes>"
            ]
          },
          "metadata": {
            "needs_background": "light"
          }
        }
      ]
    },
    {
      "cell_type": "markdown",
      "metadata": {
        "id": "imOyWJkHk1WG"
      },
      "source": [
        "# 8. Other Major Cell Types\n",
        "**All these cell types do not need a model since there are no subclasse**"
      ]
    },
    {
      "cell_type": "markdown",
      "metadata": {
        "id": "sPV8kIo4WF3f"
      },
      "source": [
        "## 8.1 Myeloid Cells"
      ]
    },
    {
      "cell_type": "code",
      "metadata": {
        "id": "VQ2x09qzWJ4S"
      },
      "source": [
        "df_myeloid = data[data['cell_type'] == 'myeloid cell']"
      ],
      "execution_count": 30,
      "outputs": []
    },
    {
      "cell_type": "code",
      "metadata": {
        "colab": {
          "base_uri": "https://localhost:8080/",
          "height": 81
        },
        "id": "wl8jISuBWQRT",
        "outputId": "3547b6d2-da7e-4a26-b2d4-a102fe1aceea"
      },
      "source": [
        "count_celltype = pd.concat([pd.DataFrame({'count': df_myeloid['cell_state'].value_counts()}), pd.DataFrame({'percentage': df_myeloid['cell_state'].value_counts(normalize=True)})], axis=1)\n",
        "count_celltype"
      ],
      "execution_count": 31,
      "outputs": [
        {
          "output_type": "execute_result",
          "data": {
            "text/html": [
              "<div>\n",
              "<style scoped>\n",
              "    .dataframe tbody tr th:only-of-type {\n",
              "        vertical-align: middle;\n",
              "    }\n",
              "\n",
              "    .dataframe tbody tr th {\n",
              "        vertical-align: top;\n",
              "    }\n",
              "\n",
              "    .dataframe thead th {\n",
              "        text-align: right;\n",
              "    }\n",
              "</style>\n",
              "<table border=\"1\" class=\"dataframe\">\n",
              "  <thead>\n",
              "    <tr style=\"text-align: right;\">\n",
              "      <th></th>\n",
              "      <th>count</th>\n",
              "      <th>percentage</th>\n",
              "    </tr>\n",
              "  </thead>\n",
              "  <tbody>\n",
              "    <tr>\n",
              "      <th>myeloid cell (unspecified)</th>\n",
              "      <td>6</td>\n",
              "      <td>1.0</td>\n",
              "    </tr>\n",
              "  </tbody>\n",
              "</table>\n",
              "</div>"
            ],
            "text/plain": [
              "                            count  percentage\n",
              "myeloid cell (unspecified)      6         1.0"
            ]
          },
          "metadata": {},
          "execution_count": 31
        }
      ]
    },
    {
      "cell_type": "markdown",
      "metadata": {
        "id": "MTZynAGLWXEv"
      },
      "source": [
        "## 8.2 Plasma Cells"
      ]
    },
    {
      "cell_type": "code",
      "metadata": {
        "id": "wD-zE-KxWXEy"
      },
      "source": [
        "df_plasma = data[data['cell_type'] == 'plasma cell']"
      ],
      "execution_count": 32,
      "outputs": []
    },
    {
      "cell_type": "code",
      "metadata": {
        "colab": {
          "base_uri": "https://localhost:8080/",
          "height": 81
        },
        "id": "Akd4yRkgWXEz",
        "outputId": "aaa3f9aa-d7e4-407d-b343-220f6ddf8ced"
      },
      "source": [
        "count_celltype = pd.concat([pd.DataFrame({'count': df_plasma['cell_state'].value_counts()}), pd.DataFrame({'percentage': df_plasma['cell_state'].value_counts(normalize=True)})], axis=1)\n",
        "count_celltype"
      ],
      "execution_count": 33,
      "outputs": [
        {
          "output_type": "execute_result",
          "data": {
            "text/html": [
              "<div>\n",
              "<style scoped>\n",
              "    .dataframe tbody tr th:only-of-type {\n",
              "        vertical-align: middle;\n",
              "    }\n",
              "\n",
              "    .dataframe tbody tr th {\n",
              "        vertical-align: top;\n",
              "    }\n",
              "\n",
              "    .dataframe thead th {\n",
              "        text-align: right;\n",
              "    }\n",
              "</style>\n",
              "<table border=\"1\" class=\"dataframe\">\n",
              "  <thead>\n",
              "    <tr style=\"text-align: right;\">\n",
              "      <th></th>\n",
              "      <th>count</th>\n",
              "      <th>percentage</th>\n",
              "    </tr>\n",
              "  </thead>\n",
              "  <tbody>\n",
              "    <tr>\n",
              "      <th>plasma cell</th>\n",
              "      <td>226</td>\n",
              "      <td>1.0</td>\n",
              "    </tr>\n",
              "  </tbody>\n",
              "</table>\n",
              "</div>"
            ],
            "text/plain": [
              "             count  percentage\n",
              "plasma cell    226         1.0"
            ]
          },
          "metadata": {},
          "execution_count": 33
        }
      ]
    },
    {
      "cell_type": "markdown",
      "metadata": {
        "id": "Nuh3xo2yWhDV"
      },
      "source": [
        "## 8.3 Mast Cells"
      ]
    },
    {
      "cell_type": "code",
      "metadata": {
        "id": "S7QNxSqTWhDd"
      },
      "source": [
        "df_mast = data[data['cell_type'] == 'mast cell']"
      ],
      "execution_count": 34,
      "outputs": []
    },
    {
      "cell_type": "code",
      "metadata": {
        "colab": {
          "base_uri": "https://localhost:8080/",
          "height": 81
        },
        "id": "6i58lxxcWhDd",
        "outputId": "55ecef4a-129a-4246-f759-677a2801e99d"
      },
      "source": [
        "count_celltype = pd.concat([pd.DataFrame({'count': df_mast['cell_state'].value_counts()}), pd.DataFrame({'percentage': df_mast['cell_state'].value_counts(normalize=True)})], axis=1)\n",
        "count_celltype"
      ],
      "execution_count": 35,
      "outputs": [
        {
          "output_type": "execute_result",
          "data": {
            "text/html": [
              "<div>\n",
              "<style scoped>\n",
              "    .dataframe tbody tr th:only-of-type {\n",
              "        vertical-align: middle;\n",
              "    }\n",
              "\n",
              "    .dataframe tbody tr th {\n",
              "        vertical-align: top;\n",
              "    }\n",
              "\n",
              "    .dataframe thead th {\n",
              "        text-align: right;\n",
              "    }\n",
              "</style>\n",
              "<table border=\"1\" class=\"dataframe\">\n",
              "  <thead>\n",
              "    <tr style=\"text-align: right;\">\n",
              "      <th></th>\n",
              "      <th>count</th>\n",
              "      <th>percentage</th>\n",
              "    </tr>\n",
              "  </thead>\n",
              "  <tbody>\n",
              "    <tr>\n",
              "      <th>mast cell</th>\n",
              "      <td>42</td>\n",
              "      <td>1.0</td>\n",
              "    </tr>\n",
              "  </tbody>\n",
              "</table>\n",
              "</div>"
            ],
            "text/plain": [
              "           count  percentage\n",
              "mast cell     42         1.0"
            ]
          },
          "metadata": {},
          "execution_count": 35
        }
      ]
    },
    {
      "cell_type": "markdown",
      "metadata": {
        "id": "Oz8Wf3mNWtbn"
      },
      "source": [
        "## 8.4 Killer Cells"
      ]
    },
    {
      "cell_type": "code",
      "metadata": {
        "id": "y6M-Hc7pWtbo"
      },
      "source": [
        "df_killer = data[data['cell_type'] == 'killer cell']"
      ],
      "execution_count": 36,
      "outputs": []
    },
    {
      "cell_type": "code",
      "metadata": {
        "colab": {
          "base_uri": "https://localhost:8080/",
          "height": 81
        },
        "id": "fPQf-V1UWtbp",
        "outputId": "98d23b2b-2b13-47e9-8aa0-c95f7c425619"
      },
      "source": [
        "count_celltype = pd.concat([pd.DataFrame({'count': df_killer['cell_state'].value_counts()}), pd.DataFrame({'percentage': df_killer['cell_state'].value_counts(normalize=True)})], axis=1)\n",
        "count_celltype"
      ],
      "execution_count": 37,
      "outputs": [
        {
          "output_type": "execute_result",
          "data": {
            "text/html": [
              "<div>\n",
              "<style scoped>\n",
              "    .dataframe tbody tr th:only-of-type {\n",
              "        vertical-align: middle;\n",
              "    }\n",
              "\n",
              "    .dataframe tbody tr th {\n",
              "        vertical-align: top;\n",
              "    }\n",
              "\n",
              "    .dataframe thead th {\n",
              "        text-align: right;\n",
              "    }\n",
              "</style>\n",
              "<table border=\"1\" class=\"dataframe\">\n",
              "  <thead>\n",
              "    <tr style=\"text-align: right;\">\n",
              "      <th></th>\n",
              "      <th>count</th>\n",
              "      <th>percentage</th>\n",
              "    </tr>\n",
              "  </thead>\n",
              "  <tbody>\n",
              "    <tr>\n",
              "      <th>natural killer cell</th>\n",
              "      <td>186</td>\n",
              "      <td>1.0</td>\n",
              "    </tr>\n",
              "  </tbody>\n",
              "</table>\n",
              "</div>"
            ],
            "text/plain": [
              "                     count  percentage\n",
              "natural killer cell    186         1.0"
            ]
          },
          "metadata": {},
          "execution_count": 37
        }
      ]
    },
    {
      "cell_type": "markdown",
      "metadata": {
        "id": "qfoAHyw6W3-C"
      },
      "source": [
        "## 8.5 Lymphocyte"
      ]
    },
    {
      "cell_type": "code",
      "metadata": {
        "id": "rDbYc1lyW3-D"
      },
      "source": [
        "df_lymphocyte= data[data['cell_type'] == 'lymphocyte']"
      ],
      "execution_count": 38,
      "outputs": []
    },
    {
      "cell_type": "code",
      "metadata": {
        "colab": {
          "base_uri": "https://localhost:8080/",
          "height": 81
        },
        "id": "riTn7T7LW3-E",
        "outputId": "f3ce3945-12e4-431f-e11b-7751a5c5e860"
      },
      "source": [
        "count_celltype = pd.concat([pd.DataFrame({'count': df_lymphocyte['cell_state'].value_counts()}), pd.DataFrame({'percentage': df_lymphocyte['cell_state'].value_counts(normalize=True)})], axis=1)\n",
        "count_celltype"
      ],
      "execution_count": 39,
      "outputs": [
        {
          "output_type": "execute_result",
          "data": {
            "text/html": [
              "<div>\n",
              "<style scoped>\n",
              "    .dataframe tbody tr th:only-of-type {\n",
              "        vertical-align: middle;\n",
              "    }\n",
              "\n",
              "    .dataframe tbody tr th {\n",
              "        vertical-align: top;\n",
              "    }\n",
              "\n",
              "    .dataframe thead th {\n",
              "        text-align: right;\n",
              "    }\n",
              "</style>\n",
              "<table border=\"1\" class=\"dataframe\">\n",
              "  <thead>\n",
              "    <tr style=\"text-align: right;\">\n",
              "      <th></th>\n",
              "      <th>count</th>\n",
              "      <th>percentage</th>\n",
              "    </tr>\n",
              "  </thead>\n",
              "  <tbody>\n",
              "    <tr>\n",
              "      <th>lymphocyte</th>\n",
              "      <td>62</td>\n",
              "      <td>1.0</td>\n",
              "    </tr>\n",
              "  </tbody>\n",
              "</table>\n",
              "</div>"
            ],
            "text/plain": [
              "            count  percentage\n",
              "lymphocyte     62         1.0"
            ]
          },
          "metadata": {},
          "execution_count": 39
        }
      ]
    },
    {
      "cell_type": "markdown",
      "metadata": {
        "id": "xqrevOJwXEaZ"
      },
      "source": [
        "## 8.6  Leukocyte"
      ]
    },
    {
      "cell_type": "code",
      "metadata": {
        "id": "LUhZKWZbXEab"
      },
      "source": [
        "df_leukocyte= data[data['cell_type'] == 'leukocyte']"
      ],
      "execution_count": 40,
      "outputs": []
    },
    {
      "cell_type": "code",
      "metadata": {
        "colab": {
          "base_uri": "https://localhost:8080/",
          "height": 81
        },
        "id": "jR8MqxWHXEab",
        "outputId": "203f5856-0b9a-455f-b7da-00470af47d86"
      },
      "source": [
        "count_celltype = pd.concat([pd.DataFrame({'count': df_leukocyte['cell_state'].value_counts()}), pd.DataFrame({'percentage': df_leukocyte['cell_state'].value_counts(normalize=True)})], axis=1)\n",
        "count_celltype"
      ],
      "execution_count": 41,
      "outputs": [
        {
          "output_type": "execute_result",
          "data": {
            "text/html": [
              "<div>\n",
              "<style scoped>\n",
              "    .dataframe tbody tr th:only-of-type {\n",
              "        vertical-align: middle;\n",
              "    }\n",
              "\n",
              "    .dataframe tbody tr th {\n",
              "        vertical-align: top;\n",
              "    }\n",
              "\n",
              "    .dataframe thead th {\n",
              "        text-align: right;\n",
              "    }\n",
              "</style>\n",
              "<table border=\"1\" class=\"dataframe\">\n",
              "  <thead>\n",
              "    <tr style=\"text-align: right;\">\n",
              "      <th></th>\n",
              "      <th>count</th>\n",
              "      <th>percentage</th>\n",
              "    </tr>\n",
              "  </thead>\n",
              "  <tbody>\n",
              "    <tr>\n",
              "      <th>leukocyte</th>\n",
              "      <td>11</td>\n",
              "      <td>1.0</td>\n",
              "    </tr>\n",
              "  </tbody>\n",
              "</table>\n",
              "</div>"
            ],
            "text/plain": [
              "           count  percentage\n",
              "leukocyte     11         1.0"
            ]
          },
          "metadata": {},
          "execution_count": 41
        }
      ]
    },
    {
      "cell_type": "markdown",
      "metadata": {
        "id": "XuTk7ivKXF3c"
      },
      "source": [
        "## 8.7 Granulocyte"
      ]
    },
    {
      "cell_type": "code",
      "metadata": {
        "id": "X4wSdCTHXF3c"
      },
      "source": [
        "df_granulocyte= data[data['cell_type'] == 'granulocyte']"
      ],
      "execution_count": 42,
      "outputs": []
    },
    {
      "cell_type": "code",
      "metadata": {
        "colab": {
          "base_uri": "https://localhost:8080/",
          "height": 81
        },
        "id": "-0kHx01CXF3d",
        "outputId": "e8aa7e3c-abfb-44b0-ae62-9b664e33de34"
      },
      "source": [
        "count_celltype = pd.concat([pd.DataFrame({'count': df_granulocyte['cell_state'].value_counts()}), pd.DataFrame({'percentage': df_granulocyte['cell_state'].value_counts(normalize=True)})], axis=1)\n",
        "count_celltype"
      ],
      "execution_count": 43,
      "outputs": [
        {
          "output_type": "execute_result",
          "data": {
            "text/html": [
              "<div>\n",
              "<style scoped>\n",
              "    .dataframe tbody tr th:only-of-type {\n",
              "        vertical-align: middle;\n",
              "    }\n",
              "\n",
              "    .dataframe tbody tr th {\n",
              "        vertical-align: top;\n",
              "    }\n",
              "\n",
              "    .dataframe thead th {\n",
              "        text-align: right;\n",
              "    }\n",
              "</style>\n",
              "<table border=\"1\" class=\"dataframe\">\n",
              "  <thead>\n",
              "    <tr style=\"text-align: right;\">\n",
              "      <th></th>\n",
              "      <th>count</th>\n",
              "      <th>percentage</th>\n",
              "    </tr>\n",
              "  </thead>\n",
              "  <tbody>\n",
              "    <tr>\n",
              "      <th>granulocyte</th>\n",
              "      <td>64</td>\n",
              "      <td>1.0</td>\n",
              "    </tr>\n",
              "  </tbody>\n",
              "</table>\n",
              "</div>"
            ],
            "text/plain": [
              "             count  percentage\n",
              "granulocyte     64         1.0"
            ]
          },
          "metadata": {},
          "execution_count": 43
        }
      ]
    }
  ]
}